{
 "cells": [
  {
   "cell_type": "markdown",
   "metadata": {},
   "source": [
    "## Importing Libraries"
   ]
  },
  {
   "cell_type": "code",
   "execution_count": 1,
   "metadata": {},
   "outputs": [
    {
     "name": "stderr",
     "output_type": "stream",
     "text": [
      "Using TensorFlow backend.\n"
     ]
    }
   ],
   "source": [
    "import numpy as np\n",
    "import pandas as pd\n",
    "from keras.layers.core import Dense, Activation, Dropout\n",
    "from keras.layers.recurrent import LSTM\n",
    "from keras.models import Sequential\n",
    "import matplotlib.pyplot as plt\n",
    "import time\n",
    "import datetime as dt\n",
    "import urllib.request, json\n",
    "import os\n",
    "from pandas_datareader import data\n",
    "import tweepy\n",
    "from textblob import TextBlob\n",
    "import re"
   ]
  },
  {
   "cell_type": "markdown",
   "metadata": {},
   "source": [
    "## Getting data using Alpha Vantage API"
   ]
  },
  {
   "cell_type": "code",
   "execution_count": 2,
   "metadata": {},
   "outputs": [
    {
     "name": "stdout",
     "output_type": "stream",
     "text": [
      "File already exists. Loading data from CSV\n"
     ]
    }
   ],
   "source": [
    "data_source = 'alphavantage'\n",
    "\n",
    "if data_source == 'alphavantage':\n",
    "    # ====================== Loading Data from Alpha Vantage ==================================\n",
    "\n",
    "    api_key = '7TONQ8CM5PXZ4YEO'\n",
    "\n",
    "    # INFY stock market prices\n",
    "    ticker = \"INFY\"\n",
    "\n",
    "    # JSON file with all the stock market data for INFY from the last 20 years\n",
    "    url_string = \"https://www.alphavantage.co/query?function=TIME_SERIES_DAILY&symbol=%s&outputsize=full&apikey=%s\"%(ticker,api_key)\n",
    "\n",
    "    # Save data to this file\n",
    "    file_to_save = 'stock_market_data-%s.csv'%ticker\n",
    "\n",
    "    # If you haven't already saved data,\n",
    "    # Go ahead and grab the data from the url\n",
    "    # And store date, low, high, volume, close, open values to a Pandas DataFrame\n",
    "    if not os.path.exists(file_to_save):\n",
    "        with urllib.request.urlopen(url_string) as url:\n",
    "            data = json.loads(url.read().decode())\n",
    "            # extract stock market data\n",
    "            data = data['Time Series (Daily)']\n",
    "            df = pd.DataFrame(columns=['Date','Low','High','Close','Open'])\n",
    "            for k,v in data.items():\n",
    "                date = dt.datetime.strptime(k, '%Y-%m-%d')\n",
    "                data_row = [date.date(),float(v['3. low']),float(v['2. high']),\n",
    "                            float(v['4. close']),float(v['1. open'])]\n",
    "                df.loc[-1,:] = data_row\n",
    "                df.index = df.index + 1\n",
    "        print('Data saved to : %s'%file_to_save)        \n",
    "        df.to_csv(file_to_save)\n",
    "\n",
    "    # If the data is already there, just load it from the CSV\n",
    "    else:\n",
    "        print('File already exists. Loading data from CSV')\n",
    "        df = pd.read_csv(file_to_save)"
   ]
  },
  {
   "cell_type": "code",
   "execution_count": 3,
   "metadata": {
    "collapsed": true
   },
   "outputs": [],
   "source": [
    "df = pd.read_csv(\"stock_market_data-INFY.csv\")"
   ]
  },
  {
   "cell_type": "code",
   "execution_count": 4,
   "metadata": {
    "collapsed": true
   },
   "outputs": [],
   "source": [
    "df = df[['Date', 'Open', 'Close', 'Low', 'High']]"
   ]
  },
  {
   "cell_type": "code",
   "execution_count": 5,
   "metadata": {
    "collapsed": true
   },
   "outputs": [],
   "source": [
    "df = df.sort_values('Date')"
   ]
  },
  {
   "cell_type": "code",
   "execution_count": 6,
   "metadata": {},
   "outputs": [
    {
     "data": {
      "text/html": [
       "<div>\n",
       "<style>\n",
       "    .dataframe thead tr:only-child th {\n",
       "        text-align: right;\n",
       "    }\n",
       "\n",
       "    .dataframe thead th {\n",
       "        text-align: left;\n",
       "    }\n",
       "\n",
       "    .dataframe tbody tr th {\n",
       "        vertical-align: top;\n",
       "    }\n",
       "</style>\n",
       "<table border=\"1\" class=\"dataframe\">\n",
       "  <thead>\n",
       "    <tr style=\"text-align: right;\">\n",
       "      <th></th>\n",
       "      <th>Date</th>\n",
       "      <th>Open</th>\n",
       "      <th>Close</th>\n",
       "      <th>Low</th>\n",
       "      <th>High</th>\n",
       "    </tr>\n",
       "  </thead>\n",
       "  <tbody>\n",
       "    <tr>\n",
       "      <th>2113</th>\n",
       "      <td>1999-03-11</td>\n",
       "      <td>38.50</td>\n",
       "      <td>46.88</td>\n",
       "      <td>37.38</td>\n",
       "      <td>50.00</td>\n",
       "    </tr>\n",
       "    <tr>\n",
       "      <th>1553</th>\n",
       "      <td>1999-03-12</td>\n",
       "      <td>47.00</td>\n",
       "      <td>46.63</td>\n",
       "      <td>43.00</td>\n",
       "      <td>48.75</td>\n",
       "    </tr>\n",
       "    <tr>\n",
       "      <th>2874</th>\n",
       "      <td>1999-03-15</td>\n",
       "      <td>46.75</td>\n",
       "      <td>42.38</td>\n",
       "      <td>42.13</td>\n",
       "      <td>46.75</td>\n",
       "    </tr>\n",
       "    <tr>\n",
       "      <th>976</th>\n",
       "      <td>1999-03-16</td>\n",
       "      <td>42.75</td>\n",
       "      <td>42.00</td>\n",
       "      <td>42.00</td>\n",
       "      <td>44.25</td>\n",
       "    </tr>\n",
       "    <tr>\n",
       "      <th>4249</th>\n",
       "      <td>1999-03-17</td>\n",
       "      <td>42.00</td>\n",
       "      <td>42.25</td>\n",
       "      <td>41.75</td>\n",
       "      <td>44.75</td>\n",
       "    </tr>\n",
       "  </tbody>\n",
       "</table>\n",
       "</div>"
      ],
      "text/plain": [
       "            Date   Open  Close    Low   High\n",
       "2113  1999-03-11  38.50  46.88  37.38  50.00\n",
       "1553  1999-03-12  47.00  46.63  43.00  48.75\n",
       "2874  1999-03-15  46.75  42.38  42.13  46.75\n",
       "976   1999-03-16  42.75  42.00  42.00  44.25\n",
       "4249  1999-03-17  42.00  42.25  41.75  44.75"
      ]
     },
     "execution_count": 6,
     "metadata": {},
     "output_type": "execute_result"
    }
   ],
   "source": [
    "df.head()"
   ]
  },
  {
   "cell_type": "code",
   "execution_count": 7,
   "metadata": {},
   "outputs": [
    {
     "data": {
      "text/html": [
       "<div>\n",
       "<style>\n",
       "    .dataframe thead tr:only-child th {\n",
       "        text-align: right;\n",
       "    }\n",
       "\n",
       "    .dataframe thead th {\n",
       "        text-align: left;\n",
       "    }\n",
       "\n",
       "    .dataframe tbody tr th {\n",
       "        vertical-align: top;\n",
       "    }\n",
       "</style>\n",
       "<table border=\"1\" class=\"dataframe\">\n",
       "  <thead>\n",
       "    <tr style=\"text-align: right;\">\n",
       "      <th></th>\n",
       "      <th>Date</th>\n",
       "      <th>Open</th>\n",
       "      <th>Close</th>\n",
       "      <th>Low</th>\n",
       "      <th>High</th>\n",
       "    </tr>\n",
       "  </thead>\n",
       "  <tbody>\n",
       "    <tr>\n",
       "      <th>2910</th>\n",
       "      <td>2018-09-28</td>\n",
       "      <td>10.22</td>\n",
       "      <td>10.1700</td>\n",
       "      <td>10.120</td>\n",
       "      <td>10.25</td>\n",
       "    </tr>\n",
       "    <tr>\n",
       "      <th>2607</th>\n",
       "      <td>2018-10-01</td>\n",
       "      <td>10.34</td>\n",
       "      <td>10.3700</td>\n",
       "      <td>10.295</td>\n",
       "      <td>10.39</td>\n",
       "    </tr>\n",
       "    <tr>\n",
       "      <th>1412</th>\n",
       "      <td>2018-10-02</td>\n",
       "      <td>10.32</td>\n",
       "      <td>10.2700</td>\n",
       "      <td>10.200</td>\n",
       "      <td>10.32</td>\n",
       "    </tr>\n",
       "    <tr>\n",
       "      <th>1142</th>\n",
       "      <td>2018-10-03</td>\n",
       "      <td>10.12</td>\n",
       "      <td>10.0400</td>\n",
       "      <td>10.010</td>\n",
       "      <td>10.15</td>\n",
       "    </tr>\n",
       "    <tr>\n",
       "      <th>3330</th>\n",
       "      <td>2018-10-04</td>\n",
       "      <td>10.12</td>\n",
       "      <td>9.8511</td>\n",
       "      <td>9.800</td>\n",
       "      <td>9.92</td>\n",
       "    </tr>\n",
       "  </tbody>\n",
       "</table>\n",
       "</div>"
      ],
      "text/plain": [
       "            Date   Open    Close     Low   High\n",
       "2910  2018-09-28  10.22  10.1700  10.120  10.25\n",
       "2607  2018-10-01  10.34  10.3700  10.295  10.39\n",
       "1412  2018-10-02  10.32  10.2700  10.200  10.32\n",
       "1142  2018-10-03  10.12  10.0400  10.010  10.15\n",
       "3330  2018-10-04  10.12   9.8511   9.800   9.92"
      ]
     },
     "execution_count": 7,
     "metadata": {},
     "output_type": "execute_result"
    }
   ],
   "source": [
    "df.tail()"
   ]
  },
  {
   "cell_type": "code",
   "execution_count": 8,
   "metadata": {},
   "outputs": [
    {
     "data": {
      "image/png": "[encoded data removed]",
      "text/plain": [
       "<matplotlib.figure.Figure at 0x23afacbaba8>"
      ]
     },
     "metadata": {},
     "output_type": "display_data"
    }
   ],
   "source": [
    "plt.figure(figsize = (18,9))\n",
    "plt.plot(range(df.shape[0]),(df['Low']+df['High'])/2.0)\n",
    "plt.xticks(range(0,df.shape[0],100),df['Date'].loc[::100],rotation=45)\n",
    "plt.xlabel('Date',fontsize=18)\n",
    "plt.ylabel('Mid Price',fontsize=18)\n",
    "plt.show()"
   ]
  },
  {
   "cell_type": "code",
   "execution_count": 9,
   "metadata": {
    "collapsed": true
   },
   "outputs": [],
   "source": [
    "high_prices = df.loc[:,'High']\n",
    "low_prices = df.loc[:,'Low']\n",
    "df[\"Mid Prices\"] = (high_prices+low_prices)/2.0"
   ]
  },
  {
   "cell_type": "code",
   "execution_count": 10,
   "metadata": {
    "scrolled": true
   },
   "outputs": [
    {
     "data": {
      "text/html": [
       "<div>\n",
       "<style>\n",
       "    .dataframe thead tr:only-child th {\n",
       "        text-align: right;\n",
       "    }\n",
       "\n",
       "    .dataframe thead th {\n",
       "        text-align: left;\n",
       "    }\n",
       "\n",
       "    .dataframe tbody tr th {\n",
       "        vertical-align: top;\n",
       "    }\n",
       "</style>\n",
       "<table border=\"1\" class=\"dataframe\">\n",
       "  <thead>\n",
       "    <tr style=\"text-align: right;\">\n",
       "      <th></th>\n",
       "      <th>Date</th>\n",
       "      <th>Open</th>\n",
       "      <th>Close</th>\n",
       "      <th>Low</th>\n",
       "      <th>High</th>\n",
       "      <th>Mid Prices</th>\n",
       "    </tr>\n",
       "  </thead>\n",
       "  <tbody>\n",
       "    <tr>\n",
       "      <th>2113</th>\n",
       "      <td>1999-03-11</td>\n",
       "      <td>38.50</td>\n",
       "      <td>46.88</td>\n",
       "      <td>37.38</td>\n",
       "      <td>50.00</td>\n",
       "      <td>43.690</td>\n",
       "    </tr>\n",
       "    <tr>\n",
       "      <th>1553</th>\n",
       "      <td>1999-03-12</td>\n",
       "      <td>47.00</td>\n",
       "      <td>46.63</td>\n",
       "      <td>43.00</td>\n",
       "      <td>48.75</td>\n",
       "      <td>45.875</td>\n",
       "    </tr>\n",
       "    <tr>\n",
       "      <th>2874</th>\n",
       "      <td>1999-03-15</td>\n",
       "      <td>46.75</td>\n",
       "      <td>42.38</td>\n",
       "      <td>42.13</td>\n",
       "      <td>46.75</td>\n",
       "      <td>44.440</td>\n",
       "    </tr>\n",
       "    <tr>\n",
       "      <th>976</th>\n",
       "      <td>1999-03-16</td>\n",
       "      <td>42.75</td>\n",
       "      <td>42.00</td>\n",
       "      <td>42.00</td>\n",
       "      <td>44.25</td>\n",
       "      <td>43.125</td>\n",
       "    </tr>\n",
       "    <tr>\n",
       "      <th>4249</th>\n",
       "      <td>1999-03-17</td>\n",
       "      <td>42.00</td>\n",
       "      <td>42.25</td>\n",
       "      <td>41.75</td>\n",
       "      <td>44.75</td>\n",
       "      <td>43.250</td>\n",
       "    </tr>\n",
       "  </tbody>\n",
       "</table>\n",
       "</div>"
      ],
      "text/plain": [
       "            Date   Open  Close    Low   High  Mid Prices\n",
       "2113  1999-03-11  38.50  46.88  37.38  50.00      43.690\n",
       "1553  1999-03-12  47.00  46.63  43.00  48.75      45.875\n",
       "2874  1999-03-15  46.75  42.38  42.13  46.75      44.440\n",
       "976   1999-03-16  42.75  42.00  42.00  44.25      43.125\n",
       "4249  1999-03-17  42.00  42.25  41.75  44.75      43.250"
      ]
     },
     "execution_count": 10,
     "metadata": {},
     "output_type": "execute_result"
    }
   ],
   "source": [
    "df.head()"
   ]
  },
  {
   "cell_type": "markdown",
   "metadata": {},
   "source": [
    "## Data Cleaning"
   ]
  },
  {
   "cell_type": "code",
   "execution_count": 11,
   "metadata": {
    "collapsed": true
   },
   "outputs": [],
   "source": [
    "df.drop(\"Date\", axis = 1,inplace = True)"
   ]
  },
  {
   "cell_type": "code",
   "execution_count": 12,
   "metadata": {
    "collapsed": true
   },
   "outputs": [],
   "source": [
    "from sklearn.preprocessing import StandardScaler"
   ]
  },
  {
   "cell_type": "code",
   "execution_count": 13,
   "metadata": {},
   "outputs": [
    {
     "data": {
      "text/plain": [
       "StandardScaler(copy=True, with_mean=True, with_std=True)"
      ]
     },
     "execution_count": 13,
     "metadata": {},
     "output_type": "execute_result"
    }
   ],
   "source": [
    "scaler = StandardScaler()\n",
    "scaler.fit(df)"
   ]
  },
  {
   "cell_type": "code",
   "execution_count": 14,
   "metadata": {
    "collapsed": true
   },
   "outputs": [],
   "source": [
    "df = scaler.transform(df)"
   ]
  },
  {
   "cell_type": "markdown",
   "metadata": {},
   "source": [
    "## Building Long-Short Term Memory Cell to implement Recurrent Neural Network"
   ]
  },
  {
   "cell_type": "code",
   "execution_count": 15,
   "metadata": {
    "collapsed": true
   },
   "outputs": [],
   "source": [
    "def build_model(layers):\n",
    "    model = Sequential()\n",
    "\n",
    "    model.add(LSTM(\n",
    "        input_shape=(None, layers[0]),\n",
    "        units=50,\n",
    "        return_sequences=True))\n",
    "    model.add(Dropout(0.2))\n",
    "\n",
    "    model.add(LSTM(\n",
    "        100,\n",
    "        return_sequences=False))\n",
    "    model.add(Dropout(0.2))\n",
    "\n",
    "    model.add(Dense(\n",
    "        units=1))\n",
    "    model.add(Activation('linear'))\n",
    "\n",
    "    start = time.time()\n",
    "    model.compile(loss='mse', optimizer='rmsprop')\n",
    "    print ('compilation time : ', time.time() - start)\n",
    "    return model"
   ]
  },
  {
   "cell_type": "markdown",
   "metadata": {},
   "source": [
    "## Load data as per model requirements"
   ]
  },
  {
   "cell_type": "code",
   "execution_count": 16,
   "metadata": {
    "collapsed": true
   },
   "outputs": [],
   "source": [
    "def load_data(stock, seq_len):\n",
    "    amount_of_features = 5\n",
    "    data = stock\n",
    "    sequence_length = seq_len + 1\n",
    "    result = []\n",
    "    for index in range(len(data) - sequence_length):\n",
    "        result.append(data[index: index + sequence_length])\n",
    "    \n",
    "    result =  np.array(result)\n",
    "    row = round(0.9 * result.shape[0])\n",
    "    train = result[:int(row), :]\n",
    "    x_train = train[:, :-1]\n",
    "    y_train = train[:, -1][:,-1]\n",
    "    x_test = result[int(row):, :-1]\n",
    "    y_test = result[int(row):, -1][:,-1]\n",
    "\n",
    "    x_train = np.reshape(x_train, (x_train.shape[0], x_train.shape[1], amount_of_features))\n",
    "    x_test = np.reshape(x_test, (x_test.shape[0], x_test.shape[1], amount_of_features))  \n",
    "\n",
    "    return [x_train, y_train, x_test, y_test]"
   ]
  },
  {
   "cell_type": "code",
   "execution_count": 17,
   "metadata": {},
   "outputs": [
    {
     "name": "stdout",
     "output_type": "stream",
     "text": [
      "X_train (4428, 5, 5)\n",
      "y_train (4428,)\n",
      "X_test (492, 5, 5)\n",
      "y_test (492,)\n"
     ]
    }
   ],
   "source": [
    "window = 5\n",
    "X_train, y_train, X_test, y_test = load_data(df, window)\n",
    "print(\"X_train\", X_train.shape)\n",
    "print(\"y_train\", y_train.shape)\n",
    "print(\"X_test\", X_test.shape)\n",
    "print(\"y_test\", y_test.shape)"
   ]
  },
  {
   "cell_type": "code",
   "execution_count": 18,
   "metadata": {},
   "outputs": [
    {
     "name": "stdout",
     "output_type": "stream",
     "text": [
      "compilation time :  0.046828269958496094\n"
     ]
    }
   ],
   "source": [
    "model = build_model([5,window,1])"
   ]
  },
  {
   "cell_type": "markdown",
   "metadata": {},
   "source": [
    "## Training Time!"
   ]
  },
  {
   "cell_type": "code",
   "execution_count": 19,
   "metadata": {
    "scrolled": true
   },
   "outputs": [
    {
     "name": "stdout",
     "output_type": "stream",
     "text": [
      "Train on 3985 samples, validate on 443 samples\n",
      "Epoch 1/100\n",
      "3985/3985 [==============================] - 5s 1ms/step - loss: 0.4196 - val_loss: 0.0403\n",
      "Epoch 2/100\n",
      "3985/3985 [==============================] - 1s 277us/step - loss: 0.0788 - val_loss: 0.0789\n",
      "Epoch 3/100\n",
      "3985/3985 [==============================] - 1s 266us/step - loss: 0.0612 - val_loss: 0.0915\n",
      "Epoch 4/100\n",
      "3985/3985 [==============================] - 1s 261us/step - loss: 0.0573 - val_loss: 0.0603\n",
      "Epoch 5/100\n",
      "3985/3985 [==============================] - 1s 268us/step - loss: 0.0551 - val_loss: 0.0178\n",
      "Epoch 6/100\n",
      "3985/3985 [==============================] - 1s 258us/step - loss: 0.0596 - val_loss: 0.0156\n",
      "Epoch 7/100\n",
      "3985/3985 [==============================] - 1s 258us/step - loss: 0.0487 - val_loss: 0.0097\n",
      "Epoch 8/100\n",
      "3985/3985 [==============================] - 1s 245us/step - loss: 0.0514 - val_loss: 0.0036\n",
      "Epoch 9/100\n",
      "3985/3985 [==============================] - 1s 252us/step - loss: 0.0505 - val_loss: 0.0024\n",
      "Epoch 10/100\n",
      "3985/3985 [==============================] - 1s 247us/step - loss: 0.0447 - val_loss: 0.0018\n",
      "Epoch 11/100\n",
      "3985/3985 [==============================] - 1s 244us/step - loss: 0.0469 - val_loss: 0.0017\n",
      "Epoch 12/100\n",
      "3985/3985 [==============================] - 1s 242us/step - loss: 0.0464 - val_loss: 0.0059\n",
      "Epoch 13/100\n",
      "3985/3985 [==============================] - 1s 253us/step - loss: 0.0472 - val_loss: 0.0012\n",
      "Epoch 14/100\n",
      "3985/3985 [==============================] - 1s 261us/step - loss: 0.0541 - val_loss: 0.0067\n",
      "Epoch 15/100\n",
      "3985/3985 [==============================] - 1s 270us/step - loss: 0.0377 - val_loss: 0.0015\n",
      "Epoch 16/100\n",
      "3985/3985 [==============================] - 1s 247us/step - loss: 0.0526 - val_loss: 0.0030\n",
      "Epoch 17/100\n",
      "3985/3985 [==============================] - 1s 244us/step - loss: 0.0407 - val_loss: 0.0084\n",
      "Epoch 18/100\n",
      "3985/3985 [==============================] - 1s 237us/step - loss: 0.0445 - val_loss: 0.0047\n",
      "Epoch 19/100\n",
      "3985/3985 [==============================] - 1s 242us/step - loss: 0.0426 - val_loss: 0.0065\n",
      "Epoch 20/100\n",
      "3985/3985 [==============================] - 1s 249us/step - loss: 0.0410 - val_loss: 0.0010\n",
      "Epoch 21/100\n",
      "3985/3985 [==============================] - 1s 242us/step - loss: 0.0398 - val_loss: 0.0064\n",
      "Epoch 22/100\n",
      "3985/3985 [==============================] - 1s 245us/step - loss: 0.0469 - val_loss: 0.0028\n",
      "Epoch 23/100\n",
      "3985/3985 [==============================] - 1s 243us/step - loss: 0.0334 - val_loss: 0.0013\n",
      "Epoch 24/100\n",
      "3985/3985 [==============================] - 1s 249us/step - loss: 0.0464 - val_loss: 0.0012\n",
      "Epoch 25/100\n",
      "3985/3985 [==============================] - 1s 236us/step - loss: 0.0368 - val_loss: 0.0014\n",
      "Epoch 26/100\n",
      "3985/3985 [==============================] - 1s 252us/step - loss: 0.0308 - val_loss: 9.4952e-04\n",
      "Epoch 27/100\n",
      "3985/3985 [==============================] - 1s 247us/step - loss: 0.0374 - val_loss: 0.0165\n",
      "Epoch 28/100\n",
      "3985/3985 [==============================] - 1s 255us/step - loss: 0.0366 - val_loss: 0.0033\n",
      "Epoch 29/100\n",
      "3985/3985 [==============================] - 1s 236us/step - loss: 0.0315 - val_loss: 0.0109\n",
      "Epoch 30/100\n",
      "3985/3985 [==============================] - 1s 240us/step - loss: 0.0452 - val_loss: 0.0015\n",
      "Epoch 31/100\n",
      "3985/3985 [==============================] - 1s 245us/step - loss: 0.0312 - val_loss: 0.0038\n",
      "Epoch 32/100\n",
      "3985/3985 [==============================] - 1s 231us/step - loss: 0.0420 - val_loss: 0.0021\n",
      "Epoch 33/100\n",
      "3985/3985 [==============================] - 1s 243us/step - loss: 0.0415 - val_loss: 0.0021\n",
      "Epoch 34/100\n",
      "3985/3985 [==============================] - 1s 222us/step - loss: 0.0285 - val_loss: 0.0024\n",
      "Epoch 35/100\n",
      "3985/3985 [==============================] - 1s 238us/step - loss: 0.0345 - val_loss: 7.8442e-04\n",
      "Epoch 36/100\n",
      "3985/3985 [==============================] - 1s 236us/step - loss: 0.0303 - val_loss: 0.0030\n",
      "Epoch 37/100\n",
      "3985/3985 [==============================] - 1s 231us/step - loss: 0.0301 - val_loss: 0.0012\n",
      "Epoch 38/100\n",
      "3985/3985 [==============================] - 1s 249us/step - loss: 0.0334 - val_loss: 0.0029\n",
      "Epoch 39/100\n",
      "3985/3985 [==============================] - 1s 238us/step - loss: 0.0324 - val_loss: 0.0071\n",
      "Epoch 40/100\n",
      "3985/3985 [==============================] - 1s 240us/step - loss: 0.0336 - val_loss: 0.0022\n",
      "Epoch 41/100\n",
      "3985/3985 [==============================] - 1s 231us/step - loss: 0.0267 - val_loss: 0.0047\n",
      "Epoch 42/100\n",
      "3985/3985 [==============================] - 1s 237us/step - loss: 0.0276 - val_loss: 0.0010\n",
      "Epoch 43/100\n",
      "3985/3985 [==============================] - 1s 260us/step - loss: 0.0306 - val_loss: 9.0892e-04\n",
      "Epoch 44/100\n",
      "3985/3985 [==============================] - 1s 237us/step - loss: 0.0272 - val_loss: 0.0013\n",
      "Epoch 45/100\n",
      "3985/3985 [==============================] - 1s 262us/step - loss: 0.0281 - val_loss: 7.0603e-04\n",
      "Epoch 46/100\n",
      "3985/3985 [==============================] - 1s 238us/step - loss: 0.0276 - val_loss: 0.0037\n",
      "Epoch 47/100\n",
      "3985/3985 [==============================] - 1s 264us/step - loss: 0.0309 - val_loss: 0.0018\n",
      "Epoch 48/100\n",
      "3985/3985 [==============================] - 1s 234us/step - loss: 0.0268 - val_loss: 0.0013\n",
      "Epoch 49/100\n",
      "3985/3985 [==============================] - 1s 235us/step - loss: 0.0293 - val_loss: 0.0012\n",
      "Epoch 50/100\n",
      "3985/3985 [==============================] - 1s 229us/step - loss: 0.0259 - val_loss: 9.6697e-04\n",
      "Epoch 51/100\n",
      "3985/3985 [==============================] - 1s 232us/step - loss: 0.0254 - val_loss: 0.0084\n",
      "Epoch 52/100\n",
      "3985/3985 [==============================] - 1s 242us/step - loss: 0.0352 - val_loss: 7.9840e-04\n",
      "Epoch 53/100\n",
      "3985/3985 [==============================] - 1s 228us/step - loss: 0.0215 - val_loss: 0.0013\n",
      "Epoch 54/100\n",
      "3985/3985 [==============================] - 1s 232us/step - loss: 0.0268 - val_loss: 0.0033\n",
      "Epoch 55/100\n",
      "3985/3985 [==============================] - 1s 223us/step - loss: 0.0284 - val_loss: 6.8851e-04\n",
      "Epoch 56/100\n",
      "3985/3985 [==============================] - 1s 241us/step - loss: 0.0221 - val_loss: 0.0047\n",
      "Epoch 57/100\n",
      "3985/3985 [==============================] - 1s 226us/step - loss: 0.0214 - val_loss: 0.0068\n",
      "Epoch 58/100\n",
      "3985/3985 [==============================] - 1s 240us/step - loss: 0.0230 - val_loss: 0.0032\n",
      "Epoch 59/100\n",
      "3985/3985 [==============================] - 1s 233us/step - loss: 0.0223 - val_loss: 9.2601e-04\n",
      "Epoch 60/100\n",
      "3985/3985 [==============================] - 1s 230us/step - loss: 0.0227 - val_loss: 9.8092e-04\n",
      "Epoch 61/100\n",
      "3985/3985 [==============================] - 1s 228us/step - loss: 0.0223 - val_loss: 0.0029\n",
      "Epoch 62/100\n",
      "3985/3985 [==============================] - 1s 239us/step - loss: 0.0279 - val_loss: 8.0915e-04\n",
      "Epoch 63/100\n",
      "3985/3985 [==============================] - 1s 251us/step - loss: 0.0221 - val_loss: 6.4365e-04\n",
      "Epoch 64/100\n",
      "3985/3985 [==============================] - 1s 241us/step - loss: 0.0231 - val_loss: 8.8798e-04\n",
      "Epoch 65/100\n",
      "3985/3985 [==============================] - 1s 228us/step - loss: 0.0195 - val_loss: 0.0010\n",
      "Epoch 66/100\n",
      "3985/3985 [==============================] - 1s 228us/step - loss: 0.0223 - val_loss: 0.0014\n",
      "Epoch 67/100\n",
      "3985/3985 [==============================] - 1s 235us/step - loss: 0.0269 - val_loss: 0.0013\n",
      "Epoch 68/100\n",
      "3985/3985 [==============================] - 1s 225us/step - loss: 0.0214 - val_loss: 0.0074\n",
      "Epoch 69/100\n",
      "3985/3985 [==============================] - 1s 230us/step - loss: 0.0185 - val_loss: 0.0011\n",
      "Epoch 70/100\n",
      "3985/3985 [==============================] - 1s 232us/step - loss: 0.0236 - val_loss: 6.3428e-04\n",
      "Epoch 71/100\n",
      "3985/3985 [==============================] - 1s 239us/step - loss: 0.0188 - val_loss: 0.0034\n",
      "Epoch 72/100\n",
      "3985/3985 [==============================] - 1s 244us/step - loss: 0.0209 - val_loss: 6.9064e-04\n",
      "Epoch 73/100\n",
      "3985/3985 [==============================] - 1s 238us/step - loss: 0.0142 - val_loss: 8.4984e-04\n",
      "Epoch 74/100\n",
      "3985/3985 [==============================] - 1s 240us/step - loss: 0.0221 - val_loss: 6.4741e-04\n",
      "Epoch 75/100\n",
      "3985/3985 [==============================] - 1s 241us/step - loss: 0.0173 - val_loss: 8.2696e-04\n",
      "Epoch 76/100\n",
      "3985/3985 [==============================] - 1s 225us/step - loss: 0.0182 - val_loss: 0.0021\n",
      "Epoch 77/100\n"
     ]
    },
    {
     "name": "stdout",
     "output_type": "stream",
     "text": [
      "3985/3985 [==============================] - 1s 229us/step - loss: 0.0225 - val_loss: 0.0143\n",
      "Epoch 78/100\n",
      "3985/3985 [==============================] - 1s 249us/step - loss: 0.0197 - val_loss: 7.1517e-04\n",
      "Epoch 79/100\n",
      "3985/3985 [==============================] - 1s 246us/step - loss: 0.0201 - val_loss: 0.0020\n",
      "Epoch 80/100\n",
      "3985/3985 [==============================] - 1s 234us/step - loss: 0.0223 - val_loss: 8.0921e-04\n",
      "Epoch 81/100\n",
      "3985/3985 [==============================] - 1s 258us/step - loss: 0.0117 - val_loss: 0.0021\n",
      "Epoch 82/100\n",
      "3985/3985 [==============================] - 1s 239us/step - loss: 0.0185 - val_loss: 6.4786e-04\n",
      "Epoch 83/100\n",
      "3985/3985 [==============================] - 1s 242us/step - loss: 0.0197 - val_loss: 0.0011\n",
      "Epoch 84/100\n",
      "3985/3985 [==============================] - 1s 255us/step - loss: 0.0139 - val_loss: 0.0044\n",
      "Epoch 85/100\n",
      "3985/3985 [==============================] - 1s 238us/step - loss: 0.0194 - val_loss: 0.0063\n",
      "Epoch 86/100\n",
      "3985/3985 [==============================] - 1s 245us/step - loss: 0.0198 - val_loss: 6.3955e-04\n",
      "Epoch 87/100\n",
      "3985/3985 [==============================] - 1s 248us/step - loss: 0.0170 - val_loss: 0.0011\n",
      "Epoch 88/100\n",
      "3985/3985 [==============================] - 1s 241us/step - loss: 0.0177 - val_loss: 0.0026\n",
      "Epoch 89/100\n",
      "3985/3985 [==============================] - 1s 245us/step - loss: 0.0130 - val_loss: 0.0059\n",
      "Epoch 90/100\n",
      "3985/3985 [==============================] - 1s 249us/step - loss: 0.0174 - val_loss: 6.0427e-04\n",
      "Epoch 91/100\n",
      "3985/3985 [==============================] - 1s 237us/step - loss: 0.0139 - val_loss: 0.0031\n",
      "Epoch 92/100\n",
      "3985/3985 [==============================] - 1s 230us/step - loss: 0.0199 - val_loss: 6.7291e-04\n",
      "Epoch 93/100\n",
      "3985/3985 [==============================] - 1s 271us/step - loss: 0.0166 - val_loss: 0.0017\n",
      "Epoch 94/100\n",
      "3985/3985 [==============================] - 1s 241us/step - loss: 0.0211 - val_loss: 0.0063\n",
      "Epoch 95/100\n",
      "3985/3985 [==============================] - 1s 260us/step - loss: 0.0151 - val_loss: 0.0016\n",
      "Epoch 96/100\n",
      "3985/3985 [==============================] - 1s 262us/step - loss: 0.0188 - val_loss: 0.0023\n",
      "Epoch 97/100\n",
      "3985/3985 [==============================] - 1s 251us/step - loss: 0.0159 - val_loss: 0.0133\n",
      "Epoch 98/100\n",
      "3985/3985 [==============================] - 1s 237us/step - loss: 0.0200 - val_loss: 5.9852e-04\n",
      "Epoch 99/100\n",
      "3985/3985 [==============================] - 1s 252us/step - loss: 0.0139 - val_loss: 6.4142e-04\n",
      "Epoch 100/100\n",
      "3985/3985 [==============================] - 1s 235us/step - loss: 0.0153 - val_loss: 8.0473e-04\n"
     ]
    },
    {
     "data": {
      "text/plain": [
       "<keras.callbacks.History at 0x23afcb96eb8>"
      ]
     },
     "execution_count": 19,
     "metadata": {},
     "output_type": "execute_result"
    }
   ],
   "source": [
    "model.fit(\n",
    "    X_train,\n",
    "    y_train,\n",
    "    batch_size=512,\n",
    "    epochs=100,\n",
    "    validation_split=0.1,\n",
    "    verbose=1)"
   ]
  },
  {
   "cell_type": "code",
   "execution_count": 20,
   "metadata": {},
   "outputs": [
    {
     "name": "stdout",
     "output_type": "stream",
     "text": [
      "0.00570710248636\n"
     ]
    }
   ],
   "source": [
    "trainScore = model.evaluate(X_train, y_train, verbose=0)\n",
    "print(trainScore)"
   ]
  },
  {
   "cell_type": "markdown",
   "metadata": {},
   "source": [
    "## Predictions"
   ]
  },
  {
   "cell_type": "code",
   "execution_count": 21,
   "metadata": {
    "collapsed": true
   },
   "outputs": [],
   "source": [
    "p = model.predict(X_test)"
   ]
  },
  {
   "cell_type": "markdown",
   "metadata": {},
   "source": [
    "## Visualizations"
   ]
  },
  {
   "cell_type": "code",
   "execution_count": 22,
   "metadata": {},
   "outputs": [
    {
     "data": {
      "image/png": "[encoded data removed]",
      "text/plain": [
       "<matplotlib.figure.Figure at 0x23afffe4470>"
      ]
     },
     "metadata": {},
     "output_type": "display_data"
    }
   ],
   "source": [
    "import matplotlib.pyplot as plt2\n",
    "plt2.figure(figsize = (18,9))\n",
    "plt2.plot(p,color='red', label='prediction')\n",
    "plt2.plot(y_test,color='blue', label='y_test')\n",
    "plt2.legend(loc='upper left')\n",
    "plt2.show()"
   ]
  },
  {
   "cell_type": "markdown",
   "metadata": {},
   "source": [
    "## Sentiment Analysis"
   ]
  },
  {
   "cell_type": "code",
   "execution_count": 23,
   "metadata": {
    "collapsed": true
   },
   "outputs": [],
   "source": [
    "consumer_key= 'E0pFYVai9VaOhqLiRBEC6gpGF'\n",
    "consumer_secret= 'XAMh4l9XL5nwFK3MN5tAjtXA2YgDN1tw5f7L2n6dz5ib8VYlbm'\n",
    "\n",
    "access_token='3261604734-86c7DOJP98GwNeFWzvgPQKFUTyHn1ZFwlloJP3v'\n",
    "access_token_secret='eXEmlEAdxaFjueVP03jsAWeOeNMkI7ToiDQkyvLDa6eX7'"
   ]
  },
  {
   "cell_type": "code",
   "execution_count": 24,
   "metadata": {
    "collapsed": true
   },
   "outputs": [],
   "source": [
    "auth = tweepy.OAuthHandler(consumer_key, consumer_secret)\n",
    "auth.set_access_token(access_token, access_token_secret)\n",
    "\n",
    "api = tweepy.API(auth)"
   ]
  },
  {
   "cell_type": "code",
   "execution_count": null,
   "metadata": {},
   "outputs": [],
   "source": [
    "public_tweets = api.search('Infosys', count = 1000)"
   ]
  },
  {
   "cell_type": "code",
   "execution_count": null,
   "metadata": {
    "collapsed": true
   },
   "outputs": [],
   "source": [
    "def clean_tweet(tweet):\n",
    "    return ' '.join(re.sub(\"(@[A-Za-z0-9]+)|([^0-9A-Za-z \\t])|(\\w+:\\/\\/\\S+)\", \" \", tweet).split())"
   ]
  },
  {
   "cell_type": "code",
   "execution_count": null,
   "metadata": {
    "collapsed": true
   },
   "outputs": [],
   "source": [
    "def get_tweet_sentiment(tweet):\n",
    "    analysis = TextBlob(clean_tweet(tweet))\n",
    "    if analysis.sentiment.polarity > 0:\n",
    "        return 'positive'\n",
    "    elif analysis.sentiment.polarity == 0:\n",
    "        return 'neutral'\n",
    "    else:\n",
    "        return 'negative'"
   ]
  },
  {
   "cell_type": "code",
   "execution_count": null,
   "metadata": {},
   "outputs": [],
   "source": [
    "positive = 0\n",
    "negative = 0\n",
    "neutral = 0\n",
    "print(len(public_tweets))\n",
    "for tweet in public_tweets:\n",
    "#     print(tweet.text)\n",
    "    print(clean_tweet(tweet.text))\n",
    "    sentiment = get_tweet_sentiment(tweet.text) \n",
    "    print(sentiment)\n",
    "    if sentiment == 'positive':\n",
    "        positive += 1\n",
    "    elif sentiment == 'negative':\n",
    "        negative += 1\n",
    "    elif sentiment == 'neutral':\n",
    "        neutral += 1\n",
    "    print(\"\")"
   ]
  },
  {
   "cell_type": "code",
   "execution_count": null,
   "metadata": {},
   "outputs": [],
   "source": [
    "print('Positive:', positive)\n",
    "print('Negative:', negative)\n",
    "print('Neutral:', neutral)"
   ]
  }
 ],
 "metadata": {
  "kernelspec": {
   "display_name": "Python 3",
   "language": "python",
   "name": "python3"
  },
  "language_info": {
   "codemirror_mode": {
    "name": "ipython",
    "version": 3
   },
   "file_extension": ".py",
   "mimetype": "text/x-python",
   "name": "python",
   "nbconvert_exporter": "python",
   "pygments_lexer": "ipython3",
   "version": "3.5.4"
  }
 },
 "nbformat": 4,
 "nbformat_minor": 2
}
