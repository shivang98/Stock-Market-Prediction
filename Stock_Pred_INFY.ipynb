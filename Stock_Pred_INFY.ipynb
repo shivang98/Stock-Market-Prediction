{
 "cells": [
  {
   "cell_type": "markdown",
   "metadata": {},
   "source": [
    "## Importing Libraries"
   ]
  },
  {
   "cell_type": "code",
   "execution_count": 1,
   "metadata": {},
   "outputs": [
    {
     "name": "stderr",
     "output_type": "stream",
     "text": [
      "Using TensorFlow backend.\n"
     ]
    }
   ],
   "source": [
    "import numpy as np\n",
    "import pandas as pd\n",
    "from keras.layers.core import Dense, Activation, Dropout\n",
    "from keras.layers.recurrent import LSTM\n",
    "from keras.models import Sequential\n",
    "import matplotlib.pyplot as plt\n",
    "import time\n",
    "import datetime as dt\n",
    "import urllib.request, json\n",
    "import os\n",
    "from pandas_datareader import data\n",
    "import tweepy\n",
    "from textblob import TextBlob\n",
    "import re"
   ]
  },
  {
   "cell_type": "markdown",
   "metadata": {},
   "source": [
    "## Getting data using Alpha Vantage API"
   ]
  },
  {
   "cell_type": "code",
   "execution_count": 2,
   "metadata": {},
   "outputs": [
    {
     "name": "stdout",
     "output_type": "stream",
     "text": [
      "File already exists. Loading data from CSV\n"
     ]
    }
   ],
   "source": [
    "data_source = 'alphavantage'\n",
    "\n",
    "if data_source == 'alphavantage':\n",
    "    # ====================== Loading Data from Alpha Vantage ==================================\n",
    "\n",
    "    api_key = '7TONQ8CM5PXZ4YEO'\n",
    "\n",
    "    # INFY stock market prices\n",
    "    ticker = \"INFY\"\n",
    "\n",
    "    # JSON file with all the stock market data for INFY from the last 20 years\n",
    "    url_string = \"https://www.alphavantage.co/query?function=TIME_SERIES_DAILY&symbol=%s&outputsize=full&apikey=%s\"%(ticker,api_key)\n",
    "\n",
    "    # Save data to this file\n",
    "    file_to_save = 'stock_market_data-%s.csv'%ticker\n",
    "\n",
    "    # If you haven't already saved data,\n",
    "    # Go ahead and grab the data from the url\n",
    "    # And store date, low, high, volume, close, open values to a Pandas DataFrame\n",
    "    if not os.path.exists(file_to_save):\n",
    "        with urllib.request.urlopen(url_string) as url:\n",
    "            data = json.loads(url.read().decode())\n",
    "            # extract stock market data\n",
    "            data = data['Time Series (Daily)']\n",
    "            df = pd.DataFrame(columns=['Date','Low','High','Close','Open'])\n",
    "            for k,v in data.items():\n",
    "                date = dt.datetime.strptime(k, '%Y-%m-%d')\n",
    "                data_row = [date.date(),float(v['3. low']),float(v['2. high']),\n",
    "                            float(v['4. close']),float(v['1. open'])]\n",
    "                df.loc[-1,:] = data_row\n",
    "                df.index = df.index + 1\n",
    "        print('Data saved to : %s'%file_to_save)        \n",
    "        df.to_csv(file_to_save)\n",
    "\n",
    "    # If the data is already there, just load it from the CSV\n",
    "    else:\n",
    "        print('File already exists. Loading data from CSV')\n",
    "        df = pd.read_csv(file_to_save)"
   ]
  },
  {
   "cell_type": "code",
   "execution_count": 3,
   "metadata": {
    "collapsed": true
   },
   "outputs": [],
   "source": [
    "df = pd.read_csv(\"stock_market_data-INFY.csv\")"
   ]
  },
  {
   "cell_type": "code",
   "execution_count": 4,
   "metadata": {
    "collapsed": true
   },
   "outputs": [],
   "source": [
    "df = df[['Date', 'Open', 'Close', 'Low', 'High']]"
   ]
  },
  {
   "cell_type": "code",
   "execution_count": 5,
   "metadata": {
    "collapsed": true
   },
   "outputs": [],
   "source": [
    "df = df.sort_values('Date')"
   ]
  },
  {
   "cell_type": "code",
   "execution_count": 6,
   "metadata": {},
   "outputs": [
    {
     "data": {
      "text/html": [
       "<div>\n",
       "<style>\n",
       "    .dataframe thead tr:only-child th {\n",
       "        text-align: right;\n",
       "    }\n",
       "\n",
       "    .dataframe thead th {\n",
       "        text-align: left;\n",
       "    }\n",
       "\n",
       "    .dataframe tbody tr th {\n",
       "        vertical-align: top;\n",
       "    }\n",
       "</style>\n",
       "<table border=\"1\" class=\"dataframe\">\n",
       "  <thead>\n",
       "    <tr style=\"text-align: right;\">\n",
       "      <th></th>\n",
       "      <th>Date</th>\n",
       "      <th>Open</th>\n",
       "      <th>Close</th>\n",
       "      <th>Low</th>\n",
       "      <th>High</th>\n",
       "    </tr>\n",
       "  </thead>\n",
       "  <tbody>\n",
       "    <tr>\n",
       "      <th>2113</th>\n",
       "      <td>1999-03-11</td>\n",
       "      <td>38.50</td>\n",
       "      <td>46.88</td>\n",
       "      <td>37.38</td>\n",
       "      <td>50.00</td>\n",
       "    </tr>\n",
       "    <tr>\n",
       "      <th>1553</th>\n",
       "      <td>1999-03-12</td>\n",
       "      <td>47.00</td>\n",
       "      <td>46.63</td>\n",
       "      <td>43.00</td>\n",
       "      <td>48.75</td>\n",
       "    </tr>\n",
       "    <tr>\n",
       "      <th>2874</th>\n",
       "      <td>1999-03-15</td>\n",
       "      <td>46.75</td>\n",
       "      <td>42.38</td>\n",
       "      <td>42.13</td>\n",
       "      <td>46.75</td>\n",
       "    </tr>\n",
       "    <tr>\n",
       "      <th>976</th>\n",
       "      <td>1999-03-16</td>\n",
       "      <td>42.75</td>\n",
       "      <td>42.00</td>\n",
       "      <td>42.00</td>\n",
       "      <td>44.25</td>\n",
       "    </tr>\n",
       "    <tr>\n",
       "      <th>4249</th>\n",
       "      <td>1999-03-17</td>\n",
       "      <td>42.00</td>\n",
       "      <td>42.25</td>\n",
       "      <td>41.75</td>\n",
       "      <td>44.75</td>\n",
       "    </tr>\n",
       "  </tbody>\n",
       "</table>\n",
       "</div>"
      ],
      "text/plain": [
       "            Date   Open  Close    Low   High\n",
       "2113  1999-03-11  38.50  46.88  37.38  50.00\n",
       "1553  1999-03-12  47.00  46.63  43.00  48.75\n",
       "2874  1999-03-15  46.75  42.38  42.13  46.75\n",
       "976   1999-03-16  42.75  42.00  42.00  44.25\n",
       "4249  1999-03-17  42.00  42.25  41.75  44.75"
      ]
     },
     "execution_count": 6,
     "metadata": {},
     "output_type": "execute_result"
    }
   ],
   "source": [
    "df.head()"
   ]
  },
  {
   "cell_type": "code",
   "execution_count": 7,
   "metadata": {},
   "outputs": [
    {
     "data": {
      "text/html": [
       "<div>\n",
       "<style>\n",
       "    .dataframe thead tr:only-child th {\n",
       "        text-align: right;\n",
       "    }\n",
       "\n",
       "    .dataframe thead th {\n",
       "        text-align: left;\n",
       "    }\n",
       "\n",
       "    .dataframe tbody tr th {\n",
       "        vertical-align: top;\n",
       "    }\n",
       "</style>\n",
       "<table border=\"1\" class=\"dataframe\">\n",
       "  <thead>\n",
       "    <tr style=\"text-align: right;\">\n",
       "      <th></th>\n",
       "      <th>Date</th>\n",
       "      <th>Open</th>\n",
       "      <th>Close</th>\n",
       "      <th>Low</th>\n",
       "      <th>High</th>\n",
       "    </tr>\n",
       "  </thead>\n",
       "  <tbody>\n",
       "    <tr>\n",
       "      <th>2910</th>\n",
       "      <td>2018-09-28</td>\n",
       "      <td>10.22</td>\n",
       "      <td>10.1700</td>\n",
       "      <td>10.120</td>\n",
       "      <td>10.25</td>\n",
       "    </tr>\n",
       "    <tr>\n",
       "      <th>2607</th>\n",
       "      <td>2018-10-01</td>\n",
       "      <td>10.34</td>\n",
       "      <td>10.3700</td>\n",
       "      <td>10.295</td>\n",
       "      <td>10.39</td>\n",
       "    </tr>\n",
       "    <tr>\n",
       "      <th>1412</th>\n",
       "      <td>2018-10-02</td>\n",
       "      <td>10.32</td>\n",
       "      <td>10.2700</td>\n",
       "      <td>10.200</td>\n",
       "      <td>10.32</td>\n",
       "    </tr>\n",
       "    <tr>\n",
       "      <th>1142</th>\n",
       "      <td>2018-10-03</td>\n",
       "      <td>10.12</td>\n",
       "      <td>10.0400</td>\n",
       "      <td>10.010</td>\n",
       "      <td>10.15</td>\n",
       "    </tr>\n",
       "    <tr>\n",
       "      <th>3330</th>\n",
       "      <td>2018-10-04</td>\n",
       "      <td>10.12</td>\n",
       "      <td>9.8511</td>\n",
       "      <td>9.800</td>\n",
       "      <td>9.92</td>\n",
       "    </tr>\n",
       "  </tbody>\n",
       "</table>\n",
       "</div>"
      ],
      "text/plain": [
       "            Date   Open    Close     Low   High\n",
       "2910  2018-09-28  10.22  10.1700  10.120  10.25\n",
       "2607  2018-10-01  10.34  10.3700  10.295  10.39\n",
       "1412  2018-10-02  10.32  10.2700  10.200  10.32\n",
       "1142  2018-10-03  10.12  10.0400  10.010  10.15\n",
       "3330  2018-10-04  10.12   9.8511   9.800   9.92"
      ]
     },
     "execution_count": 7,
     "metadata": {},
     "output_type": "execute_result"
    }
   ],
   "source": [
    "df.tail()"
   ]
  },
  {
   "cell_type": "code",
   "execution_count": 8,
   "metadata": {},
   "outputs": [
    {
     "data": {
      "image/png": "[encoded data removed]",
      "text/plain": [
       "<matplotlib.figure.Figure at 0x23703d2c668>"
      ]
     },
     "metadata": {},
     "output_type": "display_data"
    }
   ],
   "source": [
    "plt.figure(figsize = (18,9))\n",
    "plt.plot(range(df.shape[0]),(df['Low']+df['High'])/2.0)\n",
    "plt.xticks(range(0,df.shape[0],100),df['Date'].loc[::100],rotation=45)\n",
    "plt.xlabel('Date',fontsize=18)\n",
    "plt.ylabel('Mid Price',fontsize=18)\n",
    "plt.show()"
   ]
  },
  {
   "cell_type": "code",
   "execution_count": 9,
   "metadata": {
    "collapsed": true
   },
   "outputs": [],
   "source": [
    "high_prices = df.loc[:,'High']\n",
    "low_prices = df.loc[:,'Low']\n",
    "df[\"Mid Prices\"] = (high_prices+low_prices)/2.0"
   ]
  },
  {
   "cell_type": "code",
   "execution_count": 10,
   "metadata": {
    "scrolled": true
   },
   "outputs": [
    {
     "data": {
      "text/html": [
       "<div>\n",
       "<style>\n",
       "    .dataframe thead tr:only-child th {\n",
       "        text-align: right;\n",
       "    }\n",
       "\n",
       "    .dataframe thead th {\n",
       "        text-align: left;\n",
       "    }\n",
       "\n",
       "    .dataframe tbody tr th {\n",
       "        vertical-align: top;\n",
       "    }\n",
       "</style>\n",
       "<table border=\"1\" class=\"dataframe\">\n",
       "  <thead>\n",
       "    <tr style=\"text-align: right;\">\n",
       "      <th></th>\n",
       "      <th>Date</th>\n",
       "      <th>Open</th>\n",
       "      <th>Close</th>\n",
       "      <th>Low</th>\n",
       "      <th>High</th>\n",
       "      <th>Mid Prices</th>\n",
       "    </tr>\n",
       "  </thead>\n",
       "  <tbody>\n",
       "    <tr>\n",
       "      <th>2113</th>\n",
       "      <td>1999-03-11</td>\n",
       "      <td>38.50</td>\n",
       "      <td>46.88</td>\n",
       "      <td>37.38</td>\n",
       "      <td>50.00</td>\n",
       "      <td>43.690</td>\n",
       "    </tr>\n",
       "    <tr>\n",
       "      <th>1553</th>\n",
       "      <td>1999-03-12</td>\n",
       "      <td>47.00</td>\n",
       "      <td>46.63</td>\n",
       "      <td>43.00</td>\n",
       "      <td>48.75</td>\n",
       "      <td>45.875</td>\n",
       "    </tr>\n",
       "    <tr>\n",
       "      <th>2874</th>\n",
       "      <td>1999-03-15</td>\n",
       "      <td>46.75</td>\n",
       "      <td>42.38</td>\n",
       "      <td>42.13</td>\n",
       "      <td>46.75</td>\n",
       "      <td>44.440</td>\n",
       "    </tr>\n",
       "    <tr>\n",
       "      <th>976</th>\n",
       "      <td>1999-03-16</td>\n",
       "      <td>42.75</td>\n",
       "      <td>42.00</td>\n",
       "      <td>42.00</td>\n",
       "      <td>44.25</td>\n",
       "      <td>43.125</td>\n",
       "    </tr>\n",
       "    <tr>\n",
       "      <th>4249</th>\n",
       "      <td>1999-03-17</td>\n",
       "      <td>42.00</td>\n",
       "      <td>42.25</td>\n",
       "      <td>41.75</td>\n",
       "      <td>44.75</td>\n",
       "      <td>43.250</td>\n",
       "    </tr>\n",
       "  </tbody>\n",
       "</table>\n",
       "</div>"
      ],
      "text/plain": [
       "            Date   Open  Close    Low   High  Mid Prices\n",
       "2113  1999-03-11  38.50  46.88  37.38  50.00      43.690\n",
       "1553  1999-03-12  47.00  46.63  43.00  48.75      45.875\n",
       "2874  1999-03-15  46.75  42.38  42.13  46.75      44.440\n",
       "976   1999-03-16  42.75  42.00  42.00  44.25      43.125\n",
       "4249  1999-03-17  42.00  42.25  41.75  44.75      43.250"
      ]
     },
     "execution_count": 10,
     "metadata": {},
     "output_type": "execute_result"
    }
   ],
   "source": [
    "df.head()"
   ]
  },
  {
   "cell_type": "markdown",
   "metadata": {},
   "source": [
    "## Data Cleaning"
   ]
  },
  {
   "cell_type": "code",
   "execution_count": 11,
   "metadata": {
    "collapsed": true
   },
   "outputs": [],
   "source": [
    "df.drop(\"Date\", axis = 1,inplace = True)"
   ]
  },
  {
   "cell_type": "code",
   "execution_count": 12,
   "metadata": {
    "collapsed": true
   },
   "outputs": [],
   "source": [
    "from sklearn.preprocessing import StandardScaler"
   ]
  },
  {
   "cell_type": "code",
   "execution_count": 13,
   "metadata": {},
   "outputs": [
    {
     "data": {
      "text/plain": [
       "StandardScaler(copy=True, with_mean=True, with_std=True)"
      ]
     },
     "execution_count": 13,
     "metadata": {},
     "output_type": "execute_result"
    }
   ],
   "source": [
    "scaler = StandardScaler()\n",
    "scaler.fit(df)"
   ]
  },
  {
   "cell_type": "code",
   "execution_count": 14,
   "metadata": {
    "collapsed": true
   },
   "outputs": [],
   "source": [
    "df = scaler.transform(df)"
   ]
  },
  {
   "cell_type": "markdown",
   "metadata": {},
   "source": [
    "## Building Long-Short Term Memory Cell to implement Recurrent Neural Network"
   ]
  },
  {
   "cell_type": "code",
   "execution_count": 15,
   "metadata": {
    "collapsed": true
   },
   "outputs": [],
   "source": [
    "def build_model(layers):\n",
    "    model = Sequential()\n",
    "\n",
    "    model.add(LSTM(\n",
    "        input_shape=(None, layers[0]),\n",
    "        units=50,\n",
    "        return_sequences=True))\n",
    "    model.add(Dropout(0.2))\n",
    "\n",
    "    model.add(LSTM(\n",
    "        100,\n",
    "        return_sequences=False))\n",
    "    model.add(Dropout(0.2))\n",
    "\n",
    "    model.add(Dense(\n",
    "        units=1))\n",
    "    model.add(Activation('linear'))\n",
    "\n",
    "    start = time.time()\n",
    "    model.compile(loss='mse', optimizer='rmsprop')\n",
    "    print ('compilation time : ', time.time() - start)\n",
    "    return model"
   ]
  },
  {
   "cell_type": "markdown",
   "metadata": {},
   "source": [
    "## Load data as per model requirements"
   ]
  },
  {
   "cell_type": "code",
   "execution_count": 16,
   "metadata": {
    "collapsed": true
   },
   "outputs": [],
   "source": [
    "def load_data(stock, seq_len):\n",
    "    amount_of_features = 5\n",
    "    data = stock\n",
    "    sequence_length = seq_len + 1\n",
    "    result = []\n",
    "    for index in range(len(data) - sequence_length):\n",
    "        result.append(data[index: index + sequence_length])\n",
    "    \n",
    "    result =  np.array(result)\n",
    "    row = round(0.9 * result.shape[0])\n",
    "    train = result[:int(row), :]\n",
    "    x_train = train[:, :-1]\n",
    "    y_train = train[:, -1][:,-1]\n",
    "    x_test = result[int(row):, :-1]\n",
    "    y_test = result[int(row):, -1][:,-1]\n",
    "\n",
    "    x_train = np.reshape(x_train, (x_train.shape[0], x_train.shape[1], amount_of_features))\n",
    "    x_test = np.reshape(x_test, (x_test.shape[0], x_test.shape[1], amount_of_features))  \n",
    "\n",
    "    return [x_train, y_train, x_test, y_test]"
   ]
  },
  {
   "cell_type": "code",
   "execution_count": 17,
   "metadata": {},
   "outputs": [
    {
     "name": "stdout",
     "output_type": "stream",
     "text": [
      "X_train (4428, 5, 5)\n",
      "y_train (4428,)\n",
      "X_test (492, 5, 5)\n",
      "y_test (492,)\n"
     ]
    }
   ],
   "source": [
    "window = 5\n",
    "X_train, y_train, X_test, y_test = load_data(df, window)\n",
    "print(\"X_train\", X_train.shape)\n",
    "print(\"y_train\", y_train.shape)\n",
    "print(\"X_test\", X_test.shape)\n",
    "print(\"y_test\", y_test.shape)"
   ]
  },
  {
   "cell_type": "code",
   "execution_count": 18,
   "metadata": {},
   "outputs": [
    {
     "name": "stdout",
     "output_type": "stream",
     "text": [
      "compilation time :  0.0636599063873291\n"
     ]
    }
   ],
   "source": [
    "model = build_model([5,window,1])"
   ]
  },
  {
   "cell_type": "markdown",
   "metadata": {},
   "source": [
    "## Training Time!"
   ]
  },
  {
   "cell_type": "code",
   "execution_count": 30,
   "metadata": {
    "scrolled": true
   },
   "outputs": [
    {
     "name": "stdout",
     "output_type": "stream",
     "text": [
      "Train on 3985 samples, validate on 443 samples\n",
      "Epoch 1/50\n",
      "3985/3985 [==============================] - 1s 263us/step - loss: 0.0624 - val_loss: 0.0100\n",
      "Epoch 2/50\n",
      "3985/3985 [==============================] - 1s 253us/step - loss: 0.0436 - val_loss: 0.0141\n",
      "Epoch 3/50\n",
      "3985/3985 [==============================] - 1s 268us/step - loss: 0.0458 - val_loss: 0.0058\n",
      "Epoch 4/50\n",
      "3985/3985 [==============================] - 1s 259us/step - loss: 0.0556 - val_loss: 9.5261e-04\n",
      "Epoch 5/50\n",
      "3985/3985 [==============================] - 1s 294us/step - loss: 0.0401 - val_loss: 0.0121\n",
      "Epoch 6/50\n",
      "3985/3985 [==============================] - 1s 258us/step - loss: 0.0529 - val_loss: 0.0091\n",
      "Epoch 7/50\n",
      "3985/3985 [==============================] - 1s 250us/step - loss: 0.0424 - val_loss: 0.0139\n",
      "Epoch 8/50\n",
      "3985/3985 [==============================] - 1s 243us/step - loss: 0.0429 - val_loss: 0.0106\n",
      "Epoch 9/50\n",
      "3985/3985 [==============================] - 1s 251us/step - loss: 0.0452 - val_loss: 0.0013\n",
      "Epoch 10/50\n",
      "3985/3985 [==============================] - 1s 248us/step - loss: 0.0396 - val_loss: 0.0049\n",
      "Epoch 11/50\n",
      "3985/3985 [==============================] - 1s 254us/step - loss: 0.0531 - val_loss: 0.0057\n",
      "Epoch 12/50\n",
      "3985/3985 [==============================] - 1s 242us/step - loss: 0.0504 - val_loss: 0.0051\n",
      "Epoch 13/50\n",
      "3985/3985 [==============================] - 1s 254us/step - loss: 0.0420 - val_loss: 0.0010\n",
      "Epoch 14/50\n",
      "3985/3985 [==============================] - 1s 278us/step - loss: 0.0491 - val_loss: 0.0041\n",
      "Epoch 15/50\n",
      "3985/3985 [==============================] - 1s 241us/step - loss: 0.0342 - val_loss: 0.0016\n",
      "Epoch 16/50\n",
      "3985/3985 [==============================] - 1s 245us/step - loss: 0.0373 - val_loss: 0.0026\n",
      "Epoch 17/50\n",
      "3985/3985 [==============================] - 1s 269us/step - loss: 0.0393 - val_loss: 0.0105\n",
      "Epoch 18/50\n",
      "3985/3985 [==============================] - 1s 304us/step - loss: 0.0375 - val_loss: 0.0064\n",
      "Epoch 19/50\n",
      "3985/3985 [==============================] - 1s 283us/step - loss: 0.0434 - val_loss: 0.0027\n",
      "Epoch 20/50\n",
      "3985/3985 [==============================] - 1s 286us/step - loss: 0.0308 - val_loss: 8.4099e-04\n",
      "Epoch 21/50\n",
      "3985/3985 [==============================] - 1s 263us/step - loss: 0.0388 - val_loss: 0.0074\n",
      "Epoch 22/50\n",
      "3985/3985 [==============================] - 1s 262us/step - loss: 0.0411 - val_loss: 9.3666e-04\n",
      "Epoch 23/50\n",
      "3985/3985 [==============================] - 1s 248us/step - loss: 0.0333 - val_loss: 0.0037\n",
      "Epoch 24/50\n",
      "3985/3985 [==============================] - 1s 260us/step - loss: 0.0343 - val_loss: 0.0141\n",
      "Epoch 25/50\n",
      "3985/3985 [==============================] - 1s 251us/step - loss: 0.0436 - val_loss: 0.0026\n",
      "Epoch 26/50\n",
      "3985/3985 [==============================] - 1s 272us/step - loss: 0.0328 - val_loss: 0.0106\n",
      "Epoch 27/50\n",
      "3985/3985 [==============================] - 1s 250us/step - loss: 0.0354 - val_loss: 7.7404e-04\n",
      "Epoch 28/50\n",
      "3985/3985 [==============================] - 1s 276us/step - loss: 0.0341 - val_loss: 0.0016\n",
      "Epoch 29/50\n",
      "3985/3985 [==============================] - 1s 247us/step - loss: 0.0289 - val_loss: 0.0012\n",
      "Epoch 30/50\n",
      "3985/3985 [==============================] - 1s 296us/step - loss: 0.0382 - val_loss: 8.2472e-04\n",
      "Epoch 31/50\n",
      "3985/3985 [==============================] - 1s 272us/step - loss: 0.0293 - val_loss: 0.0047\n",
      "Epoch 32/50\n",
      "3985/3985 [==============================] - 1s 263us/step - loss: 0.0320 - val_loss: 0.0049\n",
      "Epoch 33/50\n",
      "3985/3985 [==============================] - 1s 259us/step - loss: 0.0329 - val_loss: 0.0020\n",
      "Epoch 34/50\n",
      "3985/3985 [==============================] - 1s 268us/step - loss: 0.0373 - val_loss: 7.1988e-04\n",
      "Epoch 35/50\n",
      "3985/3985 [==============================] - 1s 254us/step - loss: 0.0328 - val_loss: 0.0026\n",
      "Epoch 36/50\n",
      "3985/3985 [==============================] - 1s 263us/step - loss: 0.0272 - val_loss: 0.0036\n",
      "Epoch 37/50\n",
      "3985/3985 [==============================] - 1s 266us/step - loss: 0.0301 - val_loss: 0.0017\n",
      "Epoch 38/50\n",
      "3985/3985 [==============================] - 1s 256us/step - loss: 0.0264 - val_loss: 0.0032\n",
      "Epoch 39/50\n",
      "3985/3985 [==============================] - 1s 247us/step - loss: 0.0323 - val_loss: 6.9458e-04\n",
      "Epoch 40/50\n",
      "3985/3985 [==============================] - 1s 251us/step - loss: 0.0244 - val_loss: 7.7093e-04\n",
      "Epoch 41/50\n",
      "3985/3985 [==============================] - 1s 255us/step - loss: 0.0285 - val_loss: 0.0066\n",
      "Epoch 42/50\n",
      "3985/3985 [==============================] - 1s 263us/step - loss: 0.0314 - val_loss: 0.0011\n",
      "Epoch 43/50\n",
      "3985/3985 [==============================] - 1s 254us/step - loss: 0.0279 - val_loss: 0.0053\n",
      "Epoch 44/50\n",
      "3985/3985 [==============================] - 1s 268us/step - loss: 0.0321 - val_loss: 0.0079\n",
      "Epoch 45/50\n",
      "3985/3985 [==============================] - 1s 254us/step - loss: 0.0288 - val_loss: 0.0061\n",
      "Epoch 46/50\n",
      "3985/3985 [==============================] - 1s 284us/step - loss: 0.0237 - val_loss: 0.0015\n",
      "Epoch 47/50\n",
      "3985/3985 [==============================] - 1s 253us/step - loss: 0.0206 - val_loss: 0.0031\n",
      "Epoch 48/50\n",
      "3985/3985 [==============================] - 1s 241us/step - loss: 0.0300 - val_loss: 0.0042\n",
      "Epoch 49/50\n",
      "3985/3985 [==============================] - 1s 256us/step - loss: 0.0203 - val_loss: 0.0096\n",
      "Epoch 50/50\n",
      "3985/3985 [==============================] - 1s 261us/step - loss: 0.0258 - val_loss: 0.0024\n"
     ]
    },
    {
     "data": {
      "text/plain": [
       "<keras.callbacks.History at 0x23708e3ccf8>"
      ]
     },
     "execution_count": 30,
     "metadata": {},
     "output_type": "execute_result"
    }
   ],
   "source": [
    "model.fit(\n",
    "    X_train,\n",
    "    y_train,\n",
    "    batch_size=512,\n",
    "    epochs=50,\n",
    "    validation_split=0.1,\n",
    "    verbose=1)"
   ]
  },
  {
   "cell_type": "code",
   "execution_count": 31,
   "metadata": {},
   "outputs": [
    {
     "name": "stdout",
     "output_type": "stream",
     "text": [
      "0.0141532601734\n"
     ]
    }
   ],
   "source": [
    "trainScore = model.evaluate(X_train, y_train, verbose=0)\n",
    "print(trainScore)"
   ]
  },
  {
   "cell_type": "markdown",
   "metadata": {},
   "source": [
    "## Predictions"
   ]
  },
  {
   "cell_type": "code",
   "execution_count": 32,
   "metadata": {
    "collapsed": true
   },
   "outputs": [],
   "source": [
    "p = model.predict(X_test)"
   ]
  },
  {
   "cell_type": "markdown",
   "metadata": {},
   "source": [
    "## Visualizations"
   ]
  },
  {
   "cell_type": "code",
   "execution_count": 33,
   "metadata": {},
   "outputs": [
    {
     "data": {
      "image/png": "[encoded data removed]",
      "text/plain": [
       "<matplotlib.figure.Figure at 0x23708e3cc50>"
      ]
     },
     "metadata": {},
     "output_type": "display_data"
    }
   ],
   "source": [
    "import matplotlib.pyplot as plt2\n",
    "plt2.figure(figsize = (18,9))\n",
    "plt2.plot(p,color='red', label='prediction')\n",
    "plt2.plot(y_test,color='blue', label='y_test')\n",
    "plt2.legend(loc='upper left')\n",
    "plt2.show()"
   ]
  },
  {
   "cell_type": "markdown",
   "metadata": {},
   "source": [
    "## Sentiment Analysis"
   ]
  },
  {
   "cell_type": "code",
   "execution_count": 23,
   "metadata": {
    "collapsed": true
   },
   "outputs": [],
   "source": [
    "consumer_key= 'E0pFYVai9VaOhqLiRBEC6gpGF'\n",
    "consumer_secret= 'XAMh4l9XL5nwFK3MN5tAjtXA2YgDN1tw5f7L2n6dz5ib8VYlbm'\n",
    "\n",
    "access_token='3261604734-86c7DOJP98GwNeFWzvgPQKFUTyHn1ZFwlloJP3v'\n",
    "access_token_secret='eXEmlEAdxaFjueVP03jsAWeOeNMkI7ToiDQkyvLDa6eX7'"
   ]
  },
  {
   "cell_type": "code",
   "execution_count": 24,
   "metadata": {
    "collapsed": true
   },
   "outputs": [],
   "source": [
    "auth = tweepy.OAuthHandler(consumer_key, consumer_secret)\n",
    "auth.set_access_token(access_token, access_token_secret)\n",
    "\n",
    "api = tweepy.API(auth)"
   ]
  },
  {
   "cell_type": "code",
   "execution_count": 25,
   "metadata": {
    "collapsed": true
   },
   "outputs": [],
   "source": [
    "public_tweets = api.search('Infosys', count = 1000)"
   ]
  },
  {
   "cell_type": "code",
   "execution_count": 26,
   "metadata": {
    "collapsed": true
   },
   "outputs": [],
   "source": [
    "def clean_tweet(tweet):\n",
    "    return ' '.join(re.sub(\"(@[A-Za-z0-9]+)|([^0-9A-Za-z \\t])|(\\w+:\\/\\/\\S+)\", \" \", tweet).split())"
   ]
  },
  {
   "cell_type": "code",
   "execution_count": 27,
   "metadata": {
    "collapsed": true
   },
   "outputs": [],
   "source": [
    "def get_tweet_sentiment(tweet):\n",
    "    analysis = TextBlob(clean_tweet(tweet))\n",
    "    if analysis.sentiment.polarity > 0:\n",
    "        return 'positive'\n",
    "    elif analysis.sentiment.polarity == 0:\n",
    "        return 'neutral'\n",
    "    else:\n",
    "        return 'negative'"
   ]
  },
  {
   "cell_type": "code",
   "execution_count": 28,
   "metadata": {},
   "outputs": [
    {
     "name": "stdout",
     "output_type": "stream",
     "text": [
      "100\n",
      "RT too To do what exactly 1 We have design expertise most of whom work for foreign co\n",
      "positive\n",
      "\n",
      "Finacle Launches Suite of New Digital Engagement Tools\n",
      "positive\n",
      "\n",
      "RT Verizon Infosys Slave Trade US Employees Worst Affected\n",
      "negative\n",
      "\n",
      "RT We thank Infosys for continuing its longstanding partnership with the government We signed an agreement with them toda\n",
      "neutral\n",
      "\n",
      "Create By com gif infosys gifgoodnight\n",
      "neutral\n",
      "\n",
      "RT JCID President and JCID Co founder Skyler Mattson and Client Partnerships Director Kinley Lagrange ready to take the stage at\n",
      "positive\n",
      "\n",
      "You idiot Kerala govt is just following and enforcing the SC verdict If SC will give ruling on other religions K\n",
      "negative\n",
      "\n",
      "Verizon severance offer goes to about 44 000 employees via Indian\n",
      "neutral\n",
      "\n",
      "Infosys PuneDC\n",
      "neutral\n",
      "\n",
      "RT Infosys is a premier sponsor at UiPathForward Americas Meet our experts at booth 19 to learn about our customer exper\n",
      "neutral\n",
      "\n",
      "4years And the journey endzz It s time to leave It s been 4 wonderful year s with Infosys And it will be\n",
      "positive\n",
      "\n",
      "Verizon tells 1100 IT workers you have to go to Indian owned Infosys or be fired Mr Trumps tax\n",
      "neutral\n",
      "\n",
      "Verizon tells 1100 IT workers you have to go to Indian owned Infosys or be fired Mr Trumps tax cuts for\n",
      "neutral\n",
      "\n",
      "Verizon tells 1100 IT workers you have to go to Indian owned Infosys or be fired Mr Trumps tax c\n",
      "neutral\n",
      "\n",
      "Verizon tells 1100 IT workers you have to go to Indian owned Infosys or be fired Mr Trumps tax cuts for cor\n",
      "neutral\n",
      "\n",
      "Association This is a beautiful prudent and welcome move\n",
      "positive\n",
      "\n",
      "Verizon Verizon tells 1100 IT workers you have to go to Indian owned Infosys or be fired Mr Trumps tax cuts for\n",
      "neutral\n",
      "\n",
      "RT We re hiring Java experts with 8 10 years of experience Come be part of a company that never stops innovating Apply\n",
      "neutral\n",
      "\n",
      "RT ES Imaginen un partido donde s lo hubiera primeros saques Qui n ganar a Hay alguien con mucha ventaja https\n",
      "neutral\n",
      "\n",
      "RT Association KarnatakaPolice and Data Security Council of India to empower personnel investigating cyber crime with a state of the\n",
      "neutral\n",
      "\n",
      "Infosys and Cornell University partner\n",
      "neutral\n",
      "\n",
      "Infosys Technology LTD Adr INFY Market Valuation Rose While Genesis Asset Managers Llp Has Increased Stake by 77\n",
      "positive\n",
      "\n",
      "Genesis Asset Managers Llp Has Lifted Position in Infosys Technology LTD Adr INFY by 77 83 Million\n",
      "neutral\n",
      "\n",
      "Genesis Asset Managers Llp Increased Position in Infosys Technology LTD Adr INFY as Stock Rose\n",
      "positive\n",
      "\n",
      "Verizon Wall Street Journal reporting got it wrong Verizon did not give a buy out offer to the IT workers wh\n",
      "negative\n",
      "\n",
      "As Infosys Technology LTD Adr INFY Stock Price Rose Genesis Asset Managers Llp Has Upped Its Holding by 77 83 Mi\n",
      "positive\n",
      "\n",
      "too To do what exactly 1 We have design expertise most of whom work for for\n",
      "positive\n",
      "\n",
      "Infosys Technology LTD Adr INFY Share Price Rose While Genesis Asset Managers Llp Upped Its Position\n",
      "positive\n",
      "\n",
      "Recalling the day Bangalore stopped tissue paper for employees in office washroom I wonder what have the\n",
      "neutral\n",
      "\n",
      "RT Association KarnatakaPolice and Data Security Council of India to empower personnel investigating cyber crime with a state of the\n",
      "neutral\n",
      "\n",
      "Pretty sure there s a story from Infosys waiting to come out He s had one Muslim employee\n",
      "positive\n",
      "\n",
      "RT Association KarnatakaPolice and Data Security Council of India to empower personnel investigating cyber crime with a state of the\n",
      "neutral\n",
      "\n",
      "webinar alert Join us Oct 11th for Retail 2025 Shopper Study Are Retailers Going to Deliver on Customer Expecta\n",
      "neutral\n",
      "\n",
      "President and JCID Co founder Skyler Mattson and Client Partnerships Director Kinley Lagrange ready to take the\n",
      "positive\n",
      "\n",
      "Imaginen un partido donde s lo hubiera primeros saques Qui n ganar a Hay alguien con mucha ventaja\n",
      "neutral\n",
      "\n",
      "RT Association KarnatakaPolice and Data Security Council of India to empower personnel investigating cyber crime with a state of the\n",
      "neutral\n",
      "\n",
      "Financial Survey Infosys INFY versus Computer Programs amp Systems CPSI\n",
      "neutral\n",
      "\n",
      "Financial Survey Infosys INFY versus Computer Programs amp Systems CPSI\n",
      "neutral\n",
      "\n",
      "RT Association KarnatakaPolice and Data Security Council of India to empower personnel investigating cyber crime with a state of the\n",
      "neutral\n",
      "\n",
      "KarnatakaPolice and Data Security Council of India to empower personnel investigating cyber crime with a state of\n",
      "neutral\n",
      "\n",
      "Note SIR PLS dont look white collar jobs like employees working for infosys or wipro or etc see other private sec\n",
      "negative\n",
      "\n",
      "BUt we can t find qualified workers in US we need more H1 B Visas\n",
      "positive\n",
      "\n",
      "Global Software Testing System Integration Market Analysis 2018 2025 Wipro Deloitte Steria Infosys Capgemini\n",
      "neutral\n",
      "\n",
      "Other projects highlighted include GE Digital Infosys Trade Area Systems just 3 of more than 25 companies who ha\n",
      "positive\n",
      "\n",
      "RT Infosys Foundation to help set up cybercrime investigation centre in Bengaluru Read more at http\n",
      "positive\n",
      "\n",
      "Infosys Foundation to help set up cybercrime investigation centre in Bengaluru Read more at\n",
      "positive\n",
      "\n",
      "Do the right thing give severance package to Infosys rebadged Reward h\n",
      "positive\n",
      "\n",
      "The big guys Add HDFC twins Kotak Infosys\n",
      "neutral\n",
      "\n",
      "bhai Infosys seems to have made HNS formation in weekly chart and broke 25DMA also Does it become a sell now\n",
      "neutral\n",
      "\n",
      "St heard on the radio Need Lemont said this company is coming to CT 1000 jobs they say\n",
      "neutral\n",
      "\n",
      "This move has been taken in order to simplify the Return filing process through Network for the Traders GST\n",
      "neutral\n",
      "\n",
      "RT station Infosys built data analytics helps GoM decipher GST defaulters Sushil Modi Source\n",
      "neutral\n",
      "\n",
      "RT Evening Event Oct 5 Friday 2018 Gokhale Institute of Public affairs amp Karnataka Gamaka Kala Parishatwith support from In\n",
      "neutral\n",
      "\n",
      "Infosys s contract wins zoom in July September quarter via\n",
      "positive\n",
      "\n",
      "RT Ericsson has decided to offer buyout to 44000 employees but not to 100\n",
      "neutral\n",
      "\n",
      "Evening Event Oct 6 Saturday 2018 Gokhale Institute of Public affairs amp Karnataka Gamaka Kala Parishatwith suppo\n",
      "neutral\n",
      "\n",
      "RT Evening Event Oct 5 Friday 2018 Gokhale Institute of Public affairs amp Karnataka Gamaka Kala Parishatwith support from In\n",
      "neutral\n",
      "\n",
      "Evening Event Oct 5 Friday 2018 Gokhale Institute of Public affairs amp Karnataka Gamaka Kala Parishatwith support\n",
      "neutral\n",
      "\n",
      "Global Software Testing Services Market Analysis 2018 2025 Atos Steria Infosys IBM Accenture Plains Ledger\n",
      "neutral\n",
      "\n",
      "Global Software Testing System Integration Market Analysis 2018 2025 Wipro Deloitte Steria Infosys Capgemini\n",
      "neutral\n",
      "\n",
      "Infosys Foundation signs MoU with CID DSCI to set up cybercrime training and research centre\n",
      "neutral\n",
      "\n",
      "RT Brilliant take from Ben Wiener from Wongdoody the The Agency of the Future\n",
      "positive\n",
      "\n",
      "RT I just saw an article on how Verizon has given huge I T contract to Infosys an Indian outsourcing\n",
      "positive\n",
      "\n",
      "RT Workers We are Verizon employees forced to take And pushed to Infosys with out Severance package\n",
      "negative\n",
      "\n",
      "RT Verizon Infosys Deal Slave Trade or Employee Transition\n",
      "neutral\n",
      "\n",
      "RT Verizon Infosys Slave Trade US Employees Worst Affected\n",
      "negative\n",
      "\n",
      "RT PrevailsA Workers Infosys work culture is shitty This is common practice now to force employees to join these com\n",
      "negative\n",
      "\n",
      "RT Nut funny how you go on about American jobs for American people yet allow companies like Verizon to lay off Ameri\n",
      "positive\n",
      "\n",
      "Good initiative positive development tks Cyberc\n",
      "positive\n",
      "\n",
      "guys What are you doing Verizon outsourcing to infosys You all are caught up in\n",
      "neutral\n",
      "\n",
      "Infosys is a premier sponsor at UiPathForward Americas Meet our experts at booth 19 to learn about our customer\n",
      "neutral\n",
      "\n",
      "RT We thank Infosys for continuing its longstanding partnership with the government We signed an agreement with them toda\n",
      "neutral\n",
      "\n",
      "RT We thank Infosys for continuing its longstanding partnership with the government We signed an agreement with them toda\n",
      "neutral\n",
      "\n",
      "RT DigitalIndia Moving further with an intervention by industry leaders to name a few Salesforce Dell Ericsson Google TCS Wipro\n",
      "negative\n",
      "\n",
      "RT If tennis eliminated the second serve would dominate even more Read amp Watch ATP Beyond The\n",
      "positive\n",
      "\n",
      "RT Joint initiative of KarnatakaPolice and Data Security Council of India to set up a Centre for Cybercrime Investig\n",
      "neutral\n",
      "\n",
      "RT DigitalIndia Moving further with an intervention by industry leaders to name a few Salesforce Dell Ericsson Google TCS Wipro\n",
      "negative\n",
      "\n",
      "Ericsson has decided to offer buyout to 44000 employees but not t\n",
      "neutral\n",
      "\n",
      "RT We thank Infosys for continuing its longstanding partnership with the government We signed an agreement with them toda\n",
      "neutral\n",
      "\n",
      "The future of retail is already here Join us at the Infosys and joint webinar for insights on th\n",
      "neutral\n",
      "\n",
      "RT India would like to thank all our members for supporting our cooling initiatives\n",
      "positive\n",
      "\n",
      "RT DigitalIndia Moving further with an intervention by industry leaders to name a few Salesforce Dell Ericsson Google TCS Wipro\n",
      "negative\n",
      "\n",
      "RT We thank Infosys for continuing its longstanding partnership with the government We signed an agreement with them toda\n",
      "neutral\n",
      "\n",
      "RT ygl President Infosys delivering the Keynote Address at FinacleConclave18 NavigateYourNext AccelerateDigit\n",
      "neutral\n",
      "\n",
      "RT We thank Infosys for continuing its longstanding partnership with the government We signed an agreement with them toda\n",
      "neutral\n",
      "\n",
      "Infosys is a gold partner with and a proud sponsor of SAFeSummit 2018 Meet our experts at BOOTH 113\n",
      "positive\n",
      "\n",
      "Explore how Infosys can help you enhance CustomerExperience operational efficiency while reducing costs with serv\n",
      "neutral\n",
      "\n",
      "interesting conversation with Verizon 5G however Is what about 44 000 employees losing their jo\n",
      "positive\n",
      "\n",
      "Have you always wondered on when is the right time for cloud migration Comprehensively assess your cloud readines\n",
      "positive\n",
      "\n",
      "Bangalore Infosys from outside Recalling all wonderful memories everytime I pass by Gooddays\n",
      "positive\n",
      "\n",
      "India would like to thank all our members for supporting our cooling initiatives\n",
      "positive\n",
      "\n",
      "IPS is functioning with Ernst amp Young and SAP Canada to digitize PSPC procurement system with the operation and org\n",
      "positive\n",
      "\n",
      "Sensex Nifty Snap Three Day Decline Led By HDFC Twins Infosys eCommerce\n",
      "neutral\n",
      "\n",
      "RT Access banking data in real time and manage finances better with Infosys Open banking API for Banks and Financial provi\n",
      "positive\n",
      "\n",
      "CNRS Mathematician Claire Voisin delivers Infosys ICTS Ramanujam lectures\n",
      "neutral\n",
      "\n",
      "RT Have you always wondered on when is the right time for cloud migration Comprehensively assess your cloud readiness wit\n",
      "positive\n",
      "\n",
      "Verizon is cutting its workforce by at least 25 with buyouts and transferring people to India outsourcing compan\n",
      "negative\n",
      "\n",
      "Infosys Foundation and DSCI to set up Bangalore cybercrime centre\n",
      "neutral\n",
      "\n",
      "Have worked in Bengal 10 yrs first communist cheated bongs by giving two mea\n",
      "positive\n",
      "\n",
      "About the Infosys invasion is a question that deserves a real answer further What does Colorado Wa\n",
      "positive\n",
      "\n"
     ]
    }
   ],
   "source": [
    "positive = 0\n",
    "negative = 0\n",
    "neutral = 0\n",
    "print(len(public_tweets))\n",
    "for tweet in public_tweets:\n",
    "#     print(tweet.text)\n",
    "    print(clean_tweet(tweet.text))\n",
    "    sentiment = get_tweet_sentiment(tweet.text) \n",
    "    print(sentiment)\n",
    "    if sentiment == 'positive':\n",
    "        positive += 1\n",
    "    elif sentiment == 'negative':\n",
    "        negative += 1\n",
    "    elif sentiment == 'neutral':\n",
    "        neutral += 1\n",
    "    print(\"\")"
   ]
  },
  {
   "cell_type": "code",
   "execution_count": 29,
   "metadata": {},
   "outputs": [
    {
     "name": "stdout",
     "output_type": "stream",
     "text": [
      "Positive: 34\n",
      "Negative: 11\n",
      "Neutral: 55\n"
     ]
    }
   ],
   "source": [
    "print('Positive:', positive)\n",
    "print('Negative:', negative)\n",
    "print('Neutral:', neutral)"
   ]
  }
 ],
 "metadata": {
  "kernelspec": {
   "display_name": "Python 3",
   "language": "python",
   "name": "python3"
  },
  "language_info": {
   "codemirror_mode": {
    "name": "ipython",
    "version": 3
   },
   "file_extension": ".py",
   "mimetype": "text/x-python",
   "name": "python",
   "nbconvert_exporter": "python",
   "pygments_lexer": "ipython3",
   "version": "3.5.4"
  }
 },
 "nbformat": 4,
 "nbformat_minor": 2
}
