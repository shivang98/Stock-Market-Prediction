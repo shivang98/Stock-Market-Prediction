{
 "cells": [
  {
   "cell_type": "markdown",
   "metadata": {},
   "source": [
    "# sentiment analysis on Pre-Trained Network"
   ]
  },
  {
   "cell_type": "markdown",
   "metadata": {},
   "source": [
    "load in a pretrained LSTM network using Tensorflow's Saver object.\n",
    "\n",
    "creating Tensorflow graph. \n",
    "\n",
    "hyperperameter declaration "
   ]
  },
  {
   "cell_type": "code",
   "execution_count": 10,
   "metadata": {
    "collapsed": true
   },
   "outputs": [],
   "source": [
    "numDimensions = 300\n",
    "maxSeqLength = 250\n",
    "batchSize = 24\n",
    "lstmUnits = 64\n",
    "numClasses = 2\n",
    "iterations = 100000"
   ]
  },
  {
   "cell_type": "markdown",
   "metadata": {},
   "source": [
    "loading data structures."
   ]
  },
  {
   "cell_type": "code",
   "execution_count": 11,
   "metadata": {
    "collapsed": true
   },
   "outputs": [],
   "source": [
    "import re\n",
    "import numpy as np\n",
    "wordsList = np.load('wordsList.npy').tolist()\n",
    "wordsList = [word.decode('UTF-8') for word in wordsList] #Encode words as UTF-8\n",
    "wordVectors = np.load('wordVectors.npy')"
   ]
  },
  {
   "cell_type": "markdown",
   "metadata": {},
   "source": [
    "creating graph"
   ]
  },
  {
   "cell_type": "code",
   "execution_count": 12,
   "metadata": {
    "collapsed": true
   },
   "outputs": [],
   "source": [
    "import tensorflow as tf\n",
    "tf.reset_default_graph()\n",
    "\n",
    "labels = tf.placeholder(tf.float32, [batchSize, numClasses])\n",
    "input_data = tf.placeholder(tf.int32, [batchSize, maxSeqLength])\n",
    "\n",
    "data = tf.Variable(tf.zeros([batchSize, maxSeqLength, numDimensions]),dtype=tf.float32)\n",
    "data = tf.nn.embedding_lookup(wordVectors,input_data)\n",
    "\n",
    "lstmCell = tf.contrib.rnn.BasicLSTMCell(lstmUnits)\n",
    "lstmCell = tf.contrib.rnn.DropoutWrapper(cell=lstmCell, output_keep_prob=0.25)\n",
    "value, _ = tf.nn.dynamic_rnn(lstmCell, data, dtype=tf.float32)\n",
    "\n",
    "weight = tf.Variable(tf.truncated_normal([lstmUnits, numClasses]))\n",
    "bias = tf.Variable(tf.constant(0.1, shape=[numClasses]))\n",
    "value = tf.transpose(value, [1, 0, 2])\n",
    "last = tf.gather(value, int(value.get_shape()[0]) - 1)\n",
    "prediction = (tf.matmul(last, weight) + bias)\n",
    "\n",
    "correctPred = tf.equal(tf.argmax(prediction,1), tf.argmax(labels,1))\n",
    "accuracy = tf.reduce_mean(tf.cast(correctPred, tf.float32))"
   ]
  },
  {
   "cell_type": "markdown",
   "metadata": {},
   "source": [
    "loading n/w"
   ]
  },
  {
   "cell_type": "code",
   "execution_count": 13,
   "metadata": {},
   "outputs": [
    {
     "name": "stdout",
     "output_type": "stream",
     "text": [
      "INFO:tensorflow:Restoring parameters from models/pretrained_lstm.ckpt-90000\n"
     ]
    }
   ],
   "source": [
    "sess = tf.InteractiveSession()\n",
    "saver = tf.train.Saver()\n",
    "saver.restore(sess, tf.train.latest_checkpoint('models'))"
   ]
  },
  {
   "cell_type": "markdown",
   "metadata": {},
   "source": [
    "preprocessing"
   ]
  },
  {
   "cell_type": "code",
   "execution_count": 14,
   "metadata": {
    "collapsed": true
   },
   "outputs": [],
   "source": [
    "# Removes punctuation, parentheses, question marks, etc., and leaves only alphanumeric characters\n",
    "import re\n",
    "strip_special_chars = re.compile(\"[^A-Za-z0-9 ]+\")\n",
    "\n",
    "def cleanSentences(string):\n",
    "    string = string.lower().replace(\"<br />\", \" \")\n",
    "    return re.sub(strip_special_chars, \"\", string.lower())\n",
    "\n",
    "def getSentenceMatrix(sentence):\n",
    "    arr = np.zeros([batchSize, maxSeqLength])\n",
    "    sentenceMatrix = np.zeros([batchSize,maxSeqLength], dtype='int32')\n",
    "    cleanedSentence = cleanSentences(sentence)\n",
    "    split = cleanedSentence.split()\n",
    "    for indexCounter,word in enumerate(split):\n",
    "        try:\n",
    "            sentenceMatrix[0,indexCounter] = wordsList.index(word)\n",
    "        except ValueError:\n",
    "            sentenceMatrix[0,indexCounter] = 399999 #Vector for unkown words\n",
    "    return sentenceMatrix"
   ]
  },
  {
   "cell_type": "markdown",
   "metadata": {},
   "source": [
    "API authentication and loading of tweets"
   ]
  },
  {
   "cell_type": "code",
   "execution_count": 15,
   "metadata": {
    "collapsed": true
   },
   "outputs": [],
   "source": [
    "import tweepy\n",
    "consumer_key= 'E0pFYVai9VaOhqLiRBEC6gpGF'\n",
    "consumer_secret= 'XAMh4l9XL5nwFK3MN5tAjtXA2YgDN1tw5f7L2n6dz5ib8VYlbm'\n",
    "\n",
    "access_token='3261604734-86c7DOJP98GwNeFWzvgPQKFUTyHn1ZFwlloJP3v'\n",
    "access_token_secret='eXEmlEAdxaFjueVP03jsAWeOeNMkI7ToiDQkyvLDa6eX7'\n"
   ]
  },
  {
   "cell_type": "code",
   "execution_count": 16,
   "metadata": {},
   "outputs": [],
   "source": [
    "auth = tweepy.OAuthHandler(consumer_key, consumer_secret)\n",
    "auth.set_access_token(access_token, access_token_secret)\n",
    "\n",
    "api = tweepy.API(auth)\n",
    "public_tweets = api.search('TCS', count = 1000)\n"
   ]
  },
  {
   "cell_type": "code",
   "execution_count": 17,
   "metadata": {
    "collapsed": true
   },
   "outputs": [],
   "source": [
    "def clean_tweet(tweet):\n",
    "    return ' '.join(re.sub(\"(@[A-Za-z0-9]+)|([^0-9A-Za-z \\t])|(\\w+:\\/\\/\\S+)\", \" \", tweet).split())\n"
   ]
  },
  {
   "cell_type": "code",
   "execution_count": 18,
   "metadata": {
    "collapsed": true
   },
   "outputs": [],
   "source": [
    "positive = 0\n",
    "negative = 0"
   ]
  },
  {
   "cell_type": "code",
   "execution_count": 19,
   "metadata": {},
   "outputs": [
    {
     "name": "stdout",
     "output_type": "stream",
     "text": [
      "Positive Sentiment\n",
      "Yunomi feat nicamoq from SoundCloud NowPlaying\n",
      "Positive Sentiment\n",
      "RT First Deposit Campaign Win 50 USDT 20 Winners How to Enter 1 Follow 2 RT 3 Sign up for a new OKEx account via http\n",
      "Positive Sentiment\n",
      "RT RT this post and follow us for your chance to twirl into winter and win a Ballet Theatre and Ice Skating Friends We ve g\n",
      "Positive Sentiment\n",
      "RT RT this post and follow us for your chance to twirl into winter and win a Ballet Theatre and Ice Skating Friends We ve g\n",
      "Positive Sentiment\n",
      "RT RT this post and follow us for your chance to twirl into winter and win a Ballet Theatre and Ice Skating Friends We ve g\n",
      "Negative Sentiment\n",
      "Container Store Group TCS Trading Down 41 2 Following Weak Earnings\n",
      "Positive Sentiment\n",
      "\n",
      "Positive Sentiment\n",
      "rekanan feat REFLECTION\n",
      "Positive Sentiment\n",
      "10 12 1548\n",
      "Negative Sentiment\n",
      "W12 Studios is now a part of TCS Interactive Excited\n",
      "Negative Sentiment\n",
      "ROSSI\n",
      "Negative Sentiment\n",
      "tcs\n",
      "Positive Sentiment\n",
      "RT RT this post and follow us for your chance to twirl into winter and win a Ballet Theatre and Ice Skating Friends We ve g\n",
      "Positive Sentiment\n",
      "RT RT this post and follow us for your chance to twirl into winter and win a Ballet Theatre and Ice Skating Friends We ve g\n",
      "Positive Sentiment\n",
      "RT RT this post and follow us for your chance to twirl into winter and win a Ballet Theatre and Ice Skating Friends We ve g\n",
      "Positive Sentiment\n",
      "RT Good morning friends\n",
      "Positive Sentiment\n",
      "RT TCS makes first digital acquisition buys design studio W12 Technology News ETtech\n",
      "Positive Sentiment\n",
      "RT RT this post and follow us for your chance to twirl into winter and win a Ballet Theatre and Ice Skating Friends We ve g\n",
      "Negative Sentiment\n",
      "RT The naughtiest don is back Maari2FirstLook Maari2 tharalocal senjuruven\n",
      "Positive Sentiment\n",
      "RT RT this post and follow us for your chance to twirl into winter and win a Ballet Theatre and Ice Skating Friends We ve g\n",
      "Positive Sentiment\n",
      "RT TCS makes its first digital acquisition all you need to know about TCS buyout of London s W12 Studio\n",
      "Positive Sentiment\n",
      "TCS makes its first digital acquisition all you need to know about TCS buyout of London s W12 Studio\n",
      "Negative Sentiment\n",
      "RT Tatas TCS violated rules in sacking Mistry RTI reply from RoC\n",
      "Positive Sentiment\n",
      "TCS makes its first digital acquisition all you need to know about TCS buyout of London s W12 Studio\n",
      "Negative Sentiment\n",
      "05 Chaya Sarah Rabbi Eliezer Breitowitz at TCS Genesis 23 1 25 20 Bereshis 2012 11 05 via\n",
      "Positive Sentiment\n",
      "RT RT this post and follow us for your chance to twirl into winter and win a Ballet Theatre and Ice Skating Friends We ve g\n",
      "Negative Sentiment\n",
      "RT HappyHalloween For your chance to WIN this spook tacular bundle on this wicked WinItWednesday simply FOLLOW us and RT\n",
      "Positive Sentiment\n",
      "RT TCS makes first digital acquisition buys design studio W12 Technology News ETtech\n",
      "Positive Sentiment\n",
      "TCS makes its first digital acquisition all you need to know about TCS buyout of London s W12 Studio\n",
      "Negative Sentiment\n",
      "Stocks Radar Axis Bank Hindustan Petroleum Indraprastha Gas TCS\n",
      "Positive Sentiment\n",
      "RT PLANNING YOUR RACE DAY OUTFIT Include our LovePartiesHateWhips accessories and share your pic with the LovePartiesHateWhips h\n",
      "Positive Sentiment\n",
      "Se algu m que voc n o conhece lhe diz oi o que voc diz Oi\n",
      "Positive Sentiment\n",
      "RT RT this post and follow us for your chance to twirl into winter and win a Ballet Theatre and Ice Skating Friends We ve g\n",
      "Positive Sentiment\n",
      "RT\n",
      "Positive Sentiment\n",
      "Tcs acusa Bolsonaro de ditador fascista e agora o Bolsonaro chama um magistrado reconhecendo as\n",
      "Positive Sentiment\n",
      "Newcrest collaborates with TCS to create digital operations centre ITSector StockMarket\n",
      "Positive Sentiment\n",
      "molliebanks 21\n",
      "Positive Sentiment\n",
      "RT esports One of the worse goal I scored but the most satisfying to watch on stream Laughed way t\n",
      "Positive Sentiment\n",
      "TCS acquires London based W12 Studios ITSector StockMarket\n",
      "Positive Sentiment\n",
      "RT Personendrohnen in Jetgr sse selbstfahrende Autos f hrerstandlose Z ge Welchen Einfluss die Digitalisierung auf di\n",
      "Positive Sentiment\n",
      "RT RT this post and follow us for your chance to twirl into winter and win a Ballet Theatre and Ice Skating Friends We ve g\n",
      "Negative Sentiment\n",
      "RT na Check out Pepper the humanoid robot welcoming people to the TCSNYCMarathon\n",
      "Negative Sentiment\n",
      "Stay tuned to know what s happening at the TCSNYCSMarathon\n",
      "Negative Sentiment\n",
      "RT project ygo CS 12 22 Akkun CS 12 23 Tcs\n",
      "Positive Sentiment\n",
      "RT RT this post and follow us for your chance to twirl into winter and win a Ballet Theatre and Ice Skating Friends We ve g\n",
      "Positive Sentiment\n",
      "RT RT this post and follow us for your chance to twirl into winter and win a Ballet Theatre and Ice Skating Friends We ve g\n",
      "Positive Sentiment\n",
      "RT RT this post and follow us for your chance to twirl into winter and win a Ballet Theatre and Ice Skating Friends We ve g\n",
      "Negative Sentiment\n",
      "CS 12 22 Akkun CS 12 23 Tcs\n",
      "Positive Sentiment\n",
      "RT RT this post and follow us for your chance to twirl into winter and win a Ballet Theatre and Ice Skating Friends We ve g\n",
      "Positive Sentiment\n",
      "RT Running the NYC Marathon this Sunday You can follow my slow run via the TCS NYC marathon app and put my name in under tra\n",
      "Positive Sentiment\n",
      "RT RT this post and follow us for your chance to twirl into winter and win a Ballet Theatre and Ice Skating Friends We ve g\n",
      "Negative Sentiment\n",
      "RT The new Tax Collection at Source is here to ensure better and centralised compliance lesser revenue leakages for the gove\n",
      "Positive Sentiment\n",
      "Jobs Alert TCS is Hiring through a Mega Walk In TechGig Survey Understanding the top challenges faced by women in technology\n",
      "Positive Sentiment\n",
      "RT RT this post and follow us for your chance to twirl into winter and win a Ballet Theatre and Ice Skating Friends We ve g\n",
      "Negative Sentiment\n",
      "RT HappyHalloween For your chance to WIN this spook tacular bundle on this wicked WinItWednesday simply FOLLOW us and RT\n",
      "Positive Sentiment\n",
      "RT na Run through the finish line of the TCSNYCMarathon in our new interactive game Marathon City Sprint to Win Visit the expo\n",
      "Positive Sentiment\n",
      "RT feelings i accidentally dropped my ball in my water bowl technically making a soup i am an innovator\n",
      "Negative Sentiment\n",
      "acquires London based digital design firm W12 Studios\n",
      "Positive Sentiment\n",
      "buys London based digital design company W12 Studios\n",
      "Negative Sentiment\n",
      "TCS With GeoSight\n",
      "Negative Sentiment\n",
      "Sir eMO was redirected to T B Sanatorium PO from Koyali PO on 22 09 2018 however the same is not ye\n",
      "Positive Sentiment\n",
      "RT First Deposit Campaign Win 50 USDT 20 Winners How to Enter 1 Follow 2 RT 3 Sign up for a new OKEx account via http\n",
      "Positive Sentiment\n",
      "RT RT this post and follow us for your chance to twirl into winter and win a Ballet Theatre and Ice Skating Friends We ve g\n",
      "Positive Sentiment\n",
      "\n",
      "Positive Sentiment\n",
      "RT\n",
      "Positive Sentiment\n",
      "RT\n",
      "Negative Sentiment\n",
      "RT ROSSI nico jeito que eu gosto de mulher sangrando\n",
      "Negative Sentiment\n",
      "RT It will inspire you 5 days It s getting real Before runners hit the streets of NYC RisingNYRR will take on the You\n",
      "Negative Sentiment\n",
      "ASPIREST ASPIREST 1448\n",
      "Positive Sentiment\n",
      "RT RT this post and follow us for your chance to twirl into winter and win a Ballet Theatre and Ice Skating Friends We ve g\n",
      "Positive Sentiment\n",
      "Noticias 4 Visi n Reprise 12AM 1AM ahora por Canal4 en S varTV\n",
      "Negative Sentiment\n",
      "tcs kia\n",
      "Positive Sentiment\n",
      "RT TCS makes first digital acquisition buys design studio W12 Technology News ETtech\n",
      "Positive Sentiment\n",
      "Happy 53rd birthday and lots of cake from the whole team at Studio by TCS to SRK\n",
      "Positive Sentiment\n",
      "Happy 53rd birthday and lots of cake from the whole team at Studio by TCS to SRK\n",
      "Positive Sentiment\n",
      "RT 4 WelcomeGOT7toThailand\n",
      "Positive Sentiment\n",
      "RT Happy publication DillyCourt THE CHRISTMAS ROSE is out today RT to win 1 of 3 copies Rose had risked everything to\n",
      "Positive Sentiment\n",
      "RT canada Asia Pacific companies like those at the ForbesGlobalCEO Conference are looking to Canada for investment opportunitie\n",
      "Negative Sentiment\n",
      "RT There was inspiration every where you looked as the sun came out for a wonderful Wednesday of TCS Race Week Ab\n",
      "Negative Sentiment\n",
      "RT canada Yummy things are made in Brantford Ontario including Nutella and Ferrero Rocher InvestinCanada WBFMI Milan\n",
      "Negative Sentiment\n",
      "AIIndia\n"
     ]
    },
    {
     "name": "stdout",
     "output_type": "stream",
     "text": [
      "Positive Sentiment\n",
      "RT Europe What do retailers value in their technology partners s shares her thoughts with\n",
      "Negative Sentiment\n",
      "RT HappyHalloween For your chance to WIN this spook tacular bundle on this wicked WinItWednesday simply FOLLOW us and RT\n",
      "Negative Sentiment\n",
      "RT It will focus you 3 days Right about now you start to hone down on your training you re focused on running your be\n",
      "Negative Sentiment\n",
      "RT na Use our 2018 TCSNYCMarathon app to create digital cheer cards and show your support for friends and family in this year s race\n",
      "Negative Sentiment\n",
      "RT Meet Canadian organizations innovative companies amp officials from municipalities looking at smart solutions Canada booth is\n",
      "Positive Sentiment\n",
      "RT ANZ After his first marathon earlier this year at the TCS Australian Running Festival in Canberra Rahul is in the US with his fel\n",
      "Positive Sentiment\n",
      "RT canada Attending WBFMI today Visit our booth to find out about why the time to InvestinCanada is now Milano SDC\n",
      "Positive Sentiment\n",
      "Best of luck to Rowena Hubble ahead of first full marathon with TeamTCS at the TCSNYCmarathon What\n",
      "Positive Sentiment\n",
      "RT\n",
      "Negative Sentiment\n",
      "With four Days To Next Earnings Report Container Store Group Inc NYSE TCS Close At 5 91\n",
      "Positive Sentiment\n",
      "RT RT this post and follow us for your chance to twirl into winter and win a Ballet Theatre and Ice Skating Friends We ve g\n",
      "Negative Sentiment\n",
      "RT s not backing down from his own AAPL don t trade it mantra\n",
      "Negative Sentiment\n",
      "RT 16 down days in October most for any month since 1970 amp tied for 3rd worst month since S amp P s inception in 1928\n",
      "Negative Sentiment\n",
      "TCs in Ladies special 1st class coach to check if 2nd class pax in 1st Waste of time No point today C\n",
      "Positive Sentiment\n",
      "RT\n",
      "Negative Sentiment\n",
      "RT Congrats to News a Leader in NelsonHall NEAT for Managed Security Services\n",
      "Positive Sentiment\n",
      "RT Latest NelsonHall Quarterly Update on News Another very strong quarter as outsourcing contracts ramp and TCS gains m\n",
      "Negative Sentiment\n",
      "That s what I am saying Haven t been to bbsr but have a lot of friends working in Infy\n",
      "Positive Sentiment\n",
      "RT News TCS acquires W12 Studios an award winning London based Digital Design Studio Read more\n"
     ]
    }
   ],
   "source": [
    "for tweet in public_tweets:\n",
    "    a=clean_tweet(tweet.text)\n",
    "    inputMatrix = getSentenceMatrix(a)\n",
    "    predictedSentiment = sess.run(prediction, {input_data: inputMatrix})[0]\n",
    "    if (predictedSentiment[0] > predictedSentiment[1]):\n",
    "        print (\"Positive Sentiment\")\n",
    "        positive += 1\n",
    "    else:\n",
    "        print (\"Negative Sentiment\")\n",
    "        negative += 1\n",
    "    print(a)\n",
    "    #text = clean_tweet(tweets.txt)\n",
    "    #print(text)\n",
    "    "
   ]
  },
  {
   "cell_type": "code",
   "execution_count": 20,
   "metadata": {},
   "outputs": [
    {
     "name": "stdout",
     "output_type": "stream",
     "text": [
      "Positive: 65\n",
      "Negative: 35\n"
     ]
    }
   ],
   "source": [
    "print('Positive:', positive)\n",
    "print('Negative:', negative)"
   ]
  }
 ],
 "metadata": {
  "anaconda-cloud": {},
  "kernelspec": {
   "display_name": "Python 3",
   "language": "python",
   "name": "python3"
  },
  "language_info": {
   "codemirror_mode": {
    "name": "ipython",
    "version": 3
   },
   "file_extension": ".py",
   "mimetype": "text/x-python",
   "name": "python",
   "nbconvert_exporter": "python",
   "pygments_lexer": "ipython3",
   "version": "3.6.3"
  }
 },
 "nbformat": 4,
 "nbformat_minor": 1
}
