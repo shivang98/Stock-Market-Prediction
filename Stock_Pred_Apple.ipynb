{
 "cells": [
  {
   "cell_type": "markdown",
   "metadata": {},
   "source": [
    "## Importing Libraries"
   ]
  },
  {
   "cell_type": "code",
   "execution_count": 1,
   "metadata": {},
   "outputs": [
    {
     "name": "stderr",
     "output_type": "stream",
     "text": [
      "Using TensorFlow backend.\n"
     ]
    }
   ],
   "source": [
    "import numpy as np\n",
    "import pandas as pd\n",
    "from keras.layers.core import Dense, Activation, Dropout\n",
    "from keras.layers.recurrent import LSTM\n",
    "from keras.models import Sequential\n",
    "import matplotlib.pyplot as plt\n",
    "import time\n",
    "import datetime as dt\n",
    "import urllib.request, json\n",
    "import os\n",
    "from pandas_datareader import data\n",
    "import tweepy\n",
    "from textblob import TextBlob\n",
    "import re"
   ]
  },
  {
   "cell_type": "markdown",
   "metadata": {},
   "source": [
    "## Getting data using Alpha Vantage API"
   ]
  },
  {
   "cell_type": "code",
   "execution_count": 2,
   "metadata": {},
   "outputs": [
    {
     "name": "stdout",
     "output_type": "stream",
     "text": [
      "Data saved to : stock_market_data-AAPL.csv\n"
     ]
    }
   ],
   "source": [
    "data_source = 'alphavantage'\n",
    "\n",
    "if data_source == 'alphavantage':\n",
    "    # ====================== Loading Data from Alpha Vantage ==================================\n",
    "\n",
    "    api_key = '7TONQ8CM5PXZ4YEO'\n",
    "\n",
    "    # Apple stock market prices\n",
    "    ticker = \"AAPL\"\n",
    "\n",
    "    # JSON file with all the stock market data for Apple\n",
    "    url_string = \"https://www.alphavantage.co/query?function=TIME_SERIES_DAILY&symbol=%s&outputsize=full&apikey=%s\"%(ticker,api_key)\n",
    "\n",
    "    # Save data to this file\n",
    "    file_to_save = 'stock_market_data-%s.csv'%ticker\n",
    "\n",
    "    # If you haven't already saved data,\n",
    "    # Go ahead and grab the data from the url\n",
    "    # And store date, low, high, volume, close, open values to a Pandas DataFrame\n",
    "    if not os.path.exists(file_to_save):\n",
    "        with urllib.request.urlopen(url_string) as url:\n",
    "            data = json.loads(url.read().decode())\n",
    "            # extract stock market data\n",
    "            data = data['Time Series (Daily)']\n",
    "            df = pd.DataFrame(columns=['Date','Low','High','Close','Open'])\n",
    "            for k,v in data.items():\n",
    "                date = dt.datetime.strptime(k, '%Y-%m-%d')\n",
    "                data_row = [date.date(),float(v['3. low']),float(v['2. high']),\n",
    "                            float(v['4. close']),float(v['1. open'])]\n",
    "                df.loc[-1,:] = data_row\n",
    "                df.index = df.index + 1\n",
    "        print('Data saved to : %s'%file_to_save)        \n",
    "        df.to_csv(file_to_save)\n",
    "\n",
    "    # If the data is already there, just load it from the CSV\n",
    "    else:\n",
    "        print('File already exists. Loading data from CSV')\n",
    "        df = pd.read_csv(file_to_save)"
   ]
  },
  {
   "cell_type": "code",
   "execution_count": 3,
   "metadata": {},
   "outputs": [],
   "source": [
    "df = pd.read_csv(\"stock_market_data-AAPL.csv\")"
   ]
  },
  {
   "cell_type": "code",
   "execution_count": 4,
   "metadata": {},
   "outputs": [],
   "source": [
    "df = df[['Date', 'Open', 'Close', 'Low', 'High']]"
   ]
  },
  {
   "cell_type": "code",
   "execution_count": 5,
   "metadata": {},
   "outputs": [],
   "source": [
    "df = df.sort_values('Date')"
   ]
  },
  {
   "cell_type": "code",
   "execution_count": 6,
   "metadata": {},
   "outputs": [
    {
     "data": {
      "text/html": [
       "<div>\n",
       "<style scoped>\n",
       "    .dataframe tbody tr th:only-of-type {\n",
       "        vertical-align: middle;\n",
       "    }\n",
       "\n",
       "    .dataframe tbody tr th {\n",
       "        vertical-align: top;\n",
       "    }\n",
       "\n",
       "    .dataframe thead th {\n",
       "        text-align: right;\n",
       "    }\n",
       "</style>\n",
       "<table border=\"1\" class=\"dataframe\">\n",
       "  <thead>\n",
       "    <tr style=\"text-align: right;\">\n",
       "      <th></th>\n",
       "      <th>Date</th>\n",
       "      <th>Open</th>\n",
       "      <th>Close</th>\n",
       "      <th>Low</th>\n",
       "      <th>High</th>\n",
       "    </tr>\n",
       "  </thead>\n",
       "  <tbody>\n",
       "    <tr>\n",
       "      <th>5243</th>\n",
       "      <td>1998-01-02</td>\n",
       "      <td>13.63</td>\n",
       "      <td>16.25</td>\n",
       "      <td>13.50</td>\n",
       "      <td>16.25</td>\n",
       "    </tr>\n",
       "    <tr>\n",
       "      <th>5242</th>\n",
       "      <td>1998-01-05</td>\n",
       "      <td>16.50</td>\n",
       "      <td>15.88</td>\n",
       "      <td>15.19</td>\n",
       "      <td>16.56</td>\n",
       "    </tr>\n",
       "    <tr>\n",
       "      <th>5241</th>\n",
       "      <td>1998-01-06</td>\n",
       "      <td>15.94</td>\n",
       "      <td>18.94</td>\n",
       "      <td>14.75</td>\n",
       "      <td>20.00</td>\n",
       "    </tr>\n",
       "    <tr>\n",
       "      <th>5240</th>\n",
       "      <td>1998-01-07</td>\n",
       "      <td>18.81</td>\n",
       "      <td>17.50</td>\n",
       "      <td>17.31</td>\n",
       "      <td>19.00</td>\n",
       "    </tr>\n",
       "    <tr>\n",
       "      <th>5239</th>\n",
       "      <td>1998-01-08</td>\n",
       "      <td>17.44</td>\n",
       "      <td>18.19</td>\n",
       "      <td>16.94</td>\n",
       "      <td>18.62</td>\n",
       "    </tr>\n",
       "  </tbody>\n",
       "</table>\n",
       "</div>"
      ],
      "text/plain": [
       "            Date   Open  Close    Low   High\n",
       "5243  1998-01-02  13.63  16.25  13.50  16.25\n",
       "5242  1998-01-05  16.50  15.88  15.19  16.56\n",
       "5241  1998-01-06  15.94  18.94  14.75  20.00\n",
       "5240  1998-01-07  18.81  17.50  17.31  19.00\n",
       "5239  1998-01-08  17.44  18.19  16.94  18.62"
      ]
     },
     "execution_count": 6,
     "metadata": {},
     "output_type": "execute_result"
    }
   ],
   "source": [
    "df.head()"
   ]
  },
  {
   "cell_type": "code",
   "execution_count": 7,
   "metadata": {},
   "outputs": [
    {
     "data": {
      "text/html": [
       "<div>\n",
       "<style scoped>\n",
       "    .dataframe tbody tr th:only-of-type {\n",
       "        vertical-align: middle;\n",
       "    }\n",
       "\n",
       "    .dataframe tbody tr th {\n",
       "        vertical-align: top;\n",
       "    }\n",
       "\n",
       "    .dataframe thead th {\n",
       "        text-align: right;\n",
       "    }\n",
       "</style>\n",
       "<table border=\"1\" class=\"dataframe\">\n",
       "  <thead>\n",
       "    <tr style=\"text-align: right;\">\n",
       "      <th></th>\n",
       "      <th>Date</th>\n",
       "      <th>Open</th>\n",
       "      <th>Close</th>\n",
       "      <th>Low</th>\n",
       "      <th>High</th>\n",
       "    </tr>\n",
       "  </thead>\n",
       "  <tbody>\n",
       "    <tr>\n",
       "      <th>4</th>\n",
       "      <td>2018-10-26</td>\n",
       "      <td>215.90</td>\n",
       "      <td>216.3000</td>\n",
       "      <td>212.67</td>\n",
       "      <td>220.19</td>\n",
       "    </tr>\n",
       "    <tr>\n",
       "      <th>3</th>\n",
       "      <td>2018-10-29</td>\n",
       "      <td>219.19</td>\n",
       "      <td>212.2400</td>\n",
       "      <td>206.09</td>\n",
       "      <td>219.69</td>\n",
       "    </tr>\n",
       "    <tr>\n",
       "      <th>2</th>\n",
       "      <td>2018-10-30</td>\n",
       "      <td>211.15</td>\n",
       "      <td>213.3000</td>\n",
       "      <td>209.27</td>\n",
       "      <td>215.18</td>\n",
       "    </tr>\n",
       "    <tr>\n",
       "      <th>1</th>\n",
       "      <td>2018-10-31</td>\n",
       "      <td>216.88</td>\n",
       "      <td>218.8600</td>\n",
       "      <td>216.62</td>\n",
       "      <td>220.45</td>\n",
       "    </tr>\n",
       "    <tr>\n",
       "      <th>0</th>\n",
       "      <td>2018-11-01</td>\n",
       "      <td>219.05</td>\n",
       "      <td>218.9854</td>\n",
       "      <td>216.81</td>\n",
       "      <td>220.00</td>\n",
       "    </tr>\n",
       "  </tbody>\n",
       "</table>\n",
       "</div>"
      ],
      "text/plain": [
       "         Date    Open     Close     Low    High\n",
       "4  2018-10-26  215.90  216.3000  212.67  220.19\n",
       "3  2018-10-29  219.19  212.2400  206.09  219.69\n",
       "2  2018-10-30  211.15  213.3000  209.27  215.18\n",
       "1  2018-10-31  216.88  218.8600  216.62  220.45\n",
       "0  2018-11-01  219.05  218.9854  216.81  220.00"
      ]
     },
     "execution_count": 7,
     "metadata": {},
     "output_type": "execute_result"
    }
   ],
   "source": [
    "df.tail()"
   ]
  },
  {
   "cell_type": "code",
   "execution_count": 27,
   "metadata": {},
   "outputs": [
    {
     "ename": "SyntaxError",
     "evalue": "invalid syntax (<ipython-input-27-334c3bff23cb>, line 1)",
     "output_type": "error",
     "traceback": [
      "\u001b[0;36m  File \u001b[0;32m\"<ipython-input-27-334c3bff23cb>\"\u001b[0;36m, line \u001b[0;32m1\u001b[0m\n\u001b[0;31m    df[df.Date = '2013-11-25']\u001b[0m\n\u001b[0m               ^\u001b[0m\n\u001b[0;31mSyntaxError\u001b[0m\u001b[0;31m:\u001b[0m invalid syntax\n"
     ]
    }
   ],
   "source": [
    "df[df.Date = '2013-11-25']"
   ]
  },
  {
   "cell_type": "code",
   "execution_count": 8,
   "metadata": {},
   "outputs": [
    {
     "data": {
      "image/png": "[encoded data removed]",
      "text/plain": [
       "<Figure size 1296x648 with 1 Axes>"
      ]
     },
     "metadata": {
      "needs_background": "light"
     },
     "output_type": "display_data"
    }
   ],
   "source": [
    "plt.figure(figsize = (18,9))\n",
    "plt.plot(range(df.shape[0]),(df['Low']+df['High'])/2.0)\n",
    "plt.xticks(range(0,df.shape[0],100),df['Date'].loc[::100],rotation=45)\n",
    "plt.xlabel('Date',fontsize=18)\n",
    "plt.ylabel('Mid Price',fontsize=18)\n",
    "plt.show()"
   ]
  },
  {
   "cell_type": "code",
   "execution_count": 9,
   "metadata": {},
   "outputs": [],
   "source": [
    "high_prices = df.loc[:,'High']\n",
    "low_prices = df.loc[:,'Low']\n",
    "df[\"Mid Prices\"] = (high_prices+low_prices)/2.0"
   ]
  },
  {
   "cell_type": "code",
   "execution_count": 10,
   "metadata": {
    "scrolled": true
   },
   "outputs": [
    {
     "data": {
      "text/html": [
       "<div>\n",
       "<style scoped>\n",
       "    .dataframe tbody tr th:only-of-type {\n",
       "        vertical-align: middle;\n",
       "    }\n",
       "\n",
       "    .dataframe tbody tr th {\n",
       "        vertical-align: top;\n",
       "    }\n",
       "\n",
       "    .dataframe thead th {\n",
       "        text-align: right;\n",
       "    }\n",
       "</style>\n",
       "<table border=\"1\" class=\"dataframe\">\n",
       "  <thead>\n",
       "    <tr style=\"text-align: right;\">\n",
       "      <th></th>\n",
       "      <th>Date</th>\n",
       "      <th>Open</th>\n",
       "      <th>Close</th>\n",
       "      <th>Low</th>\n",
       "      <th>High</th>\n",
       "      <th>Mid Prices</th>\n",
       "    </tr>\n",
       "  </thead>\n",
       "  <tbody>\n",
       "    <tr>\n",
       "      <th>5243</th>\n",
       "      <td>1998-01-02</td>\n",
       "      <td>13.63</td>\n",
       "      <td>16.25</td>\n",
       "      <td>13.50</td>\n",
       "      <td>16.25</td>\n",
       "      <td>14.875</td>\n",
       "    </tr>\n",
       "    <tr>\n",
       "      <th>5242</th>\n",
       "      <td>1998-01-05</td>\n",
       "      <td>16.50</td>\n",
       "      <td>15.88</td>\n",
       "      <td>15.19</td>\n",
       "      <td>16.56</td>\n",
       "      <td>15.875</td>\n",
       "    </tr>\n",
       "    <tr>\n",
       "      <th>5241</th>\n",
       "      <td>1998-01-06</td>\n",
       "      <td>15.94</td>\n",
       "      <td>18.94</td>\n",
       "      <td>14.75</td>\n",
       "      <td>20.00</td>\n",
       "      <td>17.375</td>\n",
       "    </tr>\n",
       "    <tr>\n",
       "      <th>5240</th>\n",
       "      <td>1998-01-07</td>\n",
       "      <td>18.81</td>\n",
       "      <td>17.50</td>\n",
       "      <td>17.31</td>\n",
       "      <td>19.00</td>\n",
       "      <td>18.155</td>\n",
       "    </tr>\n",
       "    <tr>\n",
       "      <th>5239</th>\n",
       "      <td>1998-01-08</td>\n",
       "      <td>17.44</td>\n",
       "      <td>18.19</td>\n",
       "      <td>16.94</td>\n",
       "      <td>18.62</td>\n",
       "      <td>17.780</td>\n",
       "    </tr>\n",
       "  </tbody>\n",
       "</table>\n",
       "</div>"
      ],
      "text/plain": [
       "            Date   Open  Close    Low   High  Mid Prices\n",
       "5243  1998-01-02  13.63  16.25  13.50  16.25      14.875\n",
       "5242  1998-01-05  16.50  15.88  15.19  16.56      15.875\n",
       "5241  1998-01-06  15.94  18.94  14.75  20.00      17.375\n",
       "5240  1998-01-07  18.81  17.50  17.31  19.00      18.155\n",
       "5239  1998-01-08  17.44  18.19  16.94  18.62      17.780"
      ]
     },
     "execution_count": 10,
     "metadata": {},
     "output_type": "execute_result"
    }
   ],
   "source": [
    "df.head()"
   ]
  },
  {
   "cell_type": "markdown",
   "metadata": {},
   "source": [
    "## Data Cleaning"
   ]
  },
  {
   "cell_type": "code",
   "execution_count": 11,
   "metadata": {},
   "outputs": [],
   "source": [
    "df.drop(\"Date\", axis = 1,inplace = True)"
   ]
  },
  {
   "cell_type": "code",
   "execution_count": 12,
   "metadata": {},
   "outputs": [],
   "source": [
    "from sklearn.preprocessing import StandardScaler"
   ]
  },
  {
   "cell_type": "code",
   "execution_count": 13,
   "metadata": {},
   "outputs": [
    {
     "data": {
      "text/plain": [
       "StandardScaler(copy=True, with_mean=True, with_std=True)"
      ]
     },
     "execution_count": 13,
     "metadata": {},
     "output_type": "execute_result"
    }
   ],
   "source": [
    "scaler = StandardScaler()\n",
    "scaler.fit(df)"
   ]
  },
  {
   "cell_type": "code",
   "execution_count": 14,
   "metadata": {},
   "outputs": [],
   "source": [
    "df = scaler.transform(df)"
   ]
  },
  {
   "cell_type": "markdown",
   "metadata": {},
   "source": [
    "## Building Long-Short Term Memory Cell to implement Recurrent Neural Network"
   ]
  },
  {
   "cell_type": "markdown",
   "metadata": {},
   "source": [
    "![title](img/RNN.png)"
   ]
  },
  {
   "cell_type": "markdown",
   "metadata": {},
   "source": [
    "![title](img/LSTM.png)"
   ]
  },
  {
   "cell_type": "code",
   "execution_count": 15,
   "metadata": {},
   "outputs": [],
   "source": [
    "def build_model(layers):\n",
    "    model = Sequential()\n",
    "\n",
    "    model.add(LSTM(\n",
    "        input_shape=(None, layers[0]),\n",
    "        units=50,\n",
    "        return_sequences=True))\n",
    "    model.add(Dropout(0.2))\n",
    "\n",
    "    model.add(LSTM(\n",
    "        100,\n",
    "        return_sequences=False))\n",
    "    model.add(Dropout(0.2))\n",
    "\n",
    "    model.add(Dense(\n",
    "        units=1))\n",
    "    model.add(Activation('linear'))\n",
    "\n",
    "    start = time.time()\n",
    "    model.compile(loss='mse', optimizer='rmsprop')\n",
    "    print ('compilation time : ', time.time() - start)\n",
    "    return model"
   ]
  },
  {
   "cell_type": "markdown",
   "metadata": {},
   "source": [
    "## Load data as per model requirements"
   ]
  },
  {
   "cell_type": "code",
   "execution_count": 16,
   "metadata": {},
   "outputs": [],
   "source": [
    "def load_data(stock, seq_len):\n",
    "    amount_of_features = 5\n",
    "    data = stock\n",
    "    sequence_length = seq_len + 1\n",
    "    result = []\n",
    "    for index in range(len(data) - sequence_length):\n",
    "        result.append(data[index: index + sequence_length])\n",
    "    \n",
    "    result =  np.array(result)\n",
    "    row = round(0.9 * result.shape[0])\n",
    "    train = result[:int(row), :]\n",
    "    x_train = train[:, :-1]\n",
    "    y_train = train[:, -1][:,-1]\n",
    "    x_test = result[int(row):, :-1]\n",
    "    y_test = result[int(row):, -1][:,-1]\n",
    "\n",
    "    x_train = np.reshape(x_train, (x_train.shape[0], x_train.shape[1], amount_of_features))\n",
    "    x_test = np.reshape(x_test, (x_test.shape[0], x_test.shape[1], amount_of_features))  \n",
    "\n",
    "    return [x_train, y_train, x_test, y_test]"
   ]
  },
  {
   "cell_type": "code",
   "execution_count": 17,
   "metadata": {},
   "outputs": [
    {
     "name": "stdout",
     "output_type": "stream",
     "text": [
      "X_train (4714, 5, 5)\n",
      "y_train (4714,)\n",
      "X_test (524, 5, 5)\n",
      "y_test (524,)\n"
     ]
    }
   ],
   "source": [
    "window = 5\n",
    "X_train, y_train, X_test, y_test = load_data(df, window)\n",
    "print(\"X_train\", X_train.shape)\n",
    "print(\"y_train\", y_train.shape)\n",
    "print(\"X_test\", X_test.shape)\n",
    "print(\"y_test\", y_test.shape)"
   ]
  },
  {
   "cell_type": "code",
   "execution_count": 18,
   "metadata": {},
   "outputs": [
    {
     "name": "stdout",
     "output_type": "stream",
     "text": [
      "compilation time :  0.023461580276489258\n"
     ]
    }
   ],
   "source": [
    "model = build_model([5,window,1])"
   ]
  },
  {
   "cell_type": "markdown",
   "metadata": {},
   "source": [
    "## Training Time!"
   ]
  },
  {
   "cell_type": "code",
   "execution_count": 19,
   "metadata": {
    "scrolled": true
   },
   "outputs": [
    {
     "name": "stdout",
     "output_type": "stream",
     "text": [
      "Train on 4242 samples, validate on 472 samples\n",
      "Epoch 1/25\n",
      "4242/4242 [==============================] - 2s 394us/step - loss: 0.2974 - val_loss: 0.0079\n",
      "Epoch 2/25\n",
      "4242/4242 [==============================] - 0s 114us/step - loss: 0.0248 - val_loss: 0.0062\n",
      "Epoch 3/25\n",
      "4242/4242 [==============================] - 0s 117us/step - loss: 0.0305 - val_loss: 0.0034\n",
      "Epoch 4/25\n",
      "4242/4242 [==============================] - 0s 114us/step - loss: 0.0220 - val_loss: 0.0064\n",
      "Epoch 5/25\n",
      "4242/4242 [==============================] - 0s 115us/step - loss: 0.0297 - val_loss: 0.0014\n",
      "Epoch 6/25\n",
      "4242/4242 [==============================] - 1s 119us/step - loss: 0.0296 - val_loss: 0.0032\n",
      "Epoch 7/25\n",
      "4242/4242 [==============================] - 0s 118us/step - loss: 0.0205 - val_loss: 0.0023\n",
      "Epoch 8/25\n",
      "4242/4242 [==============================] - 1s 119us/step - loss: 0.0286 - val_loss: 5.7091e-04\n",
      "Epoch 9/25\n",
      "4242/4242 [==============================] - 0s 118us/step - loss: 0.0229 - val_loss: 0.0015\n",
      "Epoch 10/25\n",
      "4242/4242 [==============================] - 1s 123us/step - loss: 0.0174 - val_loss: 3.2695e-04\n",
      "Epoch 11/25\n",
      "4242/4242 [==============================] - 1s 125us/step - loss: 0.0257 - val_loss: 0.0011\n",
      "Epoch 12/25\n",
      "4242/4242 [==============================] - 1s 123us/step - loss: 0.0208 - val_loss: 7.3113e-04\n",
      "Epoch 13/25\n",
      "4242/4242 [==============================] - 1s 124us/step - loss: 0.0208 - val_loss: 3.2184e-04\n",
      "Epoch 14/25\n",
      "4242/4242 [==============================] - 1s 122us/step - loss: 0.0257 - val_loss: 5.7112e-04\n",
      "Epoch 15/25\n",
      "4242/4242 [==============================] - 1s 124us/step - loss: 0.0153 - val_loss: 0.0012\n",
      "Epoch 16/25\n",
      "4242/4242 [==============================] - 1s 122us/step - loss: 0.0229 - val_loss: 4.8204e-04\n",
      "Epoch 17/25\n",
      "4242/4242 [==============================] - 1s 123us/step - loss: 0.0215 - val_loss: 5.5207e-04\n",
      "Epoch 18/25\n",
      "4242/4242 [==============================] - 1s 132us/step - loss: 0.0223 - val_loss: 2.6154e-04\n",
      "Epoch 19/25\n",
      "4242/4242 [==============================] - 1s 145us/step - loss: 0.0238 - val_loss: 4.0626e-04\n",
      "Epoch 20/25\n",
      "4242/4242 [==============================] - 1s 124us/step - loss: 0.0193 - val_loss: 8.5143e-04\n",
      "Epoch 21/25\n",
      "4242/4242 [==============================] - 1s 140us/step - loss: 0.0194 - val_loss: 2.6099e-04\n",
      "Epoch 22/25\n",
      "4242/4242 [==============================] - 1s 123us/step - loss: 0.0232 - val_loss: 4.2392e-04\n",
      "Epoch 23/25\n",
      "4242/4242 [==============================] - 1s 149us/step - loss: 0.0197 - val_loss: 4.6019e-04\n",
      "Epoch 24/25\n",
      "4242/4242 [==============================] - 1s 131us/step - loss: 0.0208 - val_loss: 9.8449e-04\n",
      "Epoch 25/25\n",
      "4242/4242 [==============================] - 1s 118us/step - loss: 0.0146 - val_loss: 0.0011\n"
     ]
    },
    {
     "data": {
      "text/plain": [
       "<keras.callbacks.History at 0x7f7f85d70b00>"
      ]
     },
     "execution_count": 19,
     "metadata": {},
     "output_type": "execute_result"
    }
   ],
   "source": [
    "model.fit(\n",
    "    X_train,\n",
    "    y_train,\n",
    "    batch_size=512,\n",
    "    epochs=25,\n",
    "    validation_split=0.1,\n",
    "    verbose=1)"
   ]
  },
  {
   "cell_type": "code",
   "execution_count": 20,
   "metadata": {},
   "outputs": [
    {
     "name": "stdout",
     "output_type": "stream",
     "text": [
      "0.025742059423035823\n"
     ]
    }
   ],
   "source": [
    "trainScore = model.evaluate(X_train, y_train, verbose=0)\n",
    "print(trainScore)"
   ]
  },
  {
   "cell_type": "markdown",
   "metadata": {},
   "source": [
    "## Predictions"
   ]
  },
  {
   "cell_type": "code",
   "execution_count": 21,
   "metadata": {},
   "outputs": [],
   "source": [
    "p = model.predict(X_test)"
   ]
  },
  {
   "cell_type": "markdown",
   "metadata": {},
   "source": [
    "## Visualizations"
   ]
  },
  {
   "cell_type": "code",
   "execution_count": 22,
   "metadata": {},
   "outputs": [
    {
     "data": {
      "image/png": "[encoded data removed]",
      "text/plain": [
       "<Figure size 1296x648 with 1 Axes>"
      ]
     },
     "metadata": {
      "needs_background": "light"
     },
     "output_type": "display_data"
    }
   ],
   "source": [
    "import matplotlib.pyplot as plt2\n",
    "plt2.figure(figsize = (18,9))\n",
    "plt2.plot(p,color='red', label='prediction')\n",
    "plt2.plot(y_test,color='blue', label='y_test')\n",
    "plt2.legend(loc='upper left')\n",
    "plt2.show()"
   ]
  },
  {
   "cell_type": "markdown",
   "metadata": {},
   "source": [
    "## Sentiment Analysis"
   ]
  },
  {
   "cell_type": "code",
   "execution_count": 23,
   "metadata": {},
   "outputs": [],
   "source": [
    "consumer_key= 'E0pFYVai9VaOhqLiRBEC6gpGF'\n",
    "consumer_secret= 'XAMh4l9XL5nwFK3MN5tAjtXA2YgDN1tw5f7L2n6dz5ib8VYlbm'\n",
    "\n",
    "access_token='3261604734-86c7DOJP98GwNeFWzvgPQKFUTyHn1ZFwlloJP3v'\n",
    "access_token_secret='eXEmlEAdxaFjueVP03jsAWeOeNMkI7ToiDQkyvLDa6eX7'"
   ]
  },
  {
   "cell_type": "code",
   "execution_count": 24,
   "metadata": {},
   "outputs": [],
   "source": [
    "auth = tweepy.OAuthHandler(consumer_key, consumer_secret)\n",
    "auth.set_access_token(access_token, access_token_secret)\n",
    "\n",
    "api = tweepy.API(auth)"
   ]
  },
  {
   "cell_type": "code",
   "execution_count": 25,
   "metadata": {},
   "outputs": [],
   "source": [
    "public_tweets = api.search('TCS', count = 1000)"
   ]
  },
  {
   "cell_type": "code",
   "execution_count": 26,
   "metadata": {},
   "outputs": [],
   "source": [
    "def clean_tweet(tweet):\n",
    "    return ' '.join(re.sub(\"(@[A-Za-z0-9]+)|([^0-9A-Za-z \\t])|(\\w+:\\/\\/\\S+)\", \" \", tweet).split())"
   ]
  },
  {
   "cell_type": "code",
   "execution_count": 27,
   "metadata": {},
   "outputs": [],
   "source": [
    "def get_tweet_sentiment(tweet):\n",
    "    analysis = TextBlob(clean_tweet(tweet))\n",
    "    if analysis.sentiment.polarity > 0:\n",
    "        return 'positive'\n",
    "    elif analysis.sentiment.polarity == 0:\n",
    "        return 'neutral'\n",
    "    else:\n",
    "        return 'negative'"
   ]
  },
  {
   "cell_type": "code",
   "execution_count": 28,
   "metadata": {},
   "outputs": [
    {
     "name": "stdout",
     "output_type": "stream",
     "text": [
      "100\n",
      "RT COMPETITION WIN a retro sweet hamper To enter RETWEET this post amp POST a picture of your bump baby toddler or even\n",
      "positive\n",
      "\n",
      "RT TCS acquires London based W12 Studios via\n",
      "neutral\n",
      "\n",
      "TCS acquires London based W12 Studios\n",
      "neutral\n",
      "\n",
      "RT TCS acquires London based W12 Studios via\n",
      "neutral\n",
      "\n",
      "RT TCS acquires London based W12 Studios via\n",
      "neutral\n",
      "\n",
      "Calling all TCS New York City Marathon Runners Check out these NYC Marathon tips from the experts to keep you runn\n",
      "positive\n",
      "\n",
      "RT The day is here Our BWIT team is departing for this afternoon BWIT assists womenexporters Much success on th\n",
      "positive\n",
      "\n",
      "RT Scream if you want to go FirstClass RT for the chance to win x2 First Class return tickets amp x2 passes to the Yor\n",
      "positive\n",
      "\n",
      "Looking forward to exhibiting at DCD London next week Come and see our Cabinets and Prism TCS Aisle Containment\n",
      "neutral\n",
      "\n",
      "\n",
      "neutral\n",
      "\n",
      "RT TCS acquires London based W12 Studios via\n",
      "neutral\n",
      "\n",
      "RT TCS acquires London based W12 Studios via\n",
      "neutral\n",
      "\n",
      "RT tcs\n",
      "neutral\n",
      "\n",
      "tcs Estas noticias son grandes areneros corruptos\n",
      "neutral\n",
      "\n",
      "TCS acquires London based W12 Studios via\n",
      "neutral\n",
      "\n",
      "Muchas gracias por la nota\n",
      "neutral\n",
      "\n",
      "The day is here Our BWIT team is departing for this afternoon BWIT assists womenexporters Much success on\n",
      "positive\n",
      "\n",
      "RT Campbell Amazing SDC team working on Scaling better services to our clients is challenging as we are globa\n",
      "positive\n",
      "\n",
      "Campbell SDC Excited to be part of this initiative TCStransformationSDC GCDigital\n",
      "positive\n",
      "\n",
      "RT WIN To get you ready for the festive season we re giving away a 100 voucher to spend at To enter RT\n",
      "positive\n",
      "\n",
      "RT HAPPY HALLOWEEN We have the perfect Halloween treat for you the bestseller WhileYouSleep by and\n",
      "positive\n",
      "\n",
      "It is AB TCs only fitted at Home and Advanced Section signals\n",
      "positive\n",
      "\n",
      "tcs Los empleados p blicos en general le deben todo el respeto a la naci n Si pretenden ser respetados son los obligados\n",
      "positive\n",
      "\n",
      "The CPTPP will give Canadian exporters duty free access to Japan the world s third largest economy with a signif\n",
      "positive\n",
      "\n",
      "Le PTPGP donnera aux exportateurs canadiens un acc s en franchise de droits au Japon troisi me conomie mondiale\n",
      "neutral\n",
      "\n",
      "The TCS New York City Marathon is THIS WEEKEND Here s what you need to know Apart from the fact that it s THE\n",
      "positive\n",
      "\n",
      "RT Campbell Amazing SDC team working on Scaling better services to our clients is challenging as we are globa\n",
      "positive\n",
      "\n",
      "Por favor una sugerencia en serio para su programa INVITEN A UN ARENE\n",
      "neutral\n",
      "\n",
      "RT Patricia Campbell SDC Thank you for sharing a great member of the\n",
      "positive\n",
      "\n",
      "RT astram Este CORRUPTO de estar en Frente con grabaremos la entrevista y s nos menciona nue\n",
      "neutral\n",
      "\n",
      "RT International tech companies and investors consider Canada as the best environment to do business expand or relocate Come\n",
      "positive\n",
      "\n",
      "RT D a y horario confirmado Final COPA LIBERTADORES Se jugar n el S bado 10 11 16 HS BOMBONERA 24 11 16 HS MONUME\n",
      "neutral\n",
      "\n",
      "RT Welcome runners to the grand opening of the TCS New York City Marathon Expo Presented by We kicked off with\n",
      "positive\n",
      "\n",
      "Sir wats now for tcs\n",
      "neutral\n",
      "\n",
      "El proceso de onboarding con TCS es mi relaci n t xica\n",
      "neutral\n",
      "\n",
      "\n",
      "neutral\n",
      "\n",
      "Our MTP Class of 2018 18 weeks of training culminating with the biggest marathon of all the TCS New Yo\n",
      "positive\n",
      "\n",
      "RT Our Trade Commissioners in Havana meeting with a client at FIHAV 2018 SDC\n",
      "neutral\n",
      "\n",
      "Our Trade Commissioners in Havana meeting with a client at FIHAV 2018 SDC\n",
      "neutral\n",
      "\n",
      "International tech companies and investors consider Canada as the best environment to do business expand or reloca\n",
      "positive\n",
      "\n",
      "Photographs from last week s BigTechDinner with BaNCS during Sibos are now available Click here to view\n",
      "positive\n",
      "\n",
      "RT On Nov 7 join our session at BoomiWorld18 to learn how you can achieve radically improved CX amp streamlined operation\n",
      "neutral\n",
      "\n",
      "RT 3 75 GSTR 3B GSTPortalnotworkin\n",
      "neutral\n",
      "\n",
      "RT News TCS acquires W12 Studios an award winning London based Digital Design Studio Read more\n",
      "positive\n",
      "\n",
      "A great team working on making us better as a network focusing our efforts where it matters to help more Canadian\n",
      "positive\n",
      "\n",
      "RT TCS 362\n",
      "neutral\n",
      "\n",
      "RT On Nov 7 join our session at BoomiWorld18 to learn how you can achieve radically improved CX amp streamlined operation\n",
      "neutral\n",
      "\n",
      "ElUta Vaya vaya ahora los twiteros a sueldo del FMLN no s lo coinciden con la campa a sucia d ARENA impulsada po\n",
      "neutral\n",
      "\n",
      "O erro ficar lembrando do momento tcs\n",
      "neutral\n",
      "\n",
      "News This is great\n",
      "positive\n",
      "\n",
      "tcs Con todo respeto a las mujeres pero en realidad hay algunas que pierden su respeto por declaraciones a\n",
      "neutral\n",
      "\n",
      "Campbell SDC Thank you for sharing a great member of the\n",
      "positive\n",
      "\n",
      "RT canada Fiat Chrysler Automobiles has been operating its Windsor Ontario plant since 1928 and recently expanded it in 2014\n",
      "neutral\n",
      "\n",
      "TCS going for deeper dive\n",
      "neutral\n",
      "\n",
      "Triple Crown Sports is seeking a person who has a passion to engage in the competitive market of girl s club basket\n",
      "neutral\n",
      "\n",
      "RT HappyHalloween For your chance to WIN this spook tacular bundle on this wicked WinItWednesday simply FOLLOW us and RT\n",
      "positive\n",
      "\n",
      "calderon Espinoza21 TCS Don aguevador jajaja saludos viejo lesbiano\n",
      "neutral\n",
      "\n",
      "NoticierosTCS Temblor de magnitud 5 9 en Panam\n",
      "neutral\n",
      "\n",
      "RT Scream if you want to go FirstClass RT for the chance to win x2 First Class return tickets amp x2 passes to the Yor\n",
      "positive\n",
      "\n",
      "RT TCS 362\n",
      "neutral\n",
      "\n",
      "Le silence est l l ment dans lequel se fa onnent les grandes choses\n",
      "neutral\n",
      "\n",
      "RT Runners are showing us TFW they finish 26 2 miles at the TCSNYCMarathon They re leaving today with their favorites from\n",
      "neutral\n",
      "\n",
      "RT Y a des gens qui se l vent 4h du mat pour vivre et vous bande de merde vous vous croyez dans un film insha allah a arrive\n",
      "neutral\n",
      "\n",
      "The Conservative Synagogue and are excited to announce this year s SharethePie BuyPie and GiveBack to t\n",
      "positive\n",
      "\n",
      "Want to avail up to 80 OFF on JazzCashWhiteFriday Sale Register yourself on the JazzCash application from the l\n",
      "neutral\n",
      "\n",
      "RT TCS makes first digital acquisition buys design studio W12 Technology News ETtech\n",
      "positive\n",
      "\n",
      "RT Go f re la purge oui purgeeeuuuh cass vitre bus vol f re p t p tar mdr xd Purge\n",
      "neutral\n",
      "\n",
      "RT HappyHalloween For your chance to WIN this spook tacular bundle on this wicked WinItWednesday simply FOLLOW us and RT\n",
      "positive\n",
      "\n",
      "DataDiplomacy India Leading Discourse in DataFlows Discussion around the opportunities amp challenges for Indian b\n",
      "neutral\n",
      "\n",
      "RT Runners are showing us TFW they finish 26 2 miles at the TCSNYCMarathon They re leaving today with their favorites from\n",
      "neutral\n",
      "\n",
      "RT HappyHalloween For your chance to WIN this spook tacular bundle on this wicked WinItWednesday simply FOLLOW us and RT\n",
      "positive\n",
      "\n",
      "tcs Jajaja noticieros Tcs arena devuelvan lo robado\n",
      "neutral\n",
      "\n",
      "RT WIN To get you ready for the festive season we re giving away a 100 voucher to spend at To enter RT\n",
      "positive\n",
      "\n",
      "tcs Est desesperado el carlis\n",
      "neutral\n",
      "\n",
      "RT HappyHalloween For your chance to WIN this spook tacular bundle on this wicked WinItWednesday simply FOLLOW us and RT\n",
      "positive\n",
      "\n",
      "Why your business should consider investing in HAAS technology\n",
      "neutral\n",
      "\n",
      "On Nov 7 join our session at BoomiWorld18 to learn how you can achieve radically improved CX amp streamlined opera\n",
      "neutral\n",
      "\n",
      "MAG y PMA entregan insumos agr colas para manejo y conservaci n ambiental a los afectados por fen menos clim ticos\n",
      "neutral\n",
      "\n",
      "PLOT TWIST These runners in the 2018 Venice Marathon had to run through flooded streets to get to the finish line\n",
      "neutral\n",
      "\n",
      "RT Meet at BoomiWorld18 to harness the power of your hybridcloud environment Just THREE days away\n",
      "neutral\n",
      "\n",
      "NoticierosTCS Temblor de magnitud 5 9 en Panam\n",
      "neutral\n",
      "\n",
      "Thank you Lauren Sundberg for donating 100 towards my goal Please help me raise 10 000 for TCS NYC Marathon 2018\n",
      "neutral\n",
      "\n",
      "A pocas horas de celebrar el d a de los muertos uno de nuestros equipos visit un cementerio capitalino para conoc\n",
      "neutral\n",
      "\n",
      "RT uday gadkari Not only GST Revenue departments\n",
      "neutral\n",
      "\n",
      "RT COMPETITION WIN a retro sweet hamper To enter RETWEET this post amp POST a picture of your bump baby toddler or even\n",
      "positive\n",
      "\n",
      "Estos corredores est n practicando su cara al llegar a la meta del TCSNYCMarathon Llevar n consigo el logro y su\n",
      "neutral\n",
      "\n",
      "Was geht am Wochenende Laufen kann man nah amp fern einfach berall das ist ja das Sch ne an der Sache F r u\n",
      "neutral\n",
      "\n",
      "RT Tatas TCS violated rules in sacking Mistry RTI reply from RoC\n",
      "neutral\n",
      "\n",
      "RT COMPETITION WIN a retro sweet hamper To enter RETWEET this post amp POST a picture of your bump baby toddler or even\n",
      "positive\n",
      "\n",
      "RT uday gadkari Not only GST Revenue departments\n",
      "neutral\n",
      "\n",
      "RT A warm welcome to W12 Studios into the TCS Interactive\n",
      "positive\n",
      "\n",
      "RT canada Canada s podium worthy global market access research talent and quality of life create an ideal environment for busi\n",
      "positive\n",
      "\n",
      "\n",
      "neutral\n",
      "\n",
      "IndiaDevelopmentDebate GSTBoost From 1 oct govt started TDS TCS measures for e commerce vendors amp govt contract\n",
      "neutral\n",
      "\n",
      "\n",
      "neutral\n",
      "\n",
      "RT canada Great few days at ForbesGlobalCEO Conference where Canadian and Asia Pacific business leaders discussed investment oppo\n",
      "positive\n",
      "\n",
      "Overcoming NEC delays cancelations to head into nyc for na goIT regional student challenge at\n",
      "neutral\n",
      "\n",
      "RT tdsbdlls working on Design Thinking case studies with na Very excited to start phase 2 of this partnership with TCS\n",
      "positive\n",
      "\n",
      "Runners are showing us TFW they finish 26 2 miles at the TCSNYCMarathon They re leaving today with their favorit\n",
      "neutral\n",
      "\n",
      "RT Tatas TCS violated rules in sacking Mistry RTI reply from RoC\n",
      "neutral\n",
      "\n"
     ]
    }
   ],
   "source": [
    "positive = 0\n",
    "negative = 0\n",
    "neutral = 0\n",
    "print(len(public_tweets))\n",
    "for tweet in public_tweets:\n",
    "#     print(tweet.text)\n",
    "    print(clean_tweet(tweet.text))\n",
    "    sentiment = get_tweet_sentiment(tweet.text) \n",
    "    print(sentiment)\n",
    "    if sentiment == 'positive':\n",
    "        positive += 1\n",
    "    elif sentiment == 'negative':\n",
    "        negative += 1\n",
    "    elif sentiment == 'neutral':\n",
    "        neutral += 1\n",
    "    print(\"\")"
   ]
  },
  {
   "cell_type": "code",
   "execution_count": 29,
   "metadata": {},
   "outputs": [
    {
     "name": "stdout",
     "output_type": "stream",
     "text": [
      "Positive: 38\n",
      "Negative: 0\n",
      "Neutral: 62\n"
     ]
    }
   ],
   "source": [
    "print('Positive:', positive)\n",
    "print('Negative:', negative)\n",
    "print('Neutral:', neutral)"
   ]
  }
 ],
 "metadata": {
  "kernelspec": {
   "display_name": "Python 3",
   "language": "python",
   "name": "python3"
  },
  "language_info": {
   "codemirror_mode": {
    "name": "ipython",
    "version": 3
   },
   "file_extension": ".py",
   "mimetype": "text/x-python",
   "name": "python",
   "nbconvert_exporter": "python",
   "pygments_lexer": "ipython3",
   "version": "3.6.6"
  }
 },
 "nbformat": 4,
 "nbformat_minor": 2
}
