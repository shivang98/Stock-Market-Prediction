{
 "cells": [
  {
   "cell_type": "markdown",
   "metadata": {},
   "source": [
    "## Importing Libraries"
   ]
  },
  {
   "cell_type": "code",
   "execution_count": 1,
   "metadata": {},
   "outputs": [
    {
     "name": "stderr",
     "output_type": "stream",
     "text": [
      "Using TensorFlow backend.\n"
     ]
    }
   ],
   "source": [
    "import numpy as np\n",
    "import pandas as pd\n",
    "from keras.layers.core import Dense, Activation, Dropout\n",
    "from keras.layers.recurrent import LSTM\n",
    "from keras.models import Sequential\n",
    "import matplotlib.pyplot as plt\n",
    "import time\n",
    "import datetime as dt\n",
    "import urllib.request, json\n",
    "import os\n",
    "from pandas_datareader import data\n",
    "import tweepy\n",
    "from textblob import TextBlob\n",
    "import re"
   ]
  },
  {
   "cell_type": "markdown",
   "metadata": {},
   "source": [
    "## Getting data using Alpha Vantage API"
   ]
  },
  {
   "cell_type": "code",
   "execution_count": 2,
   "metadata": {},
   "outputs": [
    {
     "name": "stdout",
     "output_type": "stream",
     "text": [
      "File already exists. Loading data from CSV\n"
     ]
    }
   ],
   "source": [
    "data_source = 'alphavantage'\n",
    "\n",
    "if data_source == 'alphavantage':\n",
    "    # ====================== Loading Data from Alpha Vantage ==================================\n",
    "\n",
    "    api_key = '7TONQ8CM5PXZ4YEO'\n",
    "\n",
    "    # TCS stock market prices\n",
    "    ticker = \"TCS\"\n",
    "\n",
    "    # JSON file with all the stock market data for TCS\n",
    "    url_string = \"https://www.alphavantage.co/query?function=TIME_SERIES_DAILY&symbol=%s&outputsize=full&apikey=%s\"%(ticker,api_key)\n",
    "\n",
    "    # Save data to this file\n",
    "    file_to_save = 'stock_market_data-%s.csv'%ticker\n",
    "\n",
    "    # If you haven't already saved data,\n",
    "    # Go ahead and grab the data from the url\n",
    "    # And store date, low, high, volume, close, open values to a Pandas DataFrame\n",
    "    if not os.path.exists(file_to_save):\n",
    "        with urllib.request.urlopen(url_string) as url:\n",
    "            data = json.loads(url.read().decode())\n",
    "            # extract stock market data\n",
    "            data = data['Time Series (Daily)']\n",
    "            df = pd.DataFrame(columns=['Date','Low','High','Close','Open'])\n",
    "            for k,v in data.items():\n",
    "                date = dt.datetime.strptime(k, '%Y-%m-%d')\n",
    "                data_row = [date.date(),float(v['3. low']),float(v['2. high']),\n",
    "                            float(v['4. close']),float(v['1. open'])]\n",
    "                df.loc[-1,:] = data_row\n",
    "                df.index = df.index + 1\n",
    "        print('Data saved to : %s'%file_to_save)        \n",
    "        df.to_csv(file_to_save)\n",
    "\n",
    "    # If the data is already there, just load it from the CSV\n",
    "    else:\n",
    "        print('File already exists. Loading data from CSV')\n",
    "        df = pd.read_csv(file_to_save)"
   ]
  },
  {
   "cell_type": "code",
   "execution_count": 3,
   "metadata": {},
   "outputs": [],
   "source": [
    "df = pd.read_csv(\"stock_market_data-TCS.csv\")"
   ]
  },
  {
   "cell_type": "code",
   "execution_count": 4,
   "metadata": {},
   "outputs": [],
   "source": [
    "df = df[['Date', 'Open', 'Close', 'Low', 'High']]"
   ]
  },
  {
   "cell_type": "code",
   "execution_count": 5,
   "metadata": {},
   "outputs": [],
   "source": [
    "df = df.sort_values('Date')"
   ]
  },
  {
   "cell_type": "code",
   "execution_count": 6,
   "metadata": {},
   "outputs": [
    {
     "data": {
      "text/html": [
       "<div>\n",
       "<style scoped>\n",
       "    .dataframe tbody tr th:only-of-type {\n",
       "        vertical-align: middle;\n",
       "    }\n",
       "\n",
       "    .dataframe tbody tr th {\n",
       "        vertical-align: top;\n",
       "    }\n",
       "\n",
       "    .dataframe thead th {\n",
       "        text-align: right;\n",
       "    }\n",
       "</style>\n",
       "<table border=\"1\" class=\"dataframe\">\n",
       "  <thead>\n",
       "    <tr style=\"text-align: right;\">\n",
       "      <th></th>\n",
       "      <th>Date</th>\n",
       "      <th>Open</th>\n",
       "      <th>Close</th>\n",
       "      <th>Low</th>\n",
       "      <th>High</th>\n",
       "    </tr>\n",
       "  </thead>\n",
       "  <tbody>\n",
       "    <tr>\n",
       "      <th>1259</th>\n",
       "      <td>2013-11-01</td>\n",
       "      <td>35.00</td>\n",
       "      <td>36.20</td>\n",
       "      <td>32.100</td>\n",
       "      <td>37.00</td>\n",
       "    </tr>\n",
       "    <tr>\n",
       "      <th>1258</th>\n",
       "      <td>2013-11-04</td>\n",
       "      <td>36.80</td>\n",
       "      <td>35.35</td>\n",
       "      <td>34.690</td>\n",
       "      <td>36.80</td>\n",
       "    </tr>\n",
       "    <tr>\n",
       "      <th>1257</th>\n",
       "      <td>2013-11-05</td>\n",
       "      <td>35.11</td>\n",
       "      <td>35.35</td>\n",
       "      <td>34.821</td>\n",
       "      <td>35.50</td>\n",
       "    </tr>\n",
       "    <tr>\n",
       "      <th>1256</th>\n",
       "      <td>2013-11-06</td>\n",
       "      <td>35.61</td>\n",
       "      <td>35.90</td>\n",
       "      <td>35.610</td>\n",
       "      <td>36.49</td>\n",
       "    </tr>\n",
       "    <tr>\n",
       "      <th>1255</th>\n",
       "      <td>2013-11-07</td>\n",
       "      <td>36.80</td>\n",
       "      <td>35.31</td>\n",
       "      <td>34.120</td>\n",
       "      <td>36.80</td>\n",
       "    </tr>\n",
       "  </tbody>\n",
       "</table>\n",
       "</div>"
      ],
      "text/plain": [
       "            Date   Open  Close     Low   High\n",
       "1259  2013-11-01  35.00  36.20  32.100  37.00\n",
       "1258  2013-11-04  36.80  35.35  34.690  36.80\n",
       "1257  2013-11-05  35.11  35.35  34.821  35.50\n",
       "1256  2013-11-06  35.61  35.90  35.610  36.49\n",
       "1255  2013-11-07  36.80  35.31  34.120  36.80"
      ]
     },
     "execution_count": 6,
     "metadata": {},
     "output_type": "execute_result"
    }
   ],
   "source": [
    "df.head()"
   ]
  },
  {
   "cell_type": "code",
   "execution_count": 7,
   "metadata": {},
   "outputs": [
    {
     "data": {
      "text/html": [
       "<div>\n",
       "<style scoped>\n",
       "    .dataframe tbody tr th:only-of-type {\n",
       "        vertical-align: middle;\n",
       "    }\n",
       "\n",
       "    .dataframe tbody tr th {\n",
       "        vertical-align: top;\n",
       "    }\n",
       "\n",
       "    .dataframe thead th {\n",
       "        text-align: right;\n",
       "    }\n",
       "</style>\n",
       "<table border=\"1\" class=\"dataframe\">\n",
       "  <thead>\n",
       "    <tr style=\"text-align: right;\">\n",
       "      <th></th>\n",
       "      <th>Date</th>\n",
       "      <th>Open</th>\n",
       "      <th>Close</th>\n",
       "      <th>Low</th>\n",
       "      <th>High</th>\n",
       "    </tr>\n",
       "  </thead>\n",
       "  <tbody>\n",
       "    <tr>\n",
       "      <th>4</th>\n",
       "      <td>2018-10-26</td>\n",
       "      <td>9.55</td>\n",
       "      <td>9.57</td>\n",
       "      <td>9.32</td>\n",
       "      <td>9.730</td>\n",
       "    </tr>\n",
       "    <tr>\n",
       "      <th>3</th>\n",
       "      <td>2018-10-29</td>\n",
       "      <td>9.70</td>\n",
       "      <td>9.69</td>\n",
       "      <td>9.57</td>\n",
       "      <td>9.930</td>\n",
       "    </tr>\n",
       "    <tr>\n",
       "      <th>2</th>\n",
       "      <td>2018-10-30</td>\n",
       "      <td>9.65</td>\n",
       "      <td>10.05</td>\n",
       "      <td>9.65</td>\n",
       "      <td>10.080</td>\n",
       "    </tr>\n",
       "    <tr>\n",
       "      <th>1</th>\n",
       "      <td>2018-10-31</td>\n",
       "      <td>6.82</td>\n",
       "      <td>5.91</td>\n",
       "      <td>5.72</td>\n",
       "      <td>7.840</td>\n",
       "    </tr>\n",
       "    <tr>\n",
       "      <th>0</th>\n",
       "      <td>2018-11-01</td>\n",
       "      <td>6.01</td>\n",
       "      <td>5.39</td>\n",
       "      <td>5.26</td>\n",
       "      <td>6.009</td>\n",
       "    </tr>\n",
       "  </tbody>\n",
       "</table>\n",
       "</div>"
      ],
      "text/plain": [
       "         Date  Open  Close   Low    High\n",
       "4  2018-10-26  9.55   9.57  9.32   9.730\n",
       "3  2018-10-29  9.70   9.69  9.57   9.930\n",
       "2  2018-10-30  9.65  10.05  9.65  10.080\n",
       "1  2018-10-31  6.82   5.91  5.72   7.840\n",
       "0  2018-11-01  6.01   5.39  5.26   6.009"
      ]
     },
     "execution_count": 7,
     "metadata": {},
     "output_type": "execute_result"
    }
   ],
   "source": [
    "df.tail()"
   ]
  },
  {
   "cell_type": "code",
   "execution_count": 8,
   "metadata": {},
   "outputs": [
    {
     "data": {
      "image/png": "[encoded data removed]",
      "text/plain": [
       "<Figure size 1296x648 with 1 Axes>"
      ]
     },
     "metadata": {
      "needs_background": "light"
     },
     "output_type": "display_data"
    }
   ],
   "source": [
    "plt.figure(figsize = (18,9))\n",
    "plt.plot(range(df.shape[0]),(df['Low']+df['High'])/2.0)\n",
    "plt.xticks(range(0,df.shape[0],100),df['Date'].loc[::100],rotation=45)\n",
    "plt.xlabel('Date',fontsize=18)\n",
    "plt.ylabel('Mid Price',fontsize=18)\n",
    "plt.show()"
   ]
  },
  {
   "cell_type": "code",
   "execution_count": 9,
   "metadata": {},
   "outputs": [],
   "source": [
    "high_prices = df.loc[:,'High']\n",
    "low_prices = df.loc[:,'Low']\n",
    "df[\"Mid Prices\"] = (high_prices+low_prices)/2.0"
   ]
  },
  {
   "cell_type": "code",
   "execution_count": 10,
   "metadata": {
    "scrolled": true
   },
   "outputs": [
    {
     "data": {
      "text/html": [
       "<div>\n",
       "<style scoped>\n",
       "    .dataframe tbody tr th:only-of-type {\n",
       "        vertical-align: middle;\n",
       "    }\n",
       "\n",
       "    .dataframe tbody tr th {\n",
       "        vertical-align: top;\n",
       "    }\n",
       "\n",
       "    .dataframe thead th {\n",
       "        text-align: right;\n",
       "    }\n",
       "</style>\n",
       "<table border=\"1\" class=\"dataframe\">\n",
       "  <thead>\n",
       "    <tr style=\"text-align: right;\">\n",
       "      <th></th>\n",
       "      <th>Date</th>\n",
       "      <th>Open</th>\n",
       "      <th>Close</th>\n",
       "      <th>Low</th>\n",
       "      <th>High</th>\n",
       "      <th>Mid Prices</th>\n",
       "    </tr>\n",
       "  </thead>\n",
       "  <tbody>\n",
       "    <tr>\n",
       "      <th>1259</th>\n",
       "      <td>2013-11-01</td>\n",
       "      <td>35.00</td>\n",
       "      <td>36.20</td>\n",
       "      <td>32.100</td>\n",
       "      <td>37.00</td>\n",
       "      <td>34.5500</td>\n",
       "    </tr>\n",
       "    <tr>\n",
       "      <th>1258</th>\n",
       "      <td>2013-11-04</td>\n",
       "      <td>36.80</td>\n",
       "      <td>35.35</td>\n",
       "      <td>34.690</td>\n",
       "      <td>36.80</td>\n",
       "      <td>35.7450</td>\n",
       "    </tr>\n",
       "    <tr>\n",
       "      <th>1257</th>\n",
       "      <td>2013-11-05</td>\n",
       "      <td>35.11</td>\n",
       "      <td>35.35</td>\n",
       "      <td>34.821</td>\n",
       "      <td>35.50</td>\n",
       "      <td>35.1605</td>\n",
       "    </tr>\n",
       "    <tr>\n",
       "      <th>1256</th>\n",
       "      <td>2013-11-06</td>\n",
       "      <td>35.61</td>\n",
       "      <td>35.90</td>\n",
       "      <td>35.610</td>\n",
       "      <td>36.49</td>\n",
       "      <td>36.0500</td>\n",
       "    </tr>\n",
       "    <tr>\n",
       "      <th>1255</th>\n",
       "      <td>2013-11-07</td>\n",
       "      <td>36.80</td>\n",
       "      <td>35.31</td>\n",
       "      <td>34.120</td>\n",
       "      <td>36.80</td>\n",
       "      <td>35.4600</td>\n",
       "    </tr>\n",
       "  </tbody>\n",
       "</table>\n",
       "</div>"
      ],
      "text/plain": [
       "            Date   Open  Close     Low   High  Mid Prices\n",
       "1259  2013-11-01  35.00  36.20  32.100  37.00     34.5500\n",
       "1258  2013-11-04  36.80  35.35  34.690  36.80     35.7450\n",
       "1257  2013-11-05  35.11  35.35  34.821  35.50     35.1605\n",
       "1256  2013-11-06  35.61  35.90  35.610  36.49     36.0500\n",
       "1255  2013-11-07  36.80  35.31  34.120  36.80     35.4600"
      ]
     },
     "execution_count": 10,
     "metadata": {},
     "output_type": "execute_result"
    }
   ],
   "source": [
    "df.head()"
   ]
  },
  {
   "cell_type": "code",
   "execution_count": 11,
   "metadata": {},
   "outputs": [
    {
     "data": {
      "text/html": [
       "<div>\n",
       "<style scoped>\n",
       "    .dataframe tbody tr th:only-of-type {\n",
       "        vertical-align: middle;\n",
       "    }\n",
       "\n",
       "    .dataframe tbody tr th {\n",
       "        vertical-align: top;\n",
       "    }\n",
       "\n",
       "    .dataframe thead th {\n",
       "        text-align: right;\n",
       "    }\n",
       "</style>\n",
       "<table border=\"1\" class=\"dataframe\">\n",
       "  <thead>\n",
       "    <tr style=\"text-align: right;\">\n",
       "      <th></th>\n",
       "      <th>Date</th>\n",
       "      <th>Open</th>\n",
       "      <th>Close</th>\n",
       "      <th>Low</th>\n",
       "      <th>High</th>\n",
       "      <th>Mid Prices</th>\n",
       "    </tr>\n",
       "  </thead>\n",
       "  <tbody>\n",
       "    <tr>\n",
       "      <th>4</th>\n",
       "      <td>2018-10-26</td>\n",
       "      <td>9.55</td>\n",
       "      <td>9.57</td>\n",
       "      <td>9.32</td>\n",
       "      <td>9.730</td>\n",
       "      <td>9.5250</td>\n",
       "    </tr>\n",
       "    <tr>\n",
       "      <th>3</th>\n",
       "      <td>2018-10-29</td>\n",
       "      <td>9.70</td>\n",
       "      <td>9.69</td>\n",
       "      <td>9.57</td>\n",
       "      <td>9.930</td>\n",
       "      <td>9.7500</td>\n",
       "    </tr>\n",
       "    <tr>\n",
       "      <th>2</th>\n",
       "      <td>2018-10-30</td>\n",
       "      <td>9.65</td>\n",
       "      <td>10.05</td>\n",
       "      <td>9.65</td>\n",
       "      <td>10.080</td>\n",
       "      <td>9.8650</td>\n",
       "    </tr>\n",
       "    <tr>\n",
       "      <th>1</th>\n",
       "      <td>2018-10-31</td>\n",
       "      <td>6.82</td>\n",
       "      <td>5.91</td>\n",
       "      <td>5.72</td>\n",
       "      <td>7.840</td>\n",
       "      <td>6.7800</td>\n",
       "    </tr>\n",
       "    <tr>\n",
       "      <th>0</th>\n",
       "      <td>2018-11-01</td>\n",
       "      <td>6.01</td>\n",
       "      <td>5.39</td>\n",
       "      <td>5.26</td>\n",
       "      <td>6.009</td>\n",
       "      <td>5.6345</td>\n",
       "    </tr>\n",
       "  </tbody>\n",
       "</table>\n",
       "</div>"
      ],
      "text/plain": [
       "         Date  Open  Close   Low    High  Mid Prices\n",
       "4  2018-10-26  9.55   9.57  9.32   9.730      9.5250\n",
       "3  2018-10-29  9.70   9.69  9.57   9.930      9.7500\n",
       "2  2018-10-30  9.65  10.05  9.65  10.080      9.8650\n",
       "1  2018-10-31  6.82   5.91  5.72   7.840      6.7800\n",
       "0  2018-11-01  6.01   5.39  5.26   6.009      5.6345"
      ]
     },
     "execution_count": 11,
     "metadata": {},
     "output_type": "execute_result"
    }
   ],
   "source": [
    "df.tail()"
   ]
  },
  {
   "cell_type": "markdown",
   "metadata": {},
   "source": [
    "## Data Cleaning"
   ]
  },
  {
   "cell_type": "code",
   "execution_count": 11,
   "metadata": {},
   "outputs": [],
   "source": [
    "df.drop(\"Date\", axis = 1,inplace = True)"
   ]
  },
  {
   "cell_type": "code",
   "execution_count": 12,
   "metadata": {},
   "outputs": [],
   "source": [
    "from sklearn.preprocessing import StandardScaler"
   ]
  },
  {
   "cell_type": "code",
   "execution_count": 13,
   "metadata": {},
   "outputs": [
    {
     "data": {
      "text/plain": [
       "StandardScaler(copy=True, with_mean=True, with_std=True)"
      ]
     },
     "execution_count": 13,
     "metadata": {},
     "output_type": "execute_result"
    }
   ],
   "source": [
    "scaler = StandardScaler()\n",
    "scaler.fit(df)"
   ]
  },
  {
   "cell_type": "code",
   "execution_count": 14,
   "metadata": {},
   "outputs": [],
   "source": [
    "df = scaler.transform(df)"
   ]
  },
  {
   "cell_type": "markdown",
   "metadata": {},
   "source": [
    "## Building Long-Short Term Memory Cell to implement Recurrent Neural Network"
   ]
  },
  {
   "cell_type": "markdown",
   "metadata": {},
   "source": [
    "![title](img/RNN.png)"
   ]
  },
  {
   "cell_type": "markdown",
   "metadata": {},
   "source": [
    "![title](img/LSTM.png)"
   ]
  },
  {
   "cell_type": "code",
   "execution_count": 15,
   "metadata": {},
   "outputs": [],
   "source": [
    "def build_model(layers):\n",
    "    model = Sequential()\n",
    "\n",
    "    model.add(LSTM(\n",
    "        input_shape=(None, layers[0]),\n",
    "        units=50,\n",
    "        return_sequences=True))\n",
    "    model.add(Dropout(0.2))\n",
    "\n",
    "    model.add(LSTM(\n",
    "        100,\n",
    "        return_sequences=False))\n",
    "    model.add(Dropout(0.2))\n",
    "\n",
    "    model.add(Dense(\n",
    "        units=1))\n",
    "    model.add(Activation('linear'))\n",
    "\n",
    "    start = time.time()\n",
    "    model.compile(loss='mse', optimizer='rmsprop')\n",
    "    print ('compilation time : ', time.time() - start)\n",
    "    return model"
   ]
  },
  {
   "cell_type": "markdown",
   "metadata": {},
   "source": [
    "## Load data as per model requirements"
   ]
  },
  {
   "cell_type": "code",
   "execution_count": 16,
   "metadata": {},
   "outputs": [],
   "source": [
    "def load_data(stock, seq_len):\n",
    "    amount_of_features = 5\n",
    "    data = stock\n",
    "    sequence_length = seq_len + 1\n",
    "    result = []\n",
    "    for index in range(len(data) - sequence_length):\n",
    "        result.append(data[index: index + sequence_length])\n",
    "    \n",
    "    result =  np.array(result)\n",
    "    row = round(0.75 * result.shape[0])\n",
    "    train = result[:int(row), :]\n",
    "    x_train = train[:, :-1]\n",
    "    y_train = train[:, -1][:,-1]\n",
    "    x_test = result[int(row):, :-1]\n",
    "    y_test = result[int(row):, -1][:,-1]\n",
    "\n",
    "    x_train = np.reshape(x_train, (x_train.shape[0], x_train.shape[1], amount_of_features))\n",
    "    x_test = np.reshape(x_test, (x_test.shape[0], x_test.shape[1], amount_of_features))  \n",
    "\n",
    "    return [x_train, y_train, x_test, y_test]"
   ]
  },
  {
   "cell_type": "code",
   "execution_count": 17,
   "metadata": {},
   "outputs": [
    {
     "name": "stdout",
     "output_type": "stream",
     "text": [
      "X_train (940, 5, 5)\n",
      "y_train (940,)\n",
      "X_test (314, 5, 5)\n",
      "y_test (314,)\n"
     ]
    }
   ],
   "source": [
    "window = 5\n",
    "X_train, y_train, X_test, y_test = load_data(df, window)\n",
    "print(\"X_train\", X_train.shape)\n",
    "print(\"y_train\", y_train.shape)\n",
    "print(\"X_test\", X_test.shape)\n",
    "print(\"y_test\", y_test.shape)"
   ]
  },
  {
   "cell_type": "code",
   "execution_count": 18,
   "metadata": {},
   "outputs": [
    {
     "name": "stdout",
     "output_type": "stream",
     "text": [
      "compilation time :  0.02281332015991211\n"
     ]
    }
   ],
   "source": [
    "model = build_model([5,window,1])"
   ]
  },
  {
   "cell_type": "markdown",
   "metadata": {},
   "source": [
    "## Training Time!"
   ]
  },
  {
   "cell_type": "code",
   "execution_count": 19,
   "metadata": {
    "scrolled": true
   },
   "outputs": [
    {
     "name": "stdout",
     "output_type": "stream",
     "text": [
      "Train on 846 samples, validate on 94 samples\n",
      "Epoch 1/30\n",
      "846/846 [==============================] - 1s 2ms/step - loss: 0.9017 - val_loss: 0.2787\n",
      "Epoch 2/30\n",
      "846/846 [==============================] - 0s 132us/step - loss: 0.2839 - val_loss: 0.1093\n",
      "Epoch 3/30\n",
      "846/846 [==============================] - 0s 118us/step - loss: 0.0636 - val_loss: 0.0564\n",
      "Epoch 4/30\n",
      "846/846 [==============================] - 0s 120us/step - loss: 0.0418 - val_loss: 0.0276\n",
      "Epoch 5/30\n",
      "846/846 [==============================] - 0s 123us/step - loss: 0.0331 - val_loss: 0.0138\n",
      "Epoch 6/30\n",
      "846/846 [==============================] - 0s 119us/step - loss: 0.0273 - val_loss: 0.0066\n",
      "Epoch 7/30\n",
      "846/846 [==============================] - 0s 119us/step - loss: 0.0248 - val_loss: 0.0039\n",
      "Epoch 8/30\n",
      "846/846 [==============================] - 0s 117us/step - loss: 0.0251 - val_loss: 0.0031\n",
      "Epoch 9/30\n",
      "846/846 [==============================] - 0s 137us/step - loss: 0.0256 - val_loss: 0.0029\n",
      "Epoch 10/30\n",
      "846/846 [==============================] - 0s 137us/step - loss: 0.0202 - val_loss: 0.0029\n",
      "Epoch 11/30\n",
      "846/846 [==============================] - 0s 124us/step - loss: 0.0247 - val_loss: 0.0049\n",
      "Epoch 12/30\n",
      "846/846 [==============================] - 0s 120us/step - loss: 0.0373 - val_loss: 0.0136\n",
      "Epoch 13/30\n",
      "846/846 [==============================] - 0s 126us/step - loss: 0.0448 - val_loss: 0.0032\n",
      "Epoch 14/30\n",
      "846/846 [==============================] - 0s 115us/step - loss: 0.0230 - val_loss: 0.0014\n",
      "Epoch 15/30\n",
      "846/846 [==============================] - 0s 128us/step - loss: 0.0236 - val_loss: 0.0017\n",
      "Epoch 16/30\n",
      "846/846 [==============================] - 0s 116us/step - loss: 0.0212 - val_loss: 0.0018\n",
      "Epoch 17/30\n",
      "846/846 [==============================] - 0s 135us/step - loss: 0.0255 - val_loss: 0.0020\n",
      "Epoch 18/30\n",
      "846/846 [==============================] - 0s 115us/step - loss: 0.0525 - val_loss: 0.0019\n",
      "Epoch 19/30\n",
      "846/846 [==============================] - 0s 122us/step - loss: 0.0398 - val_loss: 0.0013\n",
      "Epoch 20/30\n",
      "846/846 [==============================] - 0s 116us/step - loss: 0.0261 - val_loss: 0.0015\n",
      "Epoch 21/30\n",
      "846/846 [==============================] - 0s 129us/step - loss: 0.0211 - val_loss: 0.0022\n",
      "Epoch 22/30\n",
      "846/846 [==============================] - 0s 131us/step - loss: 0.0195 - val_loss: 0.0021\n",
      "Epoch 23/30\n",
      "846/846 [==============================] - 0s 124us/step - loss: 0.0196 - val_loss: 0.0014\n",
      "Epoch 24/30\n",
      "846/846 [==============================] - 0s 131us/step - loss: 0.0246 - val_loss: 0.0019\n",
      "Epoch 25/30\n",
      "846/846 [==============================] - 0s 121us/step - loss: 0.0438 - val_loss: 0.0020\n",
      "Epoch 26/30\n",
      "846/846 [==============================] - 0s 124us/step - loss: 0.0427 - val_loss: 0.0014\n",
      "Epoch 27/30\n",
      "846/846 [==============================] - 0s 127us/step - loss: 0.0255 - val_loss: 0.0012\n",
      "Epoch 28/30\n",
      "846/846 [==============================] - 0s 126us/step - loss: 0.0221 - val_loss: 0.0012\n",
      "Epoch 29/30\n",
      "846/846 [==============================] - 0s 131us/step - loss: 0.0217 - val_loss: 0.0012\n",
      "Epoch 30/30\n",
      "846/846 [==============================] - 0s 120us/step - loss: 0.0224 - val_loss: 0.0012\n"
     ]
    },
    {
     "data": {
      "text/plain": [
       "<keras.callbacks.History at 0x7f9b1c1dfc18>"
      ]
     },
     "execution_count": 19,
     "metadata": {},
     "output_type": "execute_result"
    }
   ],
   "source": [
    "model.fit(\n",
    "    X_train,\n",
    "    y_train,\n",
    "    batch_size=512,\n",
    "    epochs=30,\n",
    "    validation_split=0.1,\n",
    "    verbose=1)"
   ]
  },
  {
   "cell_type": "code",
   "execution_count": 20,
   "metadata": {},
   "outputs": [
    {
     "name": "stdout",
     "output_type": "stream",
     "text": [
      "0.014827937394643123\n"
     ]
    }
   ],
   "source": [
    "trainScore = model.evaluate(X_train, y_train, verbose=0)\n",
    "print(trainScore)"
   ]
  },
  {
   "cell_type": "code",
   "execution_count": 21,
   "metadata": {},
   "outputs": [],
   "source": [
    "accuracy = (1-trainScore)*100"
   ]
  },
  {
   "cell_type": "markdown",
   "metadata": {},
   "source": [
    "## Predictions"
   ]
  },
  {
   "cell_type": "code",
   "execution_count": 23,
   "metadata": {},
   "outputs": [],
   "source": [
    "p = model.predict(X_test)"
   ]
  },
  {
   "cell_type": "code",
   "execution_count": 24,
   "metadata": {},
   "outputs": [],
   "source": [
    "from sklearn.metrics import mean_squared_error"
   ]
  },
  {
   "cell_type": "code",
   "execution_count": 25,
   "metadata": {},
   "outputs": [],
   "source": [
    "mse = mean_squared_error(y_test, p)"
   ]
  },
  {
   "cell_type": "code",
   "execution_count": 26,
   "metadata": {},
   "outputs": [],
   "source": [
    "accuracy_test = (1-mse)*100"
   ]
  },
  {
   "cell_type": "markdown",
   "metadata": {},
   "source": [
    "## Visualizations"
   ]
  },
  {
   "cell_type": "code",
   "execution_count": 28,
   "metadata": {},
   "outputs": [
    {
     "data": {
      "image/png": "[encoded data removed]",
      "text/plain": [
       "<Figure size 1296x648 with 1 Axes>"
      ]
     },
     "metadata": {
      "needs_background": "light"
     },
     "output_type": "display_data"
    }
   ],
   "source": [
    "import matplotlib.pyplot as plt2\n",
    "plt2.figure(figsize = (18,9))\n",
    "plt2.plot(p,color='red', label='prediction')\n",
    "plt2.plot(y_test,color='blue', label='y_test')\n",
    "plt2.legend(loc='upper left')\n",
    "plt2.show()"
   ]
  },
  {
   "cell_type": "markdown",
   "metadata": {},
   "source": [
    "## Sentiment Analysis"
   ]
  },
  {
   "cell_type": "code",
   "execution_count": 29,
   "metadata": {},
   "outputs": [],
   "source": [
    "consumer_key= 'E0pFYVai9VaOhqLiRBEC6gpGF'\n",
    "consumer_secret= 'XAMh4l9XL5nwFK3MN5tAjtXA2YgDN1tw5f7L2n6dz5ib8VYlbm'\n",
    "\n",
    "access_token='3261604734-86c7DOJP98GwNeFWzvgPQKFUTyHn1ZFwlloJP3v'\n",
    "access_token_secret='eXEmlEAdxaFjueVP03jsAWeOeNMkI7ToiDQkyvLDa6eX7'"
   ]
  },
  {
   "cell_type": "code",
   "execution_count": 30,
   "metadata": {},
   "outputs": [],
   "source": [
    "auth = tweepy.OAuthHandler(consumer_key, consumer_secret)\n",
    "auth.set_access_token(access_token, access_token_secret)\n",
    "\n",
    "api = tweepy.API(auth)"
   ]
  },
  {
   "cell_type": "code",
   "execution_count": 31,
   "metadata": {},
   "outputs": [],
   "source": [
    "public_tweets = api.search('TCS', count = 1000)"
   ]
  },
  {
   "cell_type": "code",
   "execution_count": 32,
   "metadata": {},
   "outputs": [],
   "source": [
    "def clean_tweet(tweet):\n",
    "    return ' '.join(re.sub(\"(@[A-Za-z0-9]+)|([^0-9A-Za-z \\t])|(\\w+:\\/\\/\\S+)\", \" \", tweet).split())"
   ]
  },
  {
   "cell_type": "code",
   "execution_count": 33,
   "metadata": {},
   "outputs": [],
   "source": [
    "def get_tweet_sentiment(tweet):\n",
    "    analysis = TextBlob(clean_tweet(tweet))\n",
    "    if analysis.sentiment.polarity > 0:\n",
    "        return 'positive'\n",
    "    elif analysis.sentiment.polarity == 0:\n",
    "        return 'neutral'\n",
    "    else:\n",
    "        return 'negative'"
   ]
  },
  {
   "cell_type": "code",
   "execution_count": 34,
   "metadata": {},
   "outputs": [
    {
     "name": "stdout",
     "output_type": "stream",
     "text": [
      "100\n",
      "RT HappyHalloween For your chance to WIN this spook tacular bundle on this wicked WinItWednesday simply FOLLOW us and RT\n",
      "positive\n",
      "\n",
      "RT TCS makes first digital acquisition buys design studio W12 Technology News ETtech\n",
      "positive\n",
      "\n",
      "TCS makes its first digital acquisition all you need to know about TCS buyout of London s W12 Studio\n",
      "positive\n",
      "\n",
      "Stocks Radar Axis Bank Hindustan Petroleum Indraprastha Gas TCS\n",
      "neutral\n",
      "\n",
      "RT PLANNING YOUR RACE DAY OUTFIT Include our LovePartiesHateWhips accessories and share your pic with the LovePartiesHateWhips h\n",
      "neutral\n",
      "\n",
      "Se algu m que voc n o conhece lhe diz oi o que voc diz Oi\n",
      "neutral\n",
      "\n",
      "RT RT this post and follow us for your chance to twirl into winter and win a Ballet Theatre and Ice Skating Friends We ve g\n",
      "positive\n",
      "\n",
      "RT\n",
      "neutral\n",
      "\n",
      "Tcs acusa Bolsonaro de ditador fascista e agora o Bolsonaro chama um magistrado reconhecendo as\n",
      "neutral\n",
      "\n",
      "molliebanks 21\n",
      "neutral\n",
      "\n",
      "RT esports One of the worse goal I scored but the most satisfying to watch on stream Laughed way t\n",
      "positive\n",
      "\n",
      "RT Personendrohnen in Jetgr sse selbstfahrende Autos f hrerstandlose Z ge Welchen Einfluss die Digitalisierung auf di\n",
      "neutral\n",
      "\n",
      "RT RT this post and follow us for your chance to twirl into winter and win a Ballet Theatre and Ice Skating Friends We ve g\n",
      "positive\n",
      "\n",
      "RT na Check out Pepper the humanoid robot welcoming people to the TCSNYCMarathon\n",
      "neutral\n",
      "\n",
      "Stay tuned to know what s happening at the TCSNYCSMarathon\n",
      "neutral\n",
      "\n",
      "RT project ygo CS 12 22 Akkun CS 12 23 Tcs\n",
      "neutral\n",
      "\n",
      "RT RT this post and follow us for your chance to twirl into winter and win a Ballet Theatre and Ice Skating Friends We ve g\n",
      "positive\n",
      "\n",
      "RT RT this post and follow us for your chance to twirl into winter and win a Ballet Theatre and Ice Skating Friends We ve g\n",
      "positive\n",
      "\n",
      "RT RT this post and follow us for your chance to twirl into winter and win a Ballet Theatre and Ice Skating Friends We ve g\n",
      "positive\n",
      "\n",
      "CS 12 22 Akkun CS 12 23 Tcs\n",
      "neutral\n",
      "\n",
      "RT RT this post and follow us for your chance to twirl into winter and win a Ballet Theatre and Ice Skating Friends We ve g\n",
      "positive\n",
      "\n",
      "RT Running the NYC Marathon this Sunday You can follow my slow run via the TCS NYC marathon app and put my name in under tra\n",
      "negative\n",
      "\n",
      "RT RT this post and follow us for your chance to twirl into winter and win a Ballet Theatre and Ice Skating Friends We ve g\n",
      "positive\n",
      "\n",
      "RT The new Tax Collection at Source is here to ensure better and centralised compliance lesser revenue leakages for the gove\n",
      "positive\n",
      "\n",
      "Jobs Alert TCS is Hiring through a Mega Walk In TechGig Survey Understanding the top challenges faced by women in technology\n",
      "positive\n",
      "\n",
      "RT RT this post and follow us for your chance to twirl into winter and win a Ballet Theatre and Ice Skating Friends We ve g\n",
      "positive\n",
      "\n",
      "RT HappyHalloween For your chance to WIN this spook tacular bundle on this wicked WinItWednesday simply FOLLOW us and RT\n",
      "positive\n",
      "\n",
      "RT na Run through the finish line of the TCSNYCMarathon in our new interactive game Marathon City Sprint to Win Visit the expo\n",
      "positive\n",
      "\n",
      "RT feelings i accidentally dropped my ball in my water bowl technically making a soup i am an innovator\n",
      "neutral\n",
      "\n",
      "acquires London based digital design firm W12 Studios\n",
      "negative\n",
      "\n",
      "buys London based digital design company W12 Studios\n",
      "neutral\n",
      "\n",
      "TCS With GeoSight\n",
      "neutral\n",
      "\n",
      "Sir eMO was redirected to T B Sanatorium PO from Koyali PO on 22 09 2018 however the same is not ye\n",
      "neutral\n",
      "\n",
      "RT First Deposit Campaign Win 50 USDT 20 Winners How to Enter 1 Follow 2 RT 3 Sign up for a new OKEx account via http\n",
      "positive\n",
      "\n",
      "RT RT this post and follow us for your chance to twirl into winter and win a Ballet Theatre and Ice Skating Friends We ve g\n",
      "positive\n",
      "\n",
      "\n",
      "neutral\n",
      "\n",
      "RT\n",
      "neutral\n",
      "\n",
      "RT\n",
      "neutral\n",
      "\n",
      "RT ROSSI nico jeito que eu gosto de mulher sangrando\n",
      "neutral\n",
      "\n",
      "RT It will inspire you 5 days It s getting real Before runners hit the streets of NYC RisingNYRR will take on the You\n",
      "positive\n",
      "\n",
      "ASPIREST ASPIREST 1448\n",
      "neutral\n",
      "\n",
      "RT RT this post and follow us for your chance to twirl into winter and win a Ballet Theatre and Ice Skating Friends We ve g\n",
      "positive\n",
      "\n",
      "Noticias 4 Visi n Reprise 12AM 1AM ahora por Canal4 en S varTV\n",
      "neutral\n",
      "\n",
      "tcs kia\n",
      "neutral\n",
      "\n",
      "RT TCS makes first digital acquisition buys design studio W12 Technology News ETtech\n",
      "positive\n",
      "\n",
      "Happy 53rd birthday and lots of cake from the whole team at Studio by TCS to SRK\n",
      "positive\n",
      "\n",
      "Happy 53rd birthday and lots of cake from the whole team at Studio by TCS to SRK\n",
      "positive\n",
      "\n",
      "RT 4 WelcomeGOT7toThailand\n",
      "neutral\n",
      "\n",
      "RT Happy publication DillyCourt THE CHRISTMAS ROSE is out today RT to win 1 of 3 copies Rose had risked everything to\n",
      "positive\n",
      "\n",
      "RT canada Asia Pacific companies like those at the ForbesGlobalCEO Conference are looking to Canada for investment opportunitie\n",
      "neutral\n",
      "\n",
      "RT There was inspiration every where you looked as the sun came out for a wonderful Wednesday of TCS Race Week Ab\n",
      "positive\n",
      "\n",
      "RT canada Yummy things are made in Brantford Ontario including Nutella and Ferrero Rocher InvestinCanada WBFMI Milan\n",
      "neutral\n",
      "\n",
      "AIIndia\n",
      "neutral\n",
      "\n",
      "RT Europe What do retailers value in their technology partners s shares her thoughts with\n",
      "neutral\n",
      "\n",
      "RT HappyHalloween For your chance to WIN this spook tacular bundle on this wicked WinItWednesday simply FOLLOW us and RT\n",
      "positive\n",
      "\n",
      "RT It will focus you 3 days Right about now you start to hone down on your training you re focused on running your be\n",
      "positive\n",
      "\n",
      "RT na Use our 2018 TCSNYCMarathon app to create digital cheer cards and show your support for friends and family in this year s race\n",
      "neutral\n",
      "\n",
      "RT Meet Canadian organizations innovative companies amp officials from municipalities looking at smart solutions Canada booth is\n",
      "positive\n",
      "\n",
      "RT ANZ After his first marathon earlier this year at the TCS Australian Running Festival in Canberra Rahul is in the US with his fel\n",
      "positive\n",
      "\n",
      "RT canada Attending WBFMI today Visit our booth to find out about why the time to InvestinCanada is now Milano SDC\n",
      "neutral\n",
      "\n",
      "Best of luck to Rowena Hubble ahead of first full marathon with TeamTCS at the TCSNYCmarathon What\n",
      "positive\n",
      "\n",
      "RT\n",
      "neutral\n",
      "\n",
      "With four Days To Next Earnings Report Container Store Group Inc NYSE TCS Close At 5 91\n",
      "neutral\n",
      "\n",
      "RT RT this post and follow us for your chance to twirl into winter and win a Ballet Theatre and Ice Skating Friends We ve g\n",
      "positive\n",
      "\n",
      "RT s not backing down from his own AAPL don t trade it mantra\n",
      "positive\n",
      "\n",
      "RT 16 down days in October most for any month since 1970 amp tied for 3rd worst month since S amp P s inception in 1928\n",
      "negative\n",
      "\n",
      "TCs in Ladies special 1st class coach to check if 2nd class pax in 1st Waste of time No point today C\n",
      "positive\n",
      "\n",
      "RT\n",
      "neutral\n",
      "\n",
      "RT Congrats to News a Leader in NelsonHall NEAT for Managed Security Services\n",
      "neutral\n",
      "\n",
      "RT Latest NelsonHall Quarterly Update on News Another very strong quarter as outsourcing contracts ramp and TCS gains m\n",
      "positive\n",
      "\n",
      "That s what I am saying Haven t been to bbsr but have a lot of friends working in Infy\n",
      "neutral\n",
      "\n",
      "RT News TCS acquires W12 Studios an award winning London based Digital Design Studio Read more\n",
      "positive\n",
      "\n",
      "\n",
      "neutral\n",
      "\n",
      "MOSL 23rd Annual Wealth Creation Study shares the biggest wealth creators over the last 5 yrs Usual suspects lead\n",
      "negative\n",
      "\n",
      "Switch\n",
      "neutral\n",
      "\n",
      "RT TCS buys digital design firm W12 Studios in its 1st acquisition since 2013\n",
      "negative\n",
      "\n",
      "TCS\n",
      "neutral\n",
      "\n",
      "RT If u r looking for long term then go for TCS HDFC BANK Maruti Suzuki dmart ONGC infy Lnt\n",
      "negative\n",
      "\n",
      "RT estas son la cosas que me hacen decirles que son unos descarados ladrones evaden las preguntas cuando les conviene solo\n",
      "neutral\n",
      "\n",
      "RT RT this post and follow us for your chance to twirl into winter and win a Ballet Theatre and Ice Skating Friends We ve g\n",
      "positive\n",
      "\n",
      "anantapur ink pact\n",
      "neutral\n",
      "\n",
      "RT BG5 TCS\n",
      "neutral\n",
      "\n",
      "RT News TCS acquires W12 Studios an award winning London based Digital Design Studio Read more\n",
      "positive\n",
      "\n",
      "RT Interested in exciting business opportunities in Japan Check out JETRO s Japan Canada Innovation Partnership Forum\n",
      "positive\n",
      "\n",
      "RT Uniting the Swiss Rocket League community RocketLeague esports\n",
      "neutral\n",
      "\n",
      "ROSSI 100respeito\n",
      "neutral\n",
      "\n",
      "digitaldesigns technology digitaltransformation\n",
      "neutral\n",
      "\n",
      "RT BaNCS Photographs from last week s BigTechDinner with TCS BaNCS and Financial Times during Sibos are now available Click here t\n",
      "positive\n",
      "\n",
      "Acs Tcs\n",
      "neutral\n",
      "\n",
      "Photographs from last week s BigTechDinner with TCS BaNCS and Financial Times during Sibos are now available Cli\n",
      "positive\n",
      "\n",
      "SSR\n",
      "neutral\n",
      "\n",
      "RT Acquires W12 Studios an Award Winning London Based Digital Design Studio\n",
      "positive\n",
      "\n",
      "\n",
      "neutral\n",
      "\n",
      "RT Latest India Business News 2nd November 2018 Business News Tentaran Investment BusinessNews Bajaj ITI Realme Tata\n",
      "positive\n",
      "\n",
      "RT\n",
      "neutral\n",
      "\n",
      "RT News TCS acquires W12 Studios an award winning London based Digital Design Studio Read more\n",
      "positive\n",
      "\n",
      "RT At SmartGridDayRome SDC presents world leader in controlled switching technologies ma\n",
      "neutral\n",
      "\n",
      "ROSSI nico jeito que eu gosto de mulher sangrando\n",
      "neutral\n",
      "\n",
      "RT November 5 is SmartGridDayRome SDC presents Voltra Technologie developer of innovative prod\n",
      "positive\n",
      "\n",
      "Buenas noches chica guapa Saludos a todos los amo mucho bendiciones\n",
      "neutral\n",
      "\n"
     ]
    }
   ],
   "source": [
    "positive = 0\n",
    "negative = 0\n",
    "neutral = 0\n",
    "print(len(public_tweets))\n",
    "for tweet in public_tweets:\n",
    "#     print(tweet.text)\n",
    "    print(clean_tweet(tweet.text))\n",
    "    sentiment = get_tweet_sentiment(tweet.text) \n",
    "    print(sentiment)\n",
    "    if sentiment == 'positive':\n",
    "        positive += 1\n",
    "    elif sentiment == 'negative':\n",
    "        negative += 1\n",
    "    elif sentiment == 'neutral':\n",
    "        neutral += 1\n",
    "    print(\"\")"
   ]
  },
  {
   "cell_type": "code",
   "execution_count": 35,
   "metadata": {},
   "outputs": [
    {
     "name": "stdout",
     "output_type": "stream",
     "text": [
      "Positive: 44\n",
      "Negative: 6\n",
      "Neutral: 50\n"
     ]
    }
   ],
   "source": [
    "print('Positive:', positive)\n",
    "print('Negative:', negative)\n",
    "print('Neutral:', neutral)"
   ]
  }
 ],
 "metadata": {
  "kernelspec": {
   "display_name": "Python 3",
   "language": "python",
   "name": "python3"
  },
  "language_info": {
   "codemirror_mode": {
    "name": "ipython",
    "version": 3
   },
   "file_extension": ".py",
   "mimetype": "text/x-python",
   "name": "python",
   "nbconvert_exporter": "python",
   "pygments_lexer": "ipython3",
   "version": "3.6.6"
  }
 },
 "nbformat": 4,
 "nbformat_minor": 2
}
