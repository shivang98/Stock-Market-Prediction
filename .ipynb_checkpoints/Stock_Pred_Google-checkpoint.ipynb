{
 "cells": [
  {
   "cell_type": "markdown",
   "metadata": {},
   "source": [
    "## Importing Libraries"
   ]
  },
  {
   "cell_type": "code",
   "execution_count": 1,
   "metadata": {},
   "outputs": [
    {
     "name": "stderr",
     "output_type": "stream",
     "text": [
      "Using TensorFlow backend.\n"
     ]
    }
   ],
   "source": [
    "import numpy as np\n",
    "import pandas as pd\n",
    "from keras.layers.core import Dense, Activation, Dropout\n",
    "from keras.layers.recurrent import LSTM\n",
    "from keras.models import Sequential\n",
    "import matplotlib.pyplot as plt\n",
    "import time\n",
    "import datetime as dt\n",
    "import urllib.request, json\n",
    "import os\n",
    "from pandas_datareader import data\n",
    "import tweepy\n",
    "from textblob import TextBlob\n",
    "import re"
   ]
  },
  {
   "cell_type": "markdown",
   "metadata": {},
   "source": [
    "## Getting data using Alpha Vantage API"
   ]
  },
  {
   "cell_type": "code",
   "execution_count": 2,
   "metadata": {},
   "outputs": [
    {
     "name": "stdout",
     "output_type": "stream",
     "text": [
      "Data saved to : stock_market_data-GOOGL.csv\n"
     ]
    }
   ],
   "source": [
    "data_source = 'alphavantage'\n",
    "\n",
    "if data_source == 'alphavantage':\n",
    "    # ====================== Loading Data from Alpha Vantage ==================================\n",
    "\n",
    "    api_key = '7TONQ8CM5PXZ4YEO'\n",
    "\n",
    "    # Google stock market prices\n",
    "    ticker = \"GOOGL\"\n",
    "\n",
    "    # JSON file with all the stock market data for Google\n",
    "    url_string = \"https://www.alphavantage.co/query?function=TIME_SERIES_DAILY&symbol=%s&outputsize=full&apikey=%s\"%(ticker,api_key)\n",
    "\n",
    "    # Save data to this file\n",
    "    file_to_save = 'stock_market_data-%s.csv'%ticker\n",
    "\n",
    "    # If you haven't already saved data,\n",
    "    # Go ahead and grab the data from the url\n",
    "    # And store date, low, high, volume, close, open values to a Pandas DataFrame\n",
    "    if not os.path.exists(file_to_save):\n",
    "        with urllib.request.urlopen(url_string) as url:\n",
    "            data = json.loads(url.read().decode())\n",
    "            # extract stock market data\n",
    "            data = data['Time Series (Daily)']\n",
    "            df = pd.DataFrame(columns=['Date','Low','High','Close','Open'])\n",
    "            for k,v in data.items():\n",
    "                date = dt.datetime.strptime(k, '%Y-%m-%d')\n",
    "                data_row = [date.date(),float(v['3. low']),float(v['2. high']),\n",
    "                            float(v['4. close']),float(v['1. open'])]\n",
    "                df.loc[-1,:] = data_row\n",
    "                df.index = df.index + 1\n",
    "        print('Data saved to : %s'%file_to_save)        \n",
    "        df.to_csv(file_to_save)\n",
    "\n",
    "    # If the data is already there, just load it from the CSV\n",
    "    else:\n",
    "        print('File already exists. Loading data from CSV')\n",
    "        df = pd.read_csv(file_to_save)"
   ]
  },
  {
   "cell_type": "code",
   "execution_count": 3,
   "metadata": {},
   "outputs": [],
   "source": [
    "df = pd.read_csv(\"stock_market_data-GOOGL.csv\")"
   ]
  },
  {
   "cell_type": "code",
   "execution_count": 4,
   "metadata": {},
   "outputs": [],
   "source": [
    "df = df[['Date', 'Open', 'Close', 'Low', 'High']]"
   ]
  },
  {
   "cell_type": "code",
   "execution_count": 5,
   "metadata": {},
   "outputs": [],
   "source": [
    "df = df.sort_values('Date')"
   ]
  },
  {
   "cell_type": "code",
   "execution_count": 6,
   "metadata": {},
   "outputs": [
    {
     "data": {
      "text/html": [
       "<div>\n",
       "<style scoped>\n",
       "    .dataframe tbody tr th:only-of-type {\n",
       "        vertical-align: middle;\n",
       "    }\n",
       "\n",
       "    .dataframe tbody tr th {\n",
       "        vertical-align: top;\n",
       "    }\n",
       "\n",
       "    .dataframe thead th {\n",
       "        text-align: right;\n",
       "    }\n",
       "</style>\n",
       "<table border=\"1\" class=\"dataframe\">\n",
       "  <thead>\n",
       "    <tr style=\"text-align: right;\">\n",
       "      <th></th>\n",
       "      <th>Date</th>\n",
       "      <th>Open</th>\n",
       "      <th>Close</th>\n",
       "      <th>Low</th>\n",
       "      <th>High</th>\n",
       "    </tr>\n",
       "  </thead>\n",
       "  <tbody>\n",
       "    <tr>\n",
       "      <th>3577</th>\n",
       "      <td>2004-08-19</td>\n",
       "      <td>100.01</td>\n",
       "      <td>100.335</td>\n",
       "      <td>95.96</td>\n",
       "      <td>104.06</td>\n",
       "    </tr>\n",
       "    <tr>\n",
       "      <th>3576</th>\n",
       "      <td>2004-08-20</td>\n",
       "      <td>101.01</td>\n",
       "      <td>108.310</td>\n",
       "      <td>100.50</td>\n",
       "      <td>109.08</td>\n",
       "    </tr>\n",
       "    <tr>\n",
       "      <th>3575</th>\n",
       "      <td>2004-08-23</td>\n",
       "      <td>110.76</td>\n",
       "      <td>109.400</td>\n",
       "      <td>109.05</td>\n",
       "      <td>113.48</td>\n",
       "    </tr>\n",
       "    <tr>\n",
       "      <th>3574</th>\n",
       "      <td>2004-08-24</td>\n",
       "      <td>111.24</td>\n",
       "      <td>104.870</td>\n",
       "      <td>103.57</td>\n",
       "      <td>111.60</td>\n",
       "    </tr>\n",
       "    <tr>\n",
       "      <th>3573</th>\n",
       "      <td>2004-08-25</td>\n",
       "      <td>104.76</td>\n",
       "      <td>106.000</td>\n",
       "      <td>103.88</td>\n",
       "      <td>108.00</td>\n",
       "    </tr>\n",
       "  </tbody>\n",
       "</table>\n",
       "</div>"
      ],
      "text/plain": [
       "            Date    Open    Close     Low    High\n",
       "3577  2004-08-19  100.01  100.335   95.96  104.06\n",
       "3576  2004-08-20  101.01  108.310  100.50  109.08\n",
       "3575  2004-08-23  110.76  109.400  109.05  113.48\n",
       "3574  2004-08-24  111.24  104.870  103.57  111.60\n",
       "3573  2004-08-25  104.76  106.000  103.88  108.00"
      ]
     },
     "execution_count": 6,
     "metadata": {},
     "output_type": "execute_result"
    }
   ],
   "source": [
    "df.head()"
   ]
  },
  {
   "cell_type": "code",
   "execution_count": 7,
   "metadata": {},
   "outputs": [
    {
     "data": {
      "text/html": [
       "<div>\n",
       "<style scoped>\n",
       "    .dataframe tbody tr th:only-of-type {\n",
       "        vertical-align: middle;\n",
       "    }\n",
       "\n",
       "    .dataframe tbody tr th {\n",
       "        vertical-align: top;\n",
       "    }\n",
       "\n",
       "    .dataframe thead th {\n",
       "        text-align: right;\n",
       "    }\n",
       "</style>\n",
       "<table border=\"1\" class=\"dataframe\">\n",
       "  <thead>\n",
       "    <tr style=\"text-align: right;\">\n",
       "      <th></th>\n",
       "      <th>Date</th>\n",
       "      <th>Open</th>\n",
       "      <th>Close</th>\n",
       "      <th>Low</th>\n",
       "      <th>High</th>\n",
       "    </tr>\n",
       "  </thead>\n",
       "  <tbody>\n",
       "    <tr>\n",
       "      <th>4</th>\n",
       "      <td>2018-10-26</td>\n",
       "      <td>1048.33</td>\n",
       "      <td>1083.750</td>\n",
       "      <td>1042.23</td>\n",
       "      <td>1117.00</td>\n",
       "    </tr>\n",
       "    <tr>\n",
       "      <th>3</th>\n",
       "      <td>2018-10-29</td>\n",
       "      <td>1096.54</td>\n",
       "      <td>1034.730</td>\n",
       "      <td>1007.20</td>\n",
       "      <td>1108.83</td>\n",
       "    </tr>\n",
       "    <tr>\n",
       "      <th>2</th>\n",
       "      <td>2018-10-30</td>\n",
       "      <td>1020.01</td>\n",
       "      <td>1049.510</td>\n",
       "      <td>1013.97</td>\n",
       "      <td>1050.90</td>\n",
       "    </tr>\n",
       "    <tr>\n",
       "      <th>1</th>\n",
       "      <td>2018-10-31</td>\n",
       "      <td>1068.20</td>\n",
       "      <td>1090.580</td>\n",
       "      <td>1068.20</td>\n",
       "      <td>1108.00</td>\n",
       "    </tr>\n",
       "    <tr>\n",
       "      <th>0</th>\n",
       "      <td>2018-11-01</td>\n",
       "      <td>1091.40</td>\n",
       "      <td>1091.505</td>\n",
       "      <td>1077.82</td>\n",
       "      <td>1099.90</td>\n",
       "    </tr>\n",
       "  </tbody>\n",
       "</table>\n",
       "</div>"
      ],
      "text/plain": [
       "         Date     Open     Close      Low     High\n",
       "4  2018-10-26  1048.33  1083.750  1042.23  1117.00\n",
       "3  2018-10-29  1096.54  1034.730  1007.20  1108.83\n",
       "2  2018-10-30  1020.01  1049.510  1013.97  1050.90\n",
       "1  2018-10-31  1068.20  1090.580  1068.20  1108.00\n",
       "0  2018-11-01  1091.40  1091.505  1077.82  1099.90"
      ]
     },
     "execution_count": 7,
     "metadata": {},
     "output_type": "execute_result"
    }
   ],
   "source": [
    "df.tail()"
   ]
  },
  {
   "cell_type": "code",
   "execution_count": 8,
   "metadata": {},
   "outputs": [
    {
     "data": {
      "image/png": "[encoded data removed]",
      "text/plain": [
       "<Figure size 1296x648 with 1 Axes>"
      ]
     },
     "metadata": {
      "needs_background": "light"
     },
     "output_type": "display_data"
    }
   ],
   "source": [
    "plt.figure(figsize = (18,9))\n",
    "plt.plot(range(df.shape[0]),(df['Low']+df['High'])/2.0)\n",
    "plt.xticks(range(0,df.shape[0],100),df['Date'].loc[::100],rotation=45)\n",
    "plt.xlabel('Date',fontsize=18)\n",
    "plt.ylabel('Mid Price',fontsize=18)\n",
    "plt.show()"
   ]
  },
  {
   "cell_type": "code",
   "execution_count": 9,
   "metadata": {},
   "outputs": [],
   "source": [
    "high_prices = df.loc[:,'High']\n",
    "low_prices = df.loc[:,'Low']\n",
    "df[\"Mid Prices\"] = (high_prices+low_prices)/2.0"
   ]
  },
  {
   "cell_type": "code",
   "execution_count": 10,
   "metadata": {
    "scrolled": true
   },
   "outputs": [
    {
     "data": {
      "text/html": [
       "<div>\n",
       "<style scoped>\n",
       "    .dataframe tbody tr th:only-of-type {\n",
       "        vertical-align: middle;\n",
       "    }\n",
       "\n",
       "    .dataframe tbody tr th {\n",
       "        vertical-align: top;\n",
       "    }\n",
       "\n",
       "    .dataframe thead th {\n",
       "        text-align: right;\n",
       "    }\n",
       "</style>\n",
       "<table border=\"1\" class=\"dataframe\">\n",
       "  <thead>\n",
       "    <tr style=\"text-align: right;\">\n",
       "      <th></th>\n",
       "      <th>Date</th>\n",
       "      <th>Open</th>\n",
       "      <th>Close</th>\n",
       "      <th>Low</th>\n",
       "      <th>High</th>\n",
       "      <th>Mid Prices</th>\n",
       "    </tr>\n",
       "  </thead>\n",
       "  <tbody>\n",
       "    <tr>\n",
       "      <th>3577</th>\n",
       "      <td>2004-08-19</td>\n",
       "      <td>100.01</td>\n",
       "      <td>100.335</td>\n",
       "      <td>95.96</td>\n",
       "      <td>104.06</td>\n",
       "      <td>100.010</td>\n",
       "    </tr>\n",
       "    <tr>\n",
       "      <th>3576</th>\n",
       "      <td>2004-08-20</td>\n",
       "      <td>101.01</td>\n",
       "      <td>108.310</td>\n",
       "      <td>100.50</td>\n",
       "      <td>109.08</td>\n",
       "      <td>104.790</td>\n",
       "    </tr>\n",
       "    <tr>\n",
       "      <th>3575</th>\n",
       "      <td>2004-08-23</td>\n",
       "      <td>110.76</td>\n",
       "      <td>109.400</td>\n",
       "      <td>109.05</td>\n",
       "      <td>113.48</td>\n",
       "      <td>111.265</td>\n",
       "    </tr>\n",
       "    <tr>\n",
       "      <th>3574</th>\n",
       "      <td>2004-08-24</td>\n",
       "      <td>111.24</td>\n",
       "      <td>104.870</td>\n",
       "      <td>103.57</td>\n",
       "      <td>111.60</td>\n",
       "      <td>107.585</td>\n",
       "    </tr>\n",
       "    <tr>\n",
       "      <th>3573</th>\n",
       "      <td>2004-08-25</td>\n",
       "      <td>104.76</td>\n",
       "      <td>106.000</td>\n",
       "      <td>103.88</td>\n",
       "      <td>108.00</td>\n",
       "      <td>105.940</td>\n",
       "    </tr>\n",
       "  </tbody>\n",
       "</table>\n",
       "</div>"
      ],
      "text/plain": [
       "            Date    Open    Close     Low    High  Mid Prices\n",
       "3577  2004-08-19  100.01  100.335   95.96  104.06     100.010\n",
       "3576  2004-08-20  101.01  108.310  100.50  109.08     104.790\n",
       "3575  2004-08-23  110.76  109.400  109.05  113.48     111.265\n",
       "3574  2004-08-24  111.24  104.870  103.57  111.60     107.585\n",
       "3573  2004-08-25  104.76  106.000  103.88  108.00     105.940"
      ]
     },
     "execution_count": 10,
     "metadata": {},
     "output_type": "execute_result"
    }
   ],
   "source": [
    "df.head()"
   ]
  },
  {
   "cell_type": "markdown",
   "metadata": {},
   "source": [
    "## Data Cleaning"
   ]
  },
  {
   "cell_type": "code",
   "execution_count": 11,
   "metadata": {},
   "outputs": [],
   "source": [
    "df.drop(\"Date\", axis = 1,inplace = True)"
   ]
  },
  {
   "cell_type": "code",
   "execution_count": 12,
   "metadata": {},
   "outputs": [],
   "source": [
    "from sklearn.preprocessing import StandardScaler"
   ]
  },
  {
   "cell_type": "code",
   "execution_count": 13,
   "metadata": {},
   "outputs": [
    {
     "data": {
      "text/plain": [
       "StandardScaler(copy=True, with_mean=True, with_std=True)"
      ]
     },
     "execution_count": 13,
     "metadata": {},
     "output_type": "execute_result"
    }
   ],
   "source": [
    "scaler = StandardScaler()\n",
    "scaler.fit(df)"
   ]
  },
  {
   "cell_type": "code",
   "execution_count": 14,
   "metadata": {},
   "outputs": [],
   "source": [
    "df = scaler.transform(df)"
   ]
  },
  {
   "cell_type": "markdown",
   "metadata": {},
   "source": [
    "## Building Long-Short Term Memory Cell to implement Recurrent Neural Network"
   ]
  },
  {
   "cell_type": "markdown",
   "metadata": {},
   "source": [
    "![title](img/RNN.png)"
   ]
  },
  {
   "cell_type": "markdown",
   "metadata": {},
   "source": [
    "![title](img/LSTM.png)"
   ]
  },
  {
   "cell_type": "code",
   "execution_count": 15,
   "metadata": {},
   "outputs": [],
   "source": [
    "def build_model(layers):\n",
    "    model = Sequential()\n",
    "\n",
    "    model.add(LSTM(\n",
    "        input_shape=(None, layers[0]),\n",
    "        units=50,\n",
    "        return_sequences=True))\n",
    "    model.add(Dropout(0.2))\n",
    "\n",
    "    model.add(LSTM(\n",
    "        100,\n",
    "        return_sequences=False))\n",
    "    model.add(Dropout(0.2))\n",
    "\n",
    "    model.add(Dense(\n",
    "        units=1))\n",
    "    model.add(Activation('linear'))\n",
    "\n",
    "    start = time.time()\n",
    "    model.compile(loss='mse', optimizer='rmsprop')\n",
    "    print ('compilation time : ', time.time() - start)\n",
    "    return model"
   ]
  },
  {
   "cell_type": "markdown",
   "metadata": {},
   "source": [
    "## Load data as per model requirements"
   ]
  },
  {
   "cell_type": "code",
   "execution_count": 16,
   "metadata": {},
   "outputs": [],
   "source": [
    "def load_data(stock, seq_len):\n",
    "    amount_of_features = 5\n",
    "    data = stock\n",
    "    sequence_length = seq_len + 1\n",
    "    result = []\n",
    "    for index in range(len(data) - sequence_length):\n",
    "        result.append(data[index: index + sequence_length])\n",
    "    \n",
    "    result =  np.array(result)\n",
    "    row = round(0.9 * result.shape[0])\n",
    "    train = result[:int(row), :]\n",
    "    x_train = train[:, :-1]\n",
    "    y_train = train[:, -1][:,-1]\n",
    "    x_test = result[int(row):, :-1]\n",
    "    y_test = result[int(row):, -1][:,-1]\n",
    "\n",
    "    x_train = np.reshape(x_train, (x_train.shape[0], x_train.shape[1], amount_of_features))\n",
    "    x_test = np.reshape(x_test, (x_test.shape[0], x_test.shape[1], amount_of_features))  \n",
    "\n",
    "    return [x_train, y_train, x_test, y_test]"
   ]
  },
  {
   "cell_type": "code",
   "execution_count": 17,
   "metadata": {},
   "outputs": [
    {
     "name": "stdout",
     "output_type": "stream",
     "text": [
      "X_train (3215, 5, 5)\n",
      "y_train (3215,)\n",
      "X_test (357, 5, 5)\n",
      "y_test (357,)\n"
     ]
    }
   ],
   "source": [
    "window = 5\n",
    "X_train, y_train, X_test, y_test = load_data(df, window)\n",
    "print(\"X_train\", X_train.shape)\n",
    "print(\"y_train\", y_train.shape)\n",
    "print(\"X_test\", X_test.shape)\n",
    "print(\"y_test\", y_test.shape)"
   ]
  },
  {
   "cell_type": "code",
   "execution_count": 18,
   "metadata": {},
   "outputs": [
    {
     "name": "stdout",
     "output_type": "stream",
     "text": [
      "compilation time :  0.02326345443725586\n"
     ]
    }
   ],
   "source": [
    "model = build_model([5,window,1])"
   ]
  },
  {
   "cell_type": "markdown",
   "metadata": {},
   "source": [
    "## Training Time!"
   ]
  },
  {
   "cell_type": "code",
   "execution_count": 19,
   "metadata": {
    "scrolled": true
   },
   "outputs": [
    {
     "name": "stdout",
     "output_type": "stream",
     "text": [
      "Train on 2893 samples, validate on 322 samples\n",
      "Epoch 1/25\n",
      "2893/2893 [==============================] - 2s 531us/step - loss: 0.3473 - val_loss: 0.0635\n",
      "Epoch 2/25\n",
      "2893/2893 [==============================] - 0s 121us/step - loss: 0.0407 - val_loss: 0.0053\n",
      "Epoch 3/25\n",
      "2893/2893 [==============================] - 0s 125us/step - loss: 0.0228 - val_loss: 0.0092\n",
      "Epoch 4/25\n",
      "2893/2893 [==============================] - 0s 118us/step - loss: 0.0197 - val_loss: 0.0063\n",
      "Epoch 5/25\n",
      "2893/2893 [==============================] - 0s 119us/step - loss: 0.0165 - val_loss: 0.0069\n",
      "Epoch 6/25\n",
      "2893/2893 [==============================] - 0s 120us/step - loss: 0.0267 - val_loss: 0.0098\n",
      "Epoch 7/25\n",
      "2893/2893 [==============================] - 0s 121us/step - loss: 0.0155 - val_loss: 0.0035\n",
      "Epoch 8/25\n",
      "2893/2893 [==============================] - 0s 118us/step - loss: 0.0139 - val_loss: 0.0042\n",
      "Epoch 9/25\n",
      "2893/2893 [==============================] - 0s 126us/step - loss: 0.0183 - val_loss: 0.0106\n",
      "Epoch 10/25\n",
      "2893/2893 [==============================] - 0s 127us/step - loss: 0.0201 - val_loss: 0.0045\n",
      "Epoch 11/25\n",
      "2893/2893 [==============================] - 0s 126us/step - loss: 0.0197 - val_loss: 0.0043\n",
      "Epoch 12/25\n",
      "2893/2893 [==============================] - 0s 128us/step - loss: 0.0177 - val_loss: 0.0039\n",
      "Epoch 13/25\n",
      "2893/2893 [==============================] - 0s 123us/step - loss: 0.0146 - val_loss: 0.0063\n",
      "Epoch 14/25\n",
      "2893/2893 [==============================] - 0s 123us/step - loss: 0.0193 - val_loss: 0.0032\n",
      "Epoch 15/25\n",
      "2893/2893 [==============================] - 0s 121us/step - loss: 0.0170 - val_loss: 0.0041\n",
      "Epoch 16/25\n",
      "2893/2893 [==============================] - 0s 124us/step - loss: 0.0179 - val_loss: 0.0050\n",
      "Epoch 17/25\n",
      "2893/2893 [==============================] - 0s 123us/step - loss: 0.0135 - val_loss: 0.0041\n",
      "Epoch 18/25\n",
      "2893/2893 [==============================] - 0s 124us/step - loss: 0.0156 - val_loss: 0.0056\n",
      "Epoch 19/25\n",
      "2893/2893 [==============================] - 0s 125us/step - loss: 0.0226 - val_loss: 0.0061\n",
      "Epoch 20/25\n",
      "2893/2893 [==============================] - 0s 123us/step - loss: 0.0135 - val_loss: 0.0090\n",
      "Epoch 21/25\n",
      "2893/2893 [==============================] - 0s 124us/step - loss: 0.0191 - val_loss: 0.0074\n",
      "Epoch 22/25\n",
      "2893/2893 [==============================] - 0s 123us/step - loss: 0.0149 - val_loss: 0.0043\n",
      "Epoch 23/25\n",
      "2893/2893 [==============================] - 0s 122us/step - loss: 0.0142 - val_loss: 0.0091\n",
      "Epoch 24/25\n",
      "2893/2893 [==============================] - 0s 124us/step - loss: 0.0194 - val_loss: 0.0109\n",
      "Epoch 25/25\n",
      "2893/2893 [==============================] - 0s 126us/step - loss: 0.0161 - val_loss: 0.0038\n"
     ]
    },
    {
     "data": {
      "text/plain": [
       "<keras.callbacks.History at 0x7f2cc09bb908>"
      ]
     },
     "execution_count": 19,
     "metadata": {},
     "output_type": "execute_result"
    }
   ],
   "source": [
    "model.fit(\n",
    "    X_train,\n",
    "    y_train,\n",
    "    batch_size=512,\n",
    "    epochs=25,\n",
    "    validation_split=0.1,\n",
    "    verbose=1)"
   ]
  },
  {
   "cell_type": "code",
   "execution_count": 20,
   "metadata": {},
   "outputs": [
    {
     "name": "stdout",
     "output_type": "stream",
     "text": [
      "0.009171587129269798\n"
     ]
    }
   ],
   "source": [
    "trainScore = model.evaluate(X_train, y_train, verbose=0)\n",
    "print(trainScore)"
   ]
  },
  {
   "cell_type": "markdown",
   "metadata": {},
   "source": [
    "## Predictions"
   ]
  },
  {
   "cell_type": "code",
   "execution_count": 21,
   "metadata": {},
   "outputs": [],
   "source": [
    "p = model.predict(X_test)"
   ]
  },
  {
   "cell_type": "markdown",
   "metadata": {},
   "source": [
    "## Visualizations"
   ]
  },
  {
   "cell_type": "code",
   "execution_count": 22,
   "metadata": {},
   "outputs": [
    {
     "data": {
      "image/png": "[encoded data removed]",
      "text/plain": [
       "<Figure size 1296x648 with 1 Axes>"
      ]
     },
     "metadata": {
      "needs_background": "light"
     },
     "output_type": "display_data"
    }
   ],
   "source": [
    "import matplotlib.pyplot as plt2\n",
    "plt2.figure(figsize = (18,9))\n",
    "plt2.plot(p,color='red', label='prediction')\n",
    "plt2.plot(y_test,color='blue', label='y_test')\n",
    "plt2.legend(loc='upper left')\n",
    "plt2.show()"
   ]
  },
  {
   "cell_type": "markdown",
   "metadata": {},
   "source": [
    "## Sentiment Analysis"
   ]
  },
  {
   "cell_type": "code",
   "execution_count": 23,
   "metadata": {},
   "outputs": [],
   "source": [
    "consumer_key= 'E0pFYVai9VaOhqLiRBEC6gpGF'\n",
    "consumer_secret= 'XAMh4l9XL5nwFK3MN5tAjtXA2YgDN1tw5f7L2n6dz5ib8VYlbm'\n",
    "\n",
    "access_token='3261604734-86c7DOJP98GwNeFWzvgPQKFUTyHn1ZFwlloJP3v'\n",
    "access_token_secret='eXEmlEAdxaFjueVP03jsAWeOeNMkI7ToiDQkyvLDa6eX7'"
   ]
  },
  {
   "cell_type": "code",
   "execution_count": 24,
   "metadata": {},
   "outputs": [],
   "source": [
    "auth = tweepy.OAuthHandler(consumer_key, consumer_secret)\n",
    "auth.set_access_token(access_token, access_token_secret)\n",
    "\n",
    "api = tweepy.API(auth)"
   ]
  },
  {
   "cell_type": "code",
   "execution_count": 25,
   "metadata": {},
   "outputs": [],
   "source": [
    "public_tweets = api.search('Google', count = 1000)"
   ]
  },
  {
   "cell_type": "code",
   "execution_count": 26,
   "metadata": {},
   "outputs": [],
   "source": [
    "def clean_tweet(tweet):\n",
    "    return ' '.join(re.sub(\"(@[A-Za-z0-9]+)|([^0-9A-Za-z \\t])|(\\w+:\\/\\/\\S+)\", \" \", tweet).split())"
   ]
  },
  {
   "cell_type": "code",
   "execution_count": 27,
   "metadata": {},
   "outputs": [],
   "source": [
    "def get_tweet_sentiment(tweet):\n",
    "    analysis = TextBlob(clean_tweet(tweet))\n",
    "    if analysis.sentiment.polarity > 0:\n",
    "        return 'positive'\n",
    "    elif analysis.sentiment.polarity == 0:\n",
    "        return 'neutral'\n",
    "    else:\n",
    "        return 'negative'"
   ]
  },
  {
   "cell_type": "code",
   "execution_count": 28,
   "metadata": {},
   "outputs": [
    {
     "name": "stdout",
     "output_type": "stream",
     "text": [
      "96\n",
      "RT Wohl is accusing Mueller of leaking the proof that he had jury duty on Aug 2 the day in question notably that proof is\n",
      "positive\n",
      "\n",
      "RT hindu Hundreds of Google engineers and other workers around the world walked off the job Thursday to protest the internet company\n",
      "negative\n",
      "\n",
      "RT Hundreds of Google workers expected to walk out to protest the company s handling of sexual misconduct cases\n",
      "positive\n",
      "\n",
      "RT Design systems need architecture haha just saw a post on Google Material go by that s why i say that\n",
      "positive\n",
      "\n",
      "RT WATCH Google employees in New York City stage a walkout It s one of several taking place at the tech giant s global offices t\n",
      "positive\n",
      "\n",
      "RT K Yall everybody s needs to be RT ing this You can barely find anything on this on google because it s being suppressed This\n",
      "positive\n",
      "\n",
      "RT Wonder when the walkout of conservative Google workers will be held to protest their equal treatment Oh that s right th\n",
      "positive\n",
      "\n",
      "RT inf Ya tenemos la versi n Kali Linux 2018 4 en breve realizar un an lisis con las novedades\n",
      "neutral\n",
      "\n",
      "Sonos delays Google Assistant support until 2019\n",
      "neutral\n",
      "\n",
      "How Congress could rein in Google and Facebook\n",
      "neutral\n",
      "\n",
      "RT rabbit StrayKids\n",
      "neutral\n",
      "\n",
      "Google Walkout Employees Stage Protest Over Handling of Sexual Harassment The New York Times\n",
      "positive\n",
      "\n",
      "RT BLEXIT is now a number 1 worldwide topic Google is trying to suppress it I have always known that awakening the bla\n",
      "neutral\n",
      "\n",
      "video\n",
      "neutral\n",
      "\n",
      "RT Coming together for this great country and delivering to our ambitions that s what we re about as Texans That s what the\n",
      "positive\n",
      "\n",
      "RT LISANATIONS Our video is taken down by youtube for blinks who not watch it yet you can watch it here\n",
      "negative\n",
      "\n",
      "RT Staff at Google offices around the world have staged walkouts GoogleWalkout\n",
      "neutral\n",
      "\n",
      "RT Coming together for this great country and delivering to our ambitions that s what we re about as Texans That s what the\n",
      "positive\n",
      "\n",
      "Lo bueno de que conozcan tus gustos es recibir recomendaciones y si haciertan moooola m s\n",
      "neutral\n",
      "\n",
      "\n",
      "neutral\n",
      "\n",
      "RT HAVE YOU EVER SEEN A YouTube VIDEO WITH ONLY LIKE amp DISLIKE BUTTONS W O THE COUNTERS TO ENJOY THIS PRIVILEG\n",
      "positive\n",
      "\n",
      "RT English Mastery E\n",
      "neutral\n",
      "\n",
      "RT These are 5 demands Google employees have as they walk out today in protest\n",
      "neutral\n",
      "\n",
      "RT Google Walkout leaders call for transparency on sexual misconduct\n",
      "positive\n",
      "\n",
      "Thanks for following us on Twitter Why not download the app iOS at amp Android at\n",
      "positive\n",
      "\n",
      "RT https\n",
      "neutral\n",
      "\n",
      "RT\n",
      "neutral\n",
      "\n",
      "This was a famous incident and many reports are there too not depending on google\n",
      "positive\n",
      "\n",
      "Google Trail Renderer Component\n",
      "neutral\n",
      "\n",
      "Doesn t 13 senior managers sound like a lot to have this problem of sexualmisconduct before anyone voicing out G\n",
      "positive\n",
      "\n",
      "RT Google\n",
      "neutral\n",
      "\n",
      "When Andy Rubin the creator of Android software left Google in 2014 he had a warm farewell amp 90 million exit pack\n",
      "positive\n",
      "\n",
      "RT\n",
      "neutral\n",
      "\n",
      "RT BLEXIT is now a number 1 worldwide topic Google is trying to suppress it I have always known that awakening the bla\n",
      "neutral\n",
      "\n",
      "SWEEPSTAKES SalesforceEssentials ads are everywhere and more Now s your chance to win swag amp a 250 gi\n",
      "positive\n",
      "\n",
      "RT An unaffiliated website even had to apologize because Candace Owens supporters were mistakenly donating to it Here are\n",
      "neutral\n",
      "\n",
      "RT The employees are saying enough is enough They want transparency says Specifically they want Google t\n",
      "neutral\n",
      "\n",
      "RT PH PH GO SMTOWN SEASON GREETINGS 2019 FAST ETA around 2nd 3rd week of december PRICE 2700 LOCAL SF each NCT\n",
      "positive\n",
      "\n",
      "RT This is going on worldwide today Rolling walkouts at Google as a fightback against unpunished sexual harrasment from exe\n",
      "positive\n",
      "\n",
      "RT and also summarized here This is also a reminder on why it s so important VOTE\n",
      "positive\n",
      "\n",
      "Whenever I am sad I just google pics of Jason mamoa\n",
      "negative\n",
      "\n",
      "Thousands of Google employees around the world joined in with the GoogleWalkout protest against Google executives\n",
      "neutral\n",
      "\n",
      "RT IntelligenceArtificielle Google veut aider les gens faire des choses positives avec l intelligence artificielle et lance\n",
      "neutral\n",
      "\n",
      "Neuer Google Doodle Thema Tag der Toten 2018 google doodle design\n",
      "neutral\n",
      "\n",
      "Los trabajadores de Google protestan contra el trato al acoso sexual en la compa a v a pais\n",
      "positive\n",
      "\n",
      "RT Basically what all of my texts look like the past few days This is a former employee Why are Media treating me like the greatest\n",
      "positive\n",
      "\n",
      "RT These are 5 demands Google employees have as they walk out today in protest\n",
      "neutral\n",
      "\n",
      "RT BLEXIT is now a number 1 worldwide topic Google is trying to suppress it I have always known that awakening the bla\n",
      "neutral\n",
      "\n",
      "RT Amazon Apple and Google are investing billions to make voice recognition the main way we communicate with the Intern\n",
      "positive\n",
      "\n",
      "RT Democrats bemoan Russian interference in our elections what about Google s interference TeaPa\n",
      "neutral\n",
      "\n",
      "RT Google play works too HDBlackOnBlack\n",
      "neutral\n",
      "\n",
      "I didn t mean to Google got but I m glad I did lmao\n",
      "positive\n",
      "\n",
      "RT I discussed Facebook s banning of this important ad on this morning has a rare trifec\n",
      "positive\n",
      "\n",
      "RT Businesses appearing in the Google Local 3 pack have an average of 47 Google Reviews\n",
      "negative\n",
      "\n",
      "Mike Myers says new Austin Powers movie looking good via\n",
      "positive\n",
      "\n",
      "RT These are the demands of the organizers of the googlewalkout They are worth your time and res\n",
      "positive\n",
      "\n",
      "RT K Yall everybody s needs to be RT ing this You can barely find anything on this on google because it s being suppressed This\n",
      "positive\n",
      "\n",
      "F K YEAH google employees\n",
      "neutral\n",
      "\n",
      "RT Un HILO sobre c mo votar en los Premios MAMA 1 Ir a 2 Inicia sesi n con tu cuenta de redes socia\n",
      "neutral\n",
      "\n",
      "Google workers around world protest harassment inequality news business social\n",
      "positive\n",
      "\n",
      "RT LISANATIONS Our video is taken down by youtube for blinks who not watch it yet you can watch it here\n",
      "negative\n",
      "\n",
      "RT Big crowd here now at Google Dublin for the GoogleWalkout\n",
      "neutral\n",
      "\n",
      "RT knocksense Firangi has taken over Google Maps ThugsofHindostan FirangiOnGoogleMaps\n",
      "neutral\n",
      "\n",
      "RT These are 5 demands Google employees have as they walk out today in protest\n",
      "neutral\n",
      "\n",
      "RT We are told to fear Russian bots and Kremlin agents who spend a pathetic amount on Facebook ads yet Google having the po\n",
      "negative\n",
      "\n",
      "RT Twitterstorm One last before Election Day Let s make sure to elect and to FlipTheSe\n",
      "positive\n",
      "\n",
      "RT kreins State Hey State when you FeedTheDOG you support students like me that develop lifelong skill sets amp w\n",
      "negative\n",
      "\n",
      "RT Today at 11 10am in every time zone employees at 2 3 of Google s global offices are walking out We demand an end to the\n",
      "neutral\n",
      "\n",
      "RT This is going on worldwide today Rolling walkouts at Google as a fightback against unpunished sexual harrasment from exe\n",
      "positive\n",
      "\n",
      "RT BIG Google is being accused of engaging in election meddling by burying Candace Owens Blexit website in its algorithm d\n",
      "positive\n",
      "\n",
      "RT Google employees around the world walk off the job to protest against what they believe is the company s mishandling of sex\n",
      "neutral\n",
      "\n",
      "I prefer use Google Translater instead of dating someone\n",
      "neutral\n",
      "\n",
      "Airdrop Binance BNB Coin We are 5 years old Distribute BNB Tokens binance Airdrop bnb blockchain\n",
      "positive\n",
      "\n",
      "RT What are smartshoppingcampaigns from is here with all you need to know Check out the full post\n",
      "positive\n",
      "\n",
      "RT\n",
      "neutral\n",
      "\n",
      "Google employees around the globe walk out to protest protection of sex pest executive Andy Rubin\n",
      "neutral\n",
      "\n",
      "RT Google employees around the world are walking out of work today after reports that an executive was paid 90 million in 2014 de\n",
      "neutral\n",
      "\n",
      "RT Sergey Brin tried to recall the name of a woman he had recently met at a company event who had impressed him the people sai\n",
      "positive\n",
      "\n",
      "RT On Thursday more than 1 500 most of them women plan to walk out of almost two dozen Google offices around the world https\n",
      "positive\n",
      "\n",
      "RT MMM 5MB 5MB http\n",
      "neutral\n",
      "\n",
      "RT DEVELOPING Google employees are beginning walkouts around the world over handling of sexual misconduct by executives NBC\n",
      "positive\n",
      "\n",
      "RT SRK s POPULARITY IS MORE THAN COMBINED POPULARITY OF TOM CRUISE AND BRAD PITT STATED BY GOOGLE BBC CNN WIKI TWITT\n",
      "positive\n",
      "\n",
      "RT BLEXIT is now a number 1 worldwide topic Google is trying to suppress it I have always known that awakening the bla\n",
      "neutral\n",
      "\n",
      "RT Manc Here is my new demo reel I v decided I m going to make my job title as a character animator and focus on that I ll be addin\n",
      "positive\n",
      "\n",
      "Join our Twitter 100 BTX Giveaway tag at least 10 new friends and fill the Google form in there and you ll be gett\n",
      "negative\n",
      "\n",
      "RT AKB48 16 9 MAYA Music F\n",
      "neutral\n",
      "\n",
      "RT Google employees walk out to protest treatment of women\n",
      "neutral\n",
      "\n",
      "google pixel or iphone\n",
      "neutral\n",
      "\n",
      "RT my king RM NAMJOON twt\n",
      "neutral\n",
      "\n",
      "56 of America s largest leading companies are sending a loud and clear message to and pence\n",
      "positive\n",
      "\n",
      "RT This is pure election meddling With Google going after us in this way we should examine all potential ways to go after\n",
      "positive\n",
      "\n",
      "RT Solidarity with the employees walking out today in protest of the company s treatment of women Companies tha\n",
      "neutral\n",
      "\n",
      "Estou apaixonada pelos textos desse aplicativo\n",
      "neutral\n",
      "\n",
      "Have you heard the news We ve been nominated for Fan Favorite Game of 2018 Starting Nov 12 you ca\n",
      "positive\n",
      "\n",
      "RT BLEXIT is now a number 1 worldwide topic Google is trying to suppress it I have always known that awakening the bla\n",
      "neutral\n",
      "\n",
      "RT Google employees across the globe are walking out now to protest sexual harassment by\n",
      "positive\n",
      "\n"
     ]
    }
   ],
   "source": [
    "positive = 0\n",
    "negative = 0\n",
    "neutral = 0\n",
    "print(len(public_tweets))\n",
    "for tweet in public_tweets:\n",
    "#     print(tweet.text)\n",
    "    print(clean_tweet(tweet.text))\n",
    "    sentiment = get_tweet_sentiment(tweet.text) \n",
    "    print(sentiment)\n",
    "    if sentiment == 'positive':\n",
    "        positive += 1\n",
    "    elif sentiment == 'negative':\n",
    "        negative += 1\n",
    "    elif sentiment == 'neutral':\n",
    "        neutral += 1\n",
    "    print(\"\")"
   ]
  },
  {
   "cell_type": "code",
   "execution_count": 29,
   "metadata": {},
   "outputs": [
    {
     "name": "stdout",
     "output_type": "stream",
     "text": [
      "Positive: 42\n",
      "Negative: 8\n",
      "Neutral: 46\n"
     ]
    }
   ],
   "source": [
    "print('Positive:', positive)\n",
    "print('Negative:', negative)\n",
    "print('Neutral:', neutral)"
   ]
  },
  {
   "cell_type": "code",
   "execution_count": null,
   "metadata": {},
   "outputs": [],
   "source": []
  }
 ],
 "metadata": {
  "kernelspec": {
   "display_name": "Python 3",
   "language": "python",
   "name": "python3"
  },
  "language_info": {
   "codemirror_mode": {
    "name": "ipython",
    "version": 3
   },
   "file_extension": ".py",
   "mimetype": "text/x-python",
   "name": "python",
   "nbconvert_exporter": "python",
   "pygments_lexer": "ipython3",
   "version": "3.6.6"
  }
 },
 "nbformat": 4,
 "nbformat_minor": 2
}
