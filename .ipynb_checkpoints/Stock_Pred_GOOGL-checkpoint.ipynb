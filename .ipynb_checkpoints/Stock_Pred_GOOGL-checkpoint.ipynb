{
 "cells": [
  {
   "cell_type": "markdown",
   "metadata": {},
   "source": [
    "## Importing Libraries"
   ]
  },
  {
   "cell_type": "code",
   "execution_count": 1,
   "metadata": {},
   "outputs": [
    {
     "name": "stderr",
     "output_type": "stream",
     "text": [
      "Using TensorFlow backend.\n"
     ]
    }
   ],
   "source": [
    "import numpy as np\n",
    "import pandas as pd\n",
    "from keras.layers.core import Dense, Activation, Dropout\n",
    "from keras.layers.recurrent import LSTM\n",
    "from keras.models import Sequential\n",
    "import matplotlib.pyplot as plt\n",
    "import time\n",
    "import datetime as dt\n",
    "import urllib.request, json\n",
    "import os\n",
    "from pandas_datareader import data"
   ]
  },
  {
   "cell_type": "markdown",
   "metadata": {},
   "source": [
    "## Getting data using Alpha Vantage API"
   ]
  },
  {
   "cell_type": "code",
   "execution_count": 2,
   "metadata": {},
   "outputs": [
    {
     "name": "stdout",
     "output_type": "stream",
     "text": [
      "File already exists. Loading data from CSV\n"
     ]
    }
   ],
   "source": [
    "data_source = 'alphavantage'\n",
    "\n",
    "if data_source == 'alphavantage':\n",
    "    # ====================== Loading Data from Alpha Vantage ==================================\n",
    "\n",
    "    api_key = '7TONQ8CM5PXZ4YEO'\n",
    "\n",
    "    # GOOGL stock market prices\n",
    "    ticker = \"GOOGL\"\n",
    "\n",
    "    # JSON file with all the stock market data for AAL from the last 20 years\n",
    "    url_string = \"https://www.alphavantage.co/query?function=TIME_SERIES_DAILY&symbol=%s&outputsize=full&apikey=%s\"%(ticker,api_key)\n",
    "\n",
    "    # Save data to this file\n",
    "    file_to_save = 'stock_market_data-%s.csv'%ticker\n",
    "\n",
    "    # If you haven't already saved data,\n",
    "    # Go ahead and grab the data from the url\n",
    "    # And store date, low, high, volume, close, open values to a Pandas DataFrame\n",
    "    if not os.path.exists(file_to_save):\n",
    "        with urllib.request.urlopen(url_string) as url:\n",
    "            data = json.loads(url.read().decode())\n",
    "            # extract stock market data\n",
    "            data = data['Time Series (Daily)']\n",
    "            df = pd.DataFrame(columns=['Date','Low','High','Close','Open'])\n",
    "            for k,v in data.items():\n",
    "                date = dt.datetime.strptime(k, '%Y-%m-%d')\n",
    "                data_row = [date.date(),float(v['3. low']),float(v['2. high']),\n",
    "                            float(v['4. close']),float(v['1. open'])]\n",
    "                df.loc[-1,:] = data_row\n",
    "                df.index = df.index + 1\n",
    "        print('Data saved to : %s'%file_to_save)        \n",
    "        df.to_csv(file_to_save)\n",
    "\n",
    "    # If the data is already there, just load it from the CSV\n",
    "    else:\n",
    "        print('File already exists. Loading data from CSV')\n",
    "        df = pd.read_csv(file_to_save)"
   ]
  },
  {
   "cell_type": "code",
   "execution_count": 3,
   "metadata": {
    "collapsed": true
   },
   "outputs": [],
   "source": [
    "df = pd.read_csv(\"stock_market_data-GOOGL.csv\")"
   ]
  },
  {
   "cell_type": "code",
   "execution_count": 4,
   "metadata": {
    "collapsed": true
   },
   "outputs": [],
   "source": [
    "df = df[['Date', 'Open', 'Close', 'Low', 'High']]"
   ]
  },
  {
   "cell_type": "code",
   "execution_count": 5,
   "metadata": {
    "collapsed": true
   },
   "outputs": [],
   "source": [
    "df = df.sort_values('Date')"
   ]
  },
  {
   "cell_type": "markdown",
   "metadata": {},
   "source": [
    "Past 13 years stock data"
   ]
  },
  {
   "cell_type": "code",
   "execution_count": 6,
   "metadata": {},
   "outputs": [
    {
     "data": {
      "text/html": [
       "<div>\n",
       "<style>\n",
       "    .dataframe thead tr:only-child th {\n",
       "        text-align: right;\n",
       "    }\n",
       "\n",
       "    .dataframe thead th {\n",
       "        text-align: left;\n",
       "    }\n",
       "\n",
       "    .dataframe tbody tr th {\n",
       "        vertical-align: top;\n",
       "    }\n",
       "</style>\n",
       "<table border=\"1\" class=\"dataframe\">\n",
       "  <thead>\n",
       "    <tr style=\"text-align: right;\">\n",
       "      <th></th>\n",
       "      <th>Date</th>\n",
       "      <th>Open</th>\n",
       "      <th>Close</th>\n",
       "      <th>Low</th>\n",
       "      <th>High</th>\n",
       "    </tr>\n",
       "  </thead>\n",
       "  <tbody>\n",
       "    <tr>\n",
       "      <th>3223</th>\n",
       "      <td>2004-08-19</td>\n",
       "      <td>50.1598</td>\n",
       "      <td>50.3228</td>\n",
       "      <td>48.1286</td>\n",
       "      <td>52.1911</td>\n",
       "    </tr>\n",
       "    <tr>\n",
       "      <th>800</th>\n",
       "      <td>2004-08-20</td>\n",
       "      <td>50.6614</td>\n",
       "      <td>54.3227</td>\n",
       "      <td>50.4056</td>\n",
       "      <td>54.7089</td>\n",
       "    </tr>\n",
       "    <tr>\n",
       "      <th>931</th>\n",
       "      <td>2004-08-23</td>\n",
       "      <td>55.5515</td>\n",
       "      <td>54.8694</td>\n",
       "      <td>54.6938</td>\n",
       "      <td>56.9157</td>\n",
       "    </tr>\n",
       "    <tr>\n",
       "      <th>1775</th>\n",
       "      <td>2004-08-24</td>\n",
       "      <td>55.7922</td>\n",
       "      <td>52.5974</td>\n",
       "      <td>51.9454</td>\n",
       "      <td>55.9728</td>\n",
       "    </tr>\n",
       "    <tr>\n",
       "      <th>588</th>\n",
       "      <td>2004-08-25</td>\n",
       "      <td>52.5422</td>\n",
       "      <td>53.1641</td>\n",
       "      <td>52.1008</td>\n",
       "      <td>54.1672</td>\n",
       "    </tr>\n",
       "  </tbody>\n",
       "</table>\n",
       "</div>"
      ],
      "text/plain": [
       "            Date     Open    Close      Low     High\n",
       "3223  2004-08-19  50.1598  50.3228  48.1286  52.1911\n",
       "800   2004-08-20  50.6614  54.3227  50.4056  54.7089\n",
       "931   2004-08-23  55.5515  54.8694  54.6938  56.9157\n",
       "1775  2004-08-24  55.7922  52.5974  51.9454  55.9728\n",
       "588   2004-08-25  52.5422  53.1641  52.1008  54.1672"
      ]
     },
     "execution_count": 6,
     "metadata": {},
     "output_type": "execute_result"
    }
   ],
   "source": [
    "df.head()"
   ]
  },
  {
   "cell_type": "code",
   "execution_count": 7,
   "metadata": {},
   "outputs": [
    {
     "data": {
      "image/png": "[encoded data removed]",
      "text/plain": [
       "<matplotlib.figure.Figure at 0x22082410d30>"
      ]
     },
     "metadata": {},
     "output_type": "display_data"
    }
   ],
   "source": [
    "plt.figure(figsize = (18,9))\n",
    "plt.plot(range(df.shape[0]),(df['Low']+df['High'])/2.0)\n",
    "plt.xticks(range(0,df.shape[0],500),df['Date'].loc[::500],rotation=45)\n",
    "plt.xlabel('Date',fontsize=18)\n",
    "plt.ylabel('Mid Price',fontsize=18)\n",
    "plt.show()"
   ]
  },
  {
   "cell_type": "code",
   "execution_count": 8,
   "metadata": {
    "collapsed": true
   },
   "outputs": [],
   "source": [
    "high_prices = df.loc[:,'High']\n",
    "low_prices = df.loc[:,'Low']\n",
    "df[\"Mid Prices\"] = (high_prices+low_prices)/2.0"
   ]
  },
  {
   "cell_type": "code",
   "execution_count": 9,
   "metadata": {
    "scrolled": true
   },
   "outputs": [
    {
     "data": {
      "text/html": [
       "<div>\n",
       "<style>\n",
       "    .dataframe thead tr:only-child th {\n",
       "        text-align: right;\n",
       "    }\n",
       "\n",
       "    .dataframe thead th {\n",
       "        text-align: left;\n",
       "    }\n",
       "\n",
       "    .dataframe tbody tr th {\n",
       "        vertical-align: top;\n",
       "    }\n",
       "</style>\n",
       "<table border=\"1\" class=\"dataframe\">\n",
       "  <thead>\n",
       "    <tr style=\"text-align: right;\">\n",
       "      <th></th>\n",
       "      <th>Date</th>\n",
       "      <th>Open</th>\n",
       "      <th>Close</th>\n",
       "      <th>Low</th>\n",
       "      <th>High</th>\n",
       "      <th>Mid Prices</th>\n",
       "    </tr>\n",
       "  </thead>\n",
       "  <tbody>\n",
       "    <tr>\n",
       "      <th>3223</th>\n",
       "      <td>2004-08-19</td>\n",
       "      <td>50.1598</td>\n",
       "      <td>50.3228</td>\n",
       "      <td>48.1286</td>\n",
       "      <td>52.1911</td>\n",
       "      <td>50.15985</td>\n",
       "    </tr>\n",
       "    <tr>\n",
       "      <th>800</th>\n",
       "      <td>2004-08-20</td>\n",
       "      <td>50.6614</td>\n",
       "      <td>54.3227</td>\n",
       "      <td>50.4056</td>\n",
       "      <td>54.7089</td>\n",
       "      <td>52.55725</td>\n",
       "    </tr>\n",
       "    <tr>\n",
       "      <th>931</th>\n",
       "      <td>2004-08-23</td>\n",
       "      <td>55.5515</td>\n",
       "      <td>54.8694</td>\n",
       "      <td>54.6938</td>\n",
       "      <td>56.9157</td>\n",
       "      <td>55.80475</td>\n",
       "    </tr>\n",
       "    <tr>\n",
       "      <th>1775</th>\n",
       "      <td>2004-08-24</td>\n",
       "      <td>55.7922</td>\n",
       "      <td>52.5974</td>\n",
       "      <td>51.9454</td>\n",
       "      <td>55.9728</td>\n",
       "      <td>53.95910</td>\n",
       "    </tr>\n",
       "    <tr>\n",
       "      <th>588</th>\n",
       "      <td>2004-08-25</td>\n",
       "      <td>52.5422</td>\n",
       "      <td>53.1641</td>\n",
       "      <td>52.1008</td>\n",
       "      <td>54.1672</td>\n",
       "      <td>53.13400</td>\n",
       "    </tr>\n",
       "  </tbody>\n",
       "</table>\n",
       "</div>"
      ],
      "text/plain": [
       "            Date     Open    Close      Low     High  Mid Prices\n",
       "3223  2004-08-19  50.1598  50.3228  48.1286  52.1911    50.15985\n",
       "800   2004-08-20  50.6614  54.3227  50.4056  54.7089    52.55725\n",
       "931   2004-08-23  55.5515  54.8694  54.6938  56.9157    55.80475\n",
       "1775  2004-08-24  55.7922  52.5974  51.9454  55.9728    53.95910\n",
       "588   2004-08-25  52.5422  53.1641  52.1008  54.1672    53.13400"
      ]
     },
     "execution_count": 9,
     "metadata": {},
     "output_type": "execute_result"
    }
   ],
   "source": [
    "df.head()"
   ]
  },
  {
   "cell_type": "markdown",
   "metadata": {},
   "source": [
    "## Data Cleaning"
   ]
  },
  {
   "cell_type": "code",
   "execution_count": 10,
   "metadata": {
    "collapsed": true
   },
   "outputs": [],
   "source": [
    "df.drop(\"Date\", axis = 1,inplace = True)"
   ]
  },
  {
   "cell_type": "code",
   "execution_count": 11,
   "metadata": {
    "collapsed": true
   },
   "outputs": [],
   "source": [
    "from sklearn.preprocessing import StandardScaler"
   ]
  },
  {
   "cell_type": "code",
   "execution_count": 12,
   "metadata": {},
   "outputs": [
    {
     "data": {
      "text/plain": [
       "StandardScaler(copy=True, with_mean=True, with_std=True)"
      ]
     },
     "execution_count": 12,
     "metadata": {},
     "output_type": "execute_result"
    }
   ],
   "source": [
    "scaler = StandardScaler()\n",
    "scaler.fit(df)"
   ]
  },
  {
   "cell_type": "code",
   "execution_count": 13,
   "metadata": {
    "collapsed": true
   },
   "outputs": [],
   "source": [
    "df = scaler.transform(df)"
   ]
  },
  {
   "cell_type": "markdown",
   "metadata": {},
   "source": [
    "## Building Long-Short Term Memory Cell to implement Recurrent Neural Network"
   ]
  },
  {
   "cell_type": "code",
   "execution_count": 14,
   "metadata": {
    "collapsed": true
   },
   "outputs": [],
   "source": [
    "def build_model(layers):\n",
    "    model = Sequential()\n",
    "\n",
    "    model.add(LSTM(\n",
    "        input_dim=layers[0],\n",
    "        output_dim=50,\n",
    "        return_sequences=True))\n",
    "    model.add(Dropout(0.2))\n",
    "\n",
    "    model.add(LSTM(\n",
    "        100,\n",
    "        return_sequences=False))\n",
    "    model.add(Dropout(0.2))\n",
    "\n",
    "    model.add(Dense(\n",
    "        output_dim=1))\n",
    "    model.add(Activation('linear'))\n",
    "\n",
    "    start = time.time()\n",
    "    model.compile(loss='mse', optimizer='rmsprop')\n",
    "    print ('compilation time : ', time.time() - start)\n",
    "    return model\n",
    "\n",
    "def build_model2(layers):\n",
    "        d = 0.2\n",
    "        model = Sequential()\n",
    "        model.add(LSTM(128, input_shape=(layers[1], layers[0]), return_sequences=True))\n",
    "        model.add(Dropout(d))\n",
    "        model.add(LSTM(64, input_shape=(layers[1], layers[0]), return_sequences=False))\n",
    "        model.add(Dropout(d))\n",
    "        model.add(Dense(16,kernel_initializer='uniform',activation='relu'))        \n",
    "        model.add(Dense(1,kernel_initializer='uniform',activation='relu'))\n",
    "        model.compile(loss='mse',optimizer='adam',metrics=['accuracy'])\n",
    "        return model"
   ]
  },
  {
   "cell_type": "markdown",
   "metadata": {},
   "source": [
    "## Load data as per model requirements"
   ]
  },
  {
   "cell_type": "code",
   "execution_count": 15,
   "metadata": {
    "collapsed": true
   },
   "outputs": [],
   "source": [
    "def load_data(stock, seq_len):\n",
    "    amount_of_features = 5\n",
    "    data = stock\n",
    "    sequence_length = seq_len + 1\n",
    "    result = []\n",
    "    for index in range(len(data) - sequence_length):\n",
    "        result.append(data[index: index + sequence_length])\n",
    "    \n",
    "    result =  np.array(result)\n",
    "    row = round(0.9 * result.shape[0])\n",
    "    train = result[:int(row), :]\n",
    "    x_train = train[:, :-1]\n",
    "    y_train = train[:, -1][:,-1]\n",
    "    x_test = result[int(row):, :-1]\n",
    "    y_test = result[int(row):, -1][:,-1]\n",
    "\n",
    "    x_train = np.reshape(x_train, (x_train.shape[0], x_train.shape[1], amount_of_features))\n",
    "    x_test = np.reshape(x_test, (x_test.shape[0], x_test.shape[1], amount_of_features))  \n",
    "\n",
    "    return [x_train, y_train, x_test, y_test]"
   ]
  },
  {
   "cell_type": "code",
   "execution_count": 16,
   "metadata": {},
   "outputs": [
    {
     "name": "stdout",
     "output_type": "stream",
     "text": [
      "X_train (3193, 5, 5)\n",
      "y_train (3193,)\n",
      "X_test (355, 5, 5)\n",
      "y_test (355,)\n"
     ]
    }
   ],
   "source": [
    "window = 5\n",
    "X_train, y_train, X_test, y_test = load_data(df, window)\n",
    "print(\"X_train\", X_train.shape)\n",
    "print(\"y_train\", y_train.shape)\n",
    "print(\"X_test\", X_test.shape)\n",
    "print(\"y_test\", y_test.shape)"
   ]
  },
  {
   "cell_type": "code",
   "execution_count": 17,
   "metadata": {},
   "outputs": [
    {
     "name": "stderr",
     "output_type": "stream",
     "text": [
      "C:\\Users\\shiva\\Anaconda2\\envs\\tfdeeplearning\\lib\\site-packages\\ipykernel_launcher.py:7: UserWarning: The `input_dim` and `input_length` arguments in recurrent layers are deprecated. Use `input_shape` instead.\n",
      "  import sys\n",
      "C:\\Users\\shiva\\Anaconda2\\envs\\tfdeeplearning\\lib\\site-packages\\ipykernel_launcher.py:7: UserWarning: Update your `LSTM` call to the Keras 2 API: `LSTM(units=50, input_shape=(None, 5), return_sequences=True)`\n",
      "  import sys\n"
     ]
    },
    {
     "name": "stdout",
     "output_type": "stream",
     "text": [
      "compilation time :  0.02988910675048828\n"
     ]
    },
    {
     "name": "stderr",
     "output_type": "stream",
     "text": [
      "C:\\Users\\shiva\\Anaconda2\\envs\\tfdeeplearning\\lib\\site-packages\\ipykernel_launcher.py:16: UserWarning: Update your `Dense` call to the Keras 2 API: `Dense(units=1)`\n",
      "  app.launch_new_instance()\n"
     ]
    }
   ],
   "source": [
    "model = build_model([5,window,1])"
   ]
  },
  {
   "cell_type": "markdown",
   "metadata": {},
   "source": [
    "## Training Time!"
   ]
  },
  {
   "cell_type": "code",
   "execution_count": 22,
   "metadata": {
    "scrolled": true
   },
   "outputs": [
    {
     "name": "stdout",
     "output_type": "stream",
     "text": [
      "Train on 2873 samples, validate on 320 samples\n",
      "Epoch 1/100\n",
      "2873/2873 [==============================] - 1s 177us/step - loss: 0.0044 - val_loss: 0.0210\n",
      "Epoch 2/100\n",
      "2873/2873 [==============================] - 1s 174us/step - loss: 0.0069 - val_loss: 0.0078\n",
      "Epoch 3/100\n",
      "2873/2873 [==============================] - 1s 180us/step - loss: 0.0043 - val_loss: 0.0081\n",
      "Epoch 4/100\n",
      "2873/2873 [==============================] - 0s 172us/step - loss: 0.0051 - val_loss: 0.0139\n",
      "Epoch 5/100\n",
      "2873/2873 [==============================] - 0s 174us/step - loss: 0.0059 - val_loss: 0.0084\n",
      "Epoch 6/100\n",
      "2873/2873 [==============================] - 0s 172us/step - loss: 0.0037 - val_loss: 0.0167\n",
      "Epoch 7/100\n",
      "2873/2873 [==============================] - 0s 168us/step - loss: 0.0067 - val_loss: 0.0063\n",
      "Epoch 8/100\n",
      "2873/2873 [==============================] - 1s 178us/step - loss: 0.0042 - val_loss: 0.0193\n",
      "Epoch 9/100\n",
      "2873/2873 [==============================] - 1s 187us/step - loss: 0.0055 - val_loss: 0.0063\n",
      "Epoch 10/100\n",
      "2873/2873 [==============================] - 1s 179us/step - loss: 0.0049 - val_loss: 0.0100\n",
      "Epoch 11/100\n",
      "2873/2873 [==============================] - 0s 174us/step - loss: 0.0051 - val_loss: 0.0114\n",
      "Epoch 12/100\n",
      "2873/2873 [==============================] - 1s 181us/step - loss: 0.0040 - val_loss: 0.0162\n",
      "Epoch 13/100\n",
      "2873/2873 [==============================] - 1s 178us/step - loss: 0.0069 - val_loss: 0.0132\n",
      "Epoch 14/100\n",
      "2873/2873 [==============================] - 1s 181us/step - loss: 0.0045 - val_loss: 0.0145\n",
      "Epoch 15/100\n",
      "2873/2873 [==============================] - 0s 173us/step - loss: 0.0050 - val_loss: 0.0078\n",
      "Epoch 16/100\n",
      "2873/2873 [==============================] - 0s 170us/step - loss: 0.0044 - val_loss: 0.0117\n",
      "Epoch 17/100\n",
      "2873/2873 [==============================] - 1s 183us/step - loss: 0.0063 - val_loss: 0.0145\n",
      "Epoch 18/100\n",
      "2873/2873 [==============================] - 1s 176us/step - loss: 0.0042 - val_loss: 0.0069\n",
      "Epoch 19/100\n",
      "2873/2873 [==============================] - 0s 171us/step - loss: 0.0047 - val_loss: 0.0146\n",
      "Epoch 20/100\n",
      "2873/2873 [==============================] - 0s 172us/step - loss: 0.0047 - val_loss: 0.0096\n",
      "Epoch 21/100\n",
      "2873/2873 [==============================] - 1s 201us/step - loss: 0.0055 - val_loss: 0.0217\n",
      "Epoch 22/100\n",
      "2873/2873 [==============================] - 0s 172us/step - loss: 0.0044 - val_loss: 0.0148\n",
      "Epoch 23/100\n",
      "2873/2873 [==============================] - 0s 171us/step - loss: 0.0051 - val_loss: 0.0090\n",
      "Epoch 24/100\n",
      "2873/2873 [==============================] - 0s 169us/step - loss: 0.0048 - val_loss: 0.0094\n",
      "Epoch 25/100\n",
      "2873/2873 [==============================] - 1s 176us/step - loss: 0.0049 - val_loss: 0.0047\n",
      "Epoch 26/100\n",
      "2873/2873 [==============================] - 1s 181us/step - loss: 0.0044 - val_loss: 0.0191\n",
      "Epoch 27/100\n",
      "2873/2873 [==============================] - 1s 189us/step - loss: 0.0057 - val_loss: 0.0067\n",
      "Epoch 28/100\n",
      "2873/2873 [==============================] - 1s 184us/step - loss: 0.0046 - val_loss: 0.0170\n",
      "Epoch 29/100\n",
      "2873/2873 [==============================] - 1s 184us/step - loss: 0.0050 - val_loss: 0.0077\n",
      "Epoch 30/100\n",
      "2873/2873 [==============================] - 0s 173us/step - loss: 0.0044 - val_loss: 0.0094\n",
      "Epoch 31/100\n",
      "2873/2873 [==============================] - 1s 178us/step - loss: 0.0048 - val_loss: 0.0162\n",
      "Epoch 32/100\n",
      "2873/2873 [==============================] - 0s 169us/step - loss: 0.0051 - val_loss: 0.0113\n",
      "Epoch 33/100\n",
      "2873/2873 [==============================] - 1s 178us/step - loss: 0.0042 - val_loss: 0.0151\n",
      "Epoch 34/100\n",
      "2873/2873 [==============================] - 1s 175us/step - loss: 0.0047 - val_loss: 0.0139\n",
      "Epoch 35/100\n",
      "2873/2873 [==============================] - 1s 192us/step - loss: 0.0046 - val_loss: 0.0082\n",
      "Epoch 36/100\n",
      "2873/2873 [==============================] - 0s 166us/step - loss: 0.0050 - val_loss: 0.0216\n",
      "Epoch 37/100\n",
      "2873/2873 [==============================] - 1s 175us/step - loss: 0.0048 - val_loss: 0.0194\n",
      "Epoch 38/100\n",
      "2873/2873 [==============================] - 0s 173us/step - loss: 0.0048 - val_loss: 0.0154\n",
      "Epoch 39/100\n",
      "2873/2873 [==============================] - 1s 184us/step - loss: 0.0047 - val_loss: 0.0083\n",
      "Epoch 40/100\n",
      "2873/2873 [==============================] - 0s 168us/step - loss: 0.0037 - val_loss: 0.0087\n",
      "Epoch 41/100\n",
      "2873/2873 [==============================] - 1s 175us/step - loss: 0.0058 - val_loss: 0.0140\n",
      "Epoch 42/100\n",
      "2873/2873 [==============================] - 0s 173us/step - loss: 0.0030 - val_loss: 0.0024\n",
      "Epoch 43/100\n",
      "2873/2873 [==============================] - 0s 174us/step - loss: 0.0058 - val_loss: 0.0222\n",
      "Epoch 44/100\n",
      "2873/2873 [==============================] - 1s 177us/step - loss: 0.0041 - val_loss: 0.0035\n",
      "Epoch 45/100\n",
      "2873/2873 [==============================] - 1s 177us/step - loss: 0.0038 - val_loss: 0.0145\n",
      "Epoch 46/100\n",
      "2873/2873 [==============================] - 0s 173us/step - loss: 0.0060 - val_loss: 0.0026\n",
      "Epoch 47/100\n",
      "2873/2873 [==============================] - 0s 174us/step - loss: 0.0033 - val_loss: 0.0125\n",
      "Epoch 48/100\n",
      "2873/2873 [==============================] - 1s 179us/step - loss: 0.0057 - val_loss: 0.0158\n",
      "Epoch 49/100\n",
      "2873/2873 [==============================] - 1s 181us/step - loss: 0.0047 - val_loss: 0.0080\n",
      "Epoch 50/100\n",
      "2873/2873 [==============================] - 0s 169us/step - loss: 0.0036 - val_loss: 0.0188\n",
      "Epoch 51/100\n",
      "2873/2873 [==============================] - 1s 180us/step - loss: 0.0055 - val_loss: 0.0039\n",
      "Epoch 52/100\n",
      "2873/2873 [==============================] - 0s 171us/step - loss: 0.0047 - val_loss: 0.0120\n",
      "Epoch 53/100\n",
      "2873/2873 [==============================] - 1s 181us/step - loss: 0.0032 - val_loss: 0.0050\n",
      "Epoch 54/100\n",
      "2873/2873 [==============================] - 0s 169us/step - loss: 0.0063 - val_loss: 0.0061\n",
      "Epoch 55/100\n",
      "2873/2873 [==============================] - 0s 173us/step - loss: 0.0029 - val_loss: 0.0026\n",
      "Epoch 56/100\n",
      "2873/2873 [==============================] - 0s 163us/step - loss: 0.0035 - val_loss: 0.0071\n",
      "Epoch 57/100\n",
      "2873/2873 [==============================] - 1s 186us/step - loss: 0.0058 - val_loss: 0.0025\n",
      "Epoch 58/100\n",
      "2873/2873 [==============================] - 0s 166us/step - loss: 0.0037 - val_loss: 0.0029\n",
      "Epoch 59/100\n",
      "2873/2873 [==============================] - 0s 169us/step - loss: 0.0044 - val_loss: 0.0054\n",
      "Epoch 60/100\n",
      "2873/2873 [==============================] - 0s 167us/step - loss: 0.0050 - val_loss: 0.0030\n",
      "Epoch 61/100\n",
      "2873/2873 [==============================] - 0s 172us/step - loss: 0.0038 - val_loss: 0.0023\n",
      "Epoch 62/100\n",
      "2873/2873 [==============================] - 1s 177us/step - loss: 0.0054 - val_loss: 0.0045\n",
      "Epoch 63/100\n",
      "2873/2873 [==============================] - 1s 175us/step - loss: 0.0036 - val_loss: 0.0035\n",
      "Epoch 64/100\n",
      "2873/2873 [==============================] - 0s 167us/step - loss: 0.0049 - val_loss: 0.0023\n",
      "Epoch 65/100\n",
      "2873/2873 [==============================] - 1s 179us/step - loss: 0.0038 - val_loss: 0.0037\n",
      "Epoch 66/100\n",
      "2873/2873 [==============================] - 0s 170us/step - loss: 0.0054 - val_loss: 0.0039\n",
      "Epoch 67/100\n",
      "2873/2873 [==============================] - 0s 167us/step - loss: 0.0034 - val_loss: 0.0036\n",
      "Epoch 68/100\n",
      "2873/2873 [==============================] - 0s 170us/step - loss: 0.0049 - val_loss: 0.0034\n",
      "Epoch 69/100\n",
      "2873/2873 [==============================] - 1s 183us/step - loss: 0.0035 - val_loss: 0.0046\n",
      "Epoch 70/100\n",
      "2873/2873 [==============================] - 1s 175us/step - loss: 0.0055 - val_loss: 0.0024\n",
      "Epoch 71/100\n",
      "2873/2873 [==============================] - 0s 174us/step - loss: 0.0038 - val_loss: 0.0080\n",
      "Epoch 72/100\n",
      "2873/2873 [==============================] - 0s 170us/step - loss: 0.0048 - val_loss: 0.0036\n",
      "Epoch 73/100\n",
      "2873/2873 [==============================] - 1s 182us/step - loss: 0.0044 - val_loss: 0.0023\n",
      "Epoch 74/100\n",
      "2873/2873 [==============================] - 1s 177us/step - loss: 0.0047 - val_loss: 0.0023\n",
      "Epoch 75/100\n",
      "2873/2873 [==============================] - 1s 186us/step - loss: 0.0036 - val_loss: 0.0024\n",
      "Epoch 76/100\n",
      "2873/2873 [==============================] - 0s 166us/step - loss: 0.0055 - val_loss: 0.0028\n",
      "Epoch 77/100\n",
      "2873/2873 [==============================] - 1s 178us/step - loss: 0.0033 - val_loss: 0.0049\n"
     ]
    },
    {
     "name": "stdout",
     "output_type": "stream",
     "text": [
      "Epoch 78/100\n",
      "2873/2873 [==============================] - 1s 176us/step - loss: 0.0052 - val_loss: 0.0039\n",
      "Epoch 79/100\n",
      "2873/2873 [==============================] - 0s 166us/step - loss: 0.0035 - val_loss: 0.0023\n",
      "Epoch 80/100\n",
      "2873/2873 [==============================] - 1s 181us/step - loss: 0.0045 - val_loss: 0.0026\n",
      "Epoch 81/100\n",
      "2873/2873 [==============================] - 1s 198us/step - loss: 0.0046 - val_loss: 0.0022\n",
      "Epoch 82/100\n",
      "2873/2873 [==============================] - 1s 206us/step - loss: 0.0028 - val_loss: 0.0039\n",
      "Epoch 83/100\n",
      "2873/2873 [==============================] - 1s 186us/step - loss: 0.0062 - val_loss: 0.0031\n",
      "Epoch 84/100\n",
      "2873/2873 [==============================] - 1s 187us/step - loss: 0.0029 - val_loss: 0.0036\n",
      "Epoch 85/100\n",
      "2873/2873 [==============================] - 1s 187us/step - loss: 0.0043 - val_loss: 0.0117\n",
      "Epoch 86/100\n",
      "2873/2873 [==============================] - 0s 171us/step - loss: 0.0036 - val_loss: 0.0098\n",
      "Epoch 87/100\n",
      "2873/2873 [==============================] - 1s 180us/step - loss: 0.0050 - val_loss: 0.0087\n",
      "Epoch 88/100\n",
      "2873/2873 [==============================] - 0s 171us/step - loss: 0.0041 - val_loss: 0.0165\n",
      "Epoch 89/100\n",
      "2873/2873 [==============================] - 1s 189us/step - loss: 0.0037 - val_loss: 0.0120\n",
      "Epoch 90/100\n",
      "2873/2873 [==============================] - 0s 173us/step - loss: 0.0051 - val_loss: 0.0092\n",
      "Epoch 91/100\n",
      "2873/2873 [==============================] - 1s 177us/step - loss: 0.0034 - val_loss: 0.0038\n",
      "Epoch 92/100\n",
      "2873/2873 [==============================] - 1s 176us/step - loss: 0.0029 - val_loss: 0.0030\n",
      "Epoch 93/100\n",
      "2873/2873 [==============================] - 1s 181us/step - loss: 0.0065 - val_loss: 0.0021\n",
      "Epoch 94/100\n",
      "2873/2873 [==============================] - 1s 179us/step - loss: 0.0027 - val_loss: 0.0065\n",
      "Epoch 95/100\n",
      "2873/2873 [==============================] - 1s 174us/step - loss: 0.0031 - val_loss: 0.0151\n",
      "Epoch 96/100\n",
      "2873/2873 [==============================] - 1s 175us/step - loss: 0.0060 - val_loss: 0.0022\n",
      "Epoch 97/100\n",
      "2873/2873 [==============================] - 1s 184us/step - loss: 0.0027 - val_loss: 0.0022\n",
      "Epoch 98/100\n",
      "2873/2873 [==============================] - 1s 185us/step - loss: 0.0057 - val_loss: 0.0028\n",
      "Epoch 99/100\n",
      "2873/2873 [==============================] - 1s 193us/step - loss: 0.0032 - val_loss: 0.0021\n",
      "Epoch 100/100\n",
      "2873/2873 [==============================] - 0s 173us/step - loss: 0.0044 - val_loss: 0.0044\n"
     ]
    },
    {
     "data": {
      "text/plain": [
       "<keras.callbacks.History at 0x220892caa20>"
      ]
     },
     "execution_count": 22,
     "metadata": {},
     "output_type": "execute_result"
    }
   ],
   "source": [
    "model.fit(\n",
    "    X_train,\n",
    "    y_train,\n",
    "    batch_size=512,\n",
    "    epochs=100,\n",
    "    validation_split=0.1,\n",
    "    verbose=1)"
   ]
  },
  {
   "cell_type": "code",
   "execution_count": 23,
   "metadata": {},
   "outputs": [
    {
     "name": "stdout",
     "output_type": "stream",
     "text": [
      "0.00288910607937\n"
     ]
    }
   ],
   "source": [
    "trainScore = model.evaluate(X_train, y_train, verbose=0)\n",
    "print(trainScore)"
   ]
  },
  {
   "cell_type": "markdown",
   "metadata": {},
   "source": [
    "## Predictions"
   ]
  },
  {
   "cell_type": "code",
   "execution_count": 24,
   "metadata": {
    "collapsed": true
   },
   "outputs": [],
   "source": [
    "p = model.predict(X_test)"
   ]
  },
  {
   "cell_type": "markdown",
   "metadata": {},
   "source": [
    "## Visualizations"
   ]
  },
  {
   "cell_type": "code",
   "execution_count": 25,
   "metadata": {},
   "outputs": [
    {
     "data": {
      "image/png": "[encoded data removed]",
      "text/plain": [
       "<matplotlib.figure.Figure at 0x220892bcb00>"
      ]
     },
     "metadata": {},
     "output_type": "display_data"
    }
   ],
   "source": [
    "import matplotlib.pyplot as plt2\n",
    "plt2.figure(figsize = (18,9))\n",
    "plt2.plot(p,color='red', label='prediction')\n",
    "plt2.plot(y_test,color='blue', label='y_test')\n",
    "plt2.legend(loc='upper left')\n",
    "plt2.show()"
   ]
  }
 ],
 "metadata": {
  "kernelspec": {
   "display_name": "Python 3",
   "language": "python",
   "name": "python3"
  },
  "language_info": {
   "codemirror_mode": {
    "name": "ipython",
    "version": 3
   },
   "file_extension": ".py",
   "mimetype": "text/x-python",
   "name": "python",
   "nbconvert_exporter": "python",
   "pygments_lexer": "ipython3",
   "version": "3.5.4"
  }
 },
 "nbformat": 4,
 "nbformat_minor": 2
}
