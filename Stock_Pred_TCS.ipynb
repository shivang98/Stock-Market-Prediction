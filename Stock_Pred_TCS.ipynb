{
 "cells": [
  {
   "cell_type": "markdown",
   "metadata": {},
   "source": [
    "## Importing Libraries"
   ]
  },
  {
   "cell_type": "code",
   "execution_count": 1,
   "metadata": {},
   "outputs": [
    {
     "name": "stderr",
     "output_type": "stream",
     "text": [
      "Using TensorFlow backend.\n"
     ]
    }
   ],
   "source": [
    "import numpy as np\n",
    "import pandas as pd\n",
    "from keras.layers.core import Dense, Activation, Dropout\n",
    "from keras.layers.recurrent import LSTM\n",
    "from keras.models import Sequential\n",
    "import matplotlib.pyplot as plt\n",
    "import time\n",
    "import datetime as dt\n",
    "import urllib.request, json\n",
    "import os\n",
    "from pandas_datareader import data\n",
    "import tweepy\n",
    "from textblob import TextBlob\n",
    "import re"
   ]
  },
  {
   "cell_type": "markdown",
   "metadata": {},
   "source": [
    "## Getting data using Alpha Vantage API"
   ]
  },
  {
   "cell_type": "code",
   "execution_count": 2,
   "metadata": {},
   "outputs": [
    {
     "name": "stdout",
     "output_type": "stream",
     "text": [
      "File already exists. Loading data from CSV\n"
     ]
    }
   ],
   "source": [
    "data_source = 'alphavantage'\n",
    "\n",
    "if data_source == 'alphavantage':\n",
    "    # ====================== Loading Data from Alpha Vantage ==================================\n",
    "\n",
    "    api_key = '7TONQ8CM5PXZ4YEO'\n",
    "\n",
    "    # TCS stock market prices\n",
    "    ticker = \"TCS\"\n",
    "\n",
    "    # JSON file with all the stock market data for TCS\n",
    "    url_string = \"https://www.alphavantage.co/query?function=TIME_SERIES_DAILY&symbol=%s&outputsize=full&apikey=%s\"%(ticker,api_key)\n",
    "\n",
    "    # Save data to this file\n",
    "    file_to_save = 'stock_market_data-%s.csv'%ticker\n",
    "\n",
    "    # If you haven't already saved data,\n",
    "    # Go ahead and grab the data from the url\n",
    "    # And store date, low, high, volume, close, open values to a Pandas DataFrame\n",
    "    if not os.path.exists(file_to_save):\n",
    "        with urllib.request.urlopen(url_string) as url:\n",
    "            data = json.loads(url.read().decode())\n",
    "            # extract stock market data\n",
    "            data = data['Time Series (Daily)']\n",
    "            df = pd.DataFrame(columns=['Date','Low','High','Close','Open'])\n",
    "            for k,v in data.items():\n",
    "                date = dt.datetime.strptime(k, '%Y-%m-%d')\n",
    "                data_row = [date.date(),float(v['3. low']),float(v['2. high']),\n",
    "                            float(v['4. close']),float(v['1. open'])]\n",
    "                df.loc[-1,:] = data_row\n",
    "                df.index = df.index + 1\n",
    "        print('Data saved to : %s'%file_to_save)        \n",
    "        df.to_csv(file_to_save)\n",
    "\n",
    "    # If the data is already there, just load it from the CSV\n",
    "    else:\n",
    "        print('File already exists. Loading data from CSV')\n",
    "        df = pd.read_csv(file_to_save)"
   ]
  },
  {
   "cell_type": "code",
   "execution_count": 3,
   "metadata": {
    "collapsed": true
   },
   "outputs": [],
   "source": [
    "df = pd.read_csv(\"stock_market_data-TCS.csv\")"
   ]
  },
  {
   "cell_type": "code",
   "execution_count": 4,
   "metadata": {
    "collapsed": true
   },
   "outputs": [],
   "source": [
    "df = df[['Date', 'Open', 'Close', 'Low', 'High']]"
   ]
  },
  {
   "cell_type": "code",
   "execution_count": 5,
   "metadata": {
    "collapsed": true
   },
   "outputs": [],
   "source": [
    "df = df.sort_values('Date')"
   ]
  },
  {
   "cell_type": "code",
   "execution_count": 6,
   "metadata": {},
   "outputs": [
    {
     "data": {
      "text/html": [
       "<div>\n",
       "<style>\n",
       "    .dataframe thead tr:only-child th {\n",
       "        text-align: right;\n",
       "    }\n",
       "\n",
       "    .dataframe thead th {\n",
       "        text-align: left;\n",
       "    }\n",
       "\n",
       "    .dataframe tbody tr th {\n",
       "        vertical-align: top;\n",
       "    }\n",
       "</style>\n",
       "<table border=\"1\" class=\"dataframe\">\n",
       "  <thead>\n",
       "    <tr style=\"text-align: right;\">\n",
       "      <th></th>\n",
       "      <th>Date</th>\n",
       "      <th>Open</th>\n",
       "      <th>Close</th>\n",
       "      <th>Low</th>\n",
       "      <th>High</th>\n",
       "    </tr>\n",
       "  </thead>\n",
       "  <tbody>\n",
       "    <tr>\n",
       "      <th>26</th>\n",
       "      <td>2013-11-01</td>\n",
       "      <td>35.00</td>\n",
       "      <td>36.20</td>\n",
       "      <td>32.100</td>\n",
       "      <td>37.00</td>\n",
       "    </tr>\n",
       "    <tr>\n",
       "      <th>352</th>\n",
       "      <td>2013-11-04</td>\n",
       "      <td>36.80</td>\n",
       "      <td>35.35</td>\n",
       "      <td>34.690</td>\n",
       "      <td>36.80</td>\n",
       "    </tr>\n",
       "    <tr>\n",
       "      <th>354</th>\n",
       "      <td>2013-11-05</td>\n",
       "      <td>35.11</td>\n",
       "      <td>35.35</td>\n",
       "      <td>34.821</td>\n",
       "      <td>35.50</td>\n",
       "    </tr>\n",
       "    <tr>\n",
       "      <th>735</th>\n",
       "      <td>2013-11-06</td>\n",
       "      <td>35.61</td>\n",
       "      <td>35.90</td>\n",
       "      <td>35.610</td>\n",
       "      <td>36.49</td>\n",
       "    </tr>\n",
       "    <tr>\n",
       "      <th>870</th>\n",
       "      <td>2013-11-07</td>\n",
       "      <td>36.80</td>\n",
       "      <td>35.31</td>\n",
       "      <td>34.120</td>\n",
       "      <td>36.80</td>\n",
       "    </tr>\n",
       "  </tbody>\n",
       "</table>\n",
       "</div>"
      ],
      "text/plain": [
       "           Date   Open  Close     Low   High\n",
       "26   2013-11-01  35.00  36.20  32.100  37.00\n",
       "352  2013-11-04  36.80  35.35  34.690  36.80\n",
       "354  2013-11-05  35.11  35.35  34.821  35.50\n",
       "735  2013-11-06  35.61  35.90  35.610  36.49\n",
       "870  2013-11-07  36.80  35.31  34.120  36.80"
      ]
     },
     "execution_count": 6,
     "metadata": {},
     "output_type": "execute_result"
    }
   ],
   "source": [
    "df.head()"
   ]
  },
  {
   "cell_type": "code",
   "execution_count": 7,
   "metadata": {},
   "outputs": [
    {
     "data": {
      "text/html": [
       "<div>\n",
       "<style>\n",
       "    .dataframe thead tr:only-child th {\n",
       "        text-align: right;\n",
       "    }\n",
       "\n",
       "    .dataframe thead th {\n",
       "        text-align: left;\n",
       "    }\n",
       "\n",
       "    .dataframe tbody tr th {\n",
       "        vertical-align: top;\n",
       "    }\n",
       "</style>\n",
       "<table border=\"1\" class=\"dataframe\">\n",
       "  <thead>\n",
       "    <tr style=\"text-align: right;\">\n",
       "      <th></th>\n",
       "      <th>Date</th>\n",
       "      <th>Open</th>\n",
       "      <th>Close</th>\n",
       "      <th>Low</th>\n",
       "      <th>High</th>\n",
       "    </tr>\n",
       "  </thead>\n",
       "  <tbody>\n",
       "    <tr>\n",
       "      <th>276</th>\n",
       "      <td>2018-09-27</td>\n",
       "      <td>10.82</td>\n",
       "      <td>10.93</td>\n",
       "      <td>10.7310</td>\n",
       "      <td>10.97</td>\n",
       "    </tr>\n",
       "    <tr>\n",
       "      <th>320</th>\n",
       "      <td>2018-09-28</td>\n",
       "      <td>10.89</td>\n",
       "      <td>11.10</td>\n",
       "      <td>10.8400</td>\n",
       "      <td>11.21</td>\n",
       "    </tr>\n",
       "    <tr>\n",
       "      <th>1109</th>\n",
       "      <td>2018-10-01</td>\n",
       "      <td>11.10</td>\n",
       "      <td>10.44</td>\n",
       "      <td>10.3500</td>\n",
       "      <td>11.13</td>\n",
       "    </tr>\n",
       "    <tr>\n",
       "      <th>700</th>\n",
       "      <td>2018-10-02</td>\n",
       "      <td>10.41</td>\n",
       "      <td>10.26</td>\n",
       "      <td>10.1301</td>\n",
       "      <td>10.46</td>\n",
       "    </tr>\n",
       "    <tr>\n",
       "      <th>236</th>\n",
       "      <td>2018-10-03</td>\n",
       "      <td>10.29</td>\n",
       "      <td>10.37</td>\n",
       "      <td>10.1700</td>\n",
       "      <td>10.41</td>\n",
       "    </tr>\n",
       "  </tbody>\n",
       "</table>\n",
       "</div>"
      ],
      "text/plain": [
       "            Date   Open  Close      Low   High\n",
       "276   2018-09-27  10.82  10.93  10.7310  10.97\n",
       "320   2018-09-28  10.89  11.10  10.8400  11.21\n",
       "1109  2018-10-01  11.10  10.44  10.3500  11.13\n",
       "700   2018-10-02  10.41  10.26  10.1301  10.46\n",
       "236   2018-10-03  10.29  10.37  10.1700  10.41"
      ]
     },
     "execution_count": 7,
     "metadata": {},
     "output_type": "execute_result"
    }
   ],
   "source": [
    "df.tail()"
   ]
  },
  {
   "cell_type": "code",
   "execution_count": 8,
   "metadata": {},
   "outputs": [
    {
     "data": {
      "image/png": "[encoded data removed]",
      "text/plain": [
       "<matplotlib.figure.Figure at 0x2267cc6ac50>"
      ]
     },
     "metadata": {},
     "output_type": "display_data"
    }
   ],
   "source": [
    "plt.figure(figsize = (18,9))\n",
    "plt.plot(range(df.shape[0]),(df['Low']+df['High'])/2.0)\n",
    "plt.xticks(range(0,df.shape[0],100),df['Date'].loc[::100],rotation=45)\n",
    "plt.xlabel('Date',fontsize=18)\n",
    "plt.ylabel('Mid Price',fontsize=18)\n",
    "plt.show()"
   ]
  },
  {
   "cell_type": "code",
   "execution_count": 9,
   "metadata": {
    "collapsed": true
   },
   "outputs": [],
   "source": [
    "high_prices = df.loc[:,'High']\n",
    "low_prices = df.loc[:,'Low']\n",
    "df[\"Mid Prices\"] = (high_prices+low_prices)/2.0"
   ]
  },
  {
   "cell_type": "code",
   "execution_count": 10,
   "metadata": {
    "scrolled": true
   },
   "outputs": [
    {
     "data": {
      "text/html": [
       "<div>\n",
       "<style>\n",
       "    .dataframe thead tr:only-child th {\n",
       "        text-align: right;\n",
       "    }\n",
       "\n",
       "    .dataframe thead th {\n",
       "        text-align: left;\n",
       "    }\n",
       "\n",
       "    .dataframe tbody tr th {\n",
       "        vertical-align: top;\n",
       "    }\n",
       "</style>\n",
       "<table border=\"1\" class=\"dataframe\">\n",
       "  <thead>\n",
       "    <tr style=\"text-align: right;\">\n",
       "      <th></th>\n",
       "      <th>Date</th>\n",
       "      <th>Open</th>\n",
       "      <th>Close</th>\n",
       "      <th>Low</th>\n",
       "      <th>High</th>\n",
       "      <th>Mid Prices</th>\n",
       "    </tr>\n",
       "  </thead>\n",
       "  <tbody>\n",
       "    <tr>\n",
       "      <th>26</th>\n",
       "      <td>2013-11-01</td>\n",
       "      <td>35.00</td>\n",
       "      <td>36.20</td>\n",
       "      <td>32.100</td>\n",
       "      <td>37.00</td>\n",
       "      <td>34.5500</td>\n",
       "    </tr>\n",
       "    <tr>\n",
       "      <th>352</th>\n",
       "      <td>2013-11-04</td>\n",
       "      <td>36.80</td>\n",
       "      <td>35.35</td>\n",
       "      <td>34.690</td>\n",
       "      <td>36.80</td>\n",
       "      <td>35.7450</td>\n",
       "    </tr>\n",
       "    <tr>\n",
       "      <th>354</th>\n",
       "      <td>2013-11-05</td>\n",
       "      <td>35.11</td>\n",
       "      <td>35.35</td>\n",
       "      <td>34.821</td>\n",
       "      <td>35.50</td>\n",
       "      <td>35.1605</td>\n",
       "    </tr>\n",
       "    <tr>\n",
       "      <th>735</th>\n",
       "      <td>2013-11-06</td>\n",
       "      <td>35.61</td>\n",
       "      <td>35.90</td>\n",
       "      <td>35.610</td>\n",
       "      <td>36.49</td>\n",
       "      <td>36.0500</td>\n",
       "    </tr>\n",
       "    <tr>\n",
       "      <th>870</th>\n",
       "      <td>2013-11-07</td>\n",
       "      <td>36.80</td>\n",
       "      <td>35.31</td>\n",
       "      <td>34.120</td>\n",
       "      <td>36.80</td>\n",
       "      <td>35.4600</td>\n",
       "    </tr>\n",
       "  </tbody>\n",
       "</table>\n",
       "</div>"
      ],
      "text/plain": [
       "           Date   Open  Close     Low   High  Mid Prices\n",
       "26   2013-11-01  35.00  36.20  32.100  37.00     34.5500\n",
       "352  2013-11-04  36.80  35.35  34.690  36.80     35.7450\n",
       "354  2013-11-05  35.11  35.35  34.821  35.50     35.1605\n",
       "735  2013-11-06  35.61  35.90  35.610  36.49     36.0500\n",
       "870  2013-11-07  36.80  35.31  34.120  36.80     35.4600"
      ]
     },
     "execution_count": 10,
     "metadata": {},
     "output_type": "execute_result"
    }
   ],
   "source": [
    "df.head()"
   ]
  },
  {
   "cell_type": "markdown",
   "metadata": {},
   "source": [
    "## Data Cleaning"
   ]
  },
  {
   "cell_type": "code",
   "execution_count": 11,
   "metadata": {
    "collapsed": true
   },
   "outputs": [],
   "source": [
    "df.drop(\"Date\", axis = 1,inplace = True)"
   ]
  },
  {
   "cell_type": "code",
   "execution_count": 12,
   "metadata": {
    "collapsed": true
   },
   "outputs": [],
   "source": [
    "from sklearn.preprocessing import StandardScaler"
   ]
  },
  {
   "cell_type": "code",
   "execution_count": 13,
   "metadata": {},
   "outputs": [
    {
     "data": {
      "text/plain": [
       "StandardScaler(copy=True, with_mean=True, with_std=True)"
      ]
     },
     "execution_count": 13,
     "metadata": {},
     "output_type": "execute_result"
    }
   ],
   "source": [
    "scaler = StandardScaler()\n",
    "scaler.fit(df)"
   ]
  },
  {
   "cell_type": "code",
   "execution_count": 14,
   "metadata": {
    "collapsed": true
   },
   "outputs": [],
   "source": [
    "df = scaler.transform(df)"
   ]
  },
  {
   "cell_type": "markdown",
   "metadata": {},
   "source": [
    "## Building Long-Short Term Memory Cell to implement Recurrent Neural Network"
   ]
  },
  {
   "cell_type": "markdown",
   "metadata": {},
   "source": [
    "![title](img/RNN.png)"
   ]
  },
  {
   "cell_type": "markdown",
   "metadata": {},
   "source": [
    "![title](img/LSTM.png)"
   ]
  },
  {
   "cell_type": "code",
   "execution_count": 15,
   "metadata": {
    "collapsed": true
   },
   "outputs": [],
   "source": [
    "def build_model(layers):\n",
    "    model = Sequential()\n",
    "\n",
    "    model.add(LSTM(\n",
    "        input_shape=(None, layers[0]),\n",
    "        units=50,\n",
    "        return_sequences=True))\n",
    "    model.add(Dropout(0.2))\n",
    "\n",
    "    model.add(LSTM(\n",
    "        100,\n",
    "        return_sequences=False))\n",
    "    model.add(Dropout(0.2))\n",
    "\n",
    "    model.add(Dense(\n",
    "        units=1))\n",
    "    model.add(Activation('linear'))\n",
    "\n",
    "    start = time.time()\n",
    "    model.compile(loss='mse', optimizer='rmsprop')\n",
    "    print ('compilation time : ', time.time() - start)\n",
    "    return model"
   ]
  },
  {
   "cell_type": "markdown",
   "metadata": {},
   "source": [
    "## Load data as per model requirements"
   ]
  },
  {
   "cell_type": "code",
   "execution_count": 16,
   "metadata": {
    "collapsed": true
   },
   "outputs": [],
   "source": [
    "def load_data(stock, seq_len):\n",
    "    amount_of_features = 5\n",
    "    data = stock\n",
    "    sequence_length = seq_len + 1\n",
    "    result = []\n",
    "    for index in range(len(data) - sequence_length):\n",
    "        result.append(data[index: index + sequence_length])\n",
    "    \n",
    "    result =  np.array(result)\n",
    "    row = round(0.9 * result.shape[0])\n",
    "    train = result[:int(row), :]\n",
    "    x_train = train[:, :-1]\n",
    "    y_train = train[:, -1][:,-1]\n",
    "    x_test = result[int(row):, :-1]\n",
    "    y_test = result[int(row):, -1][:,-1]\n",
    "\n",
    "    x_train = np.reshape(x_train, (x_train.shape[0], x_train.shape[1], amount_of_features))\n",
    "    x_test = np.reshape(x_test, (x_test.shape[0], x_test.shape[1], amount_of_features))  \n",
    "\n",
    "    return [x_train, y_train, x_test, y_test]"
   ]
  },
  {
   "cell_type": "code",
   "execution_count": 17,
   "metadata": {},
   "outputs": [
    {
     "name": "stdout",
     "output_type": "stream",
     "text": [
      "X_train (1110, 5, 5)\n",
      "y_train (1110,)\n",
      "X_test (123, 5, 5)\n",
      "y_test (123,)\n"
     ]
    }
   ],
   "source": [
    "window = 5\n",
    "X_train, y_train, X_test, y_test = load_data(df, window)\n",
    "print(\"X_train\", X_train.shape)\n",
    "print(\"y_train\", y_train.shape)\n",
    "print(\"X_test\", X_test.shape)\n",
    "print(\"y_test\", y_test.shape)"
   ]
  },
  {
   "cell_type": "code",
   "execution_count": 18,
   "metadata": {},
   "outputs": [
    {
     "name": "stdout",
     "output_type": "stream",
     "text": [
      "compilation time :  0.058284759521484375\n"
     ]
    }
   ],
   "source": [
    "model = build_model([5,window,1])"
   ]
  },
  {
   "cell_type": "markdown",
   "metadata": {},
   "source": [
    "## Training Time!"
   ]
  },
  {
   "cell_type": "code",
   "execution_count": 19,
   "metadata": {
    "scrolled": true
   },
   "outputs": [
    {
     "name": "stdout",
     "output_type": "stream",
     "text": [
      "Train on 999 samples, validate on 111 samples\n",
      "Epoch 1/10\n",
      "999/999 [==============================] - 3s 3ms/step - loss: 0.9814 - val_loss: 0.3039\n",
      "Epoch 2/10\n",
      "999/999 [==============================] - 0s 301us/step - loss: 0.3987 - val_loss: 0.1300\n",
      "Epoch 3/10\n",
      "999/999 [==============================] - 0s 301us/step - loss: 0.1136 - val_loss: 0.0414\n",
      "Epoch 4/10\n",
      "999/999 [==============================] - 0s 262us/step - loss: 0.0424 - val_loss: 0.0141\n",
      "Epoch 5/10\n",
      "999/999 [==============================] - 0s 277us/step - loss: 0.0296 - val_loss: 0.0046\n",
      "Epoch 6/10\n",
      "999/999 [==============================] - 0s 298us/step - loss: 0.0248 - val_loss: 0.0021\n",
      "Epoch 7/10\n",
      "999/999 [==============================] - 0s 301us/step - loss: 0.0252 - val_loss: 0.0016\n",
      "Epoch 8/10\n",
      "999/999 [==============================] - 0s 288us/step - loss: 0.0237 - val_loss: 0.0013\n",
      "Epoch 9/10\n",
      "999/999 [==============================] - 0s 323us/step - loss: 0.0235 - val_loss: 0.0012\n",
      "Epoch 10/10\n",
      "999/999 [==============================] - 0s 317us/step - loss: 0.0230 - val_loss: 0.0012\n"
     ]
    },
    {
     "data": {
      "text/plain": [
       "<keras.callbacks.History at 0x2267d789be0>"
      ]
     },
     "execution_count": 19,
     "metadata": {},
     "output_type": "execute_result"
    }
   ],
   "source": [
    "model.fit(\n",
    "    X_train,\n",
    "    y_train,\n",
    "    batch_size=512,\n",
    "    epochs=10,\n",
    "    validation_split=0.1,\n",
    "    verbose=1)"
   ]
  },
  {
   "cell_type": "code",
   "execution_count": 20,
   "metadata": {},
   "outputs": [
    {
     "name": "stdout",
     "output_type": "stream",
     "text": [
      "0.0137708164167\n"
     ]
    }
   ],
   "source": [
    "trainScore = model.evaluate(X_train, y_train, verbose=0)\n",
    "print(trainScore)"
   ]
  },
  {
   "cell_type": "markdown",
   "metadata": {},
   "source": [
    "## Predictions"
   ]
  },
  {
   "cell_type": "code",
   "execution_count": 21,
   "metadata": {
    "collapsed": true
   },
   "outputs": [],
   "source": [
    "p = model.predict(X_test)"
   ]
  },
  {
   "cell_type": "markdown",
   "metadata": {},
   "source": [
    "## Visualizations"
   ]
  },
  {
   "cell_type": "code",
   "execution_count": 22,
   "metadata": {},
   "outputs": [
    {
     "data": {
      "image/png": "[encoded data removed]",
      "text/plain": [
       "<matplotlib.figure.Figure at 0x22601eeb518>"
      ]
     },
     "metadata": {},
     "output_type": "display_data"
    }
   ],
   "source": [
    "import matplotlib.pyplot as plt2\n",
    "plt2.figure(figsize = (18,9))\n",
    "plt2.plot(p,color='red', label='prediction')\n",
    "plt2.plot(y_test,color='blue', label='y_test')\n",
    "plt2.legend(loc='upper left')\n",
    "plt2.show()"
   ]
  },
  {
   "cell_type": "markdown",
   "metadata": {},
   "source": [
    "## Sentiment Analysis"
   ]
  },
  {
   "cell_type": "code",
   "execution_count": 23,
   "metadata": {
    "collapsed": true
   },
   "outputs": [],
   "source": [
    "consumer_key= 'E0pFYVai9VaOhqLiRBEC6gpGF'\n",
    "consumer_secret= 'XAMh4l9XL5nwFK3MN5tAjtXA2YgDN1tw5f7L2n6dz5ib8VYlbm'\n",
    "\n",
    "access_token='3261604734-86c7DOJP98GwNeFWzvgPQKFUTyHn1ZFwlloJP3v'\n",
    "access_token_secret='eXEmlEAdxaFjueVP03jsAWeOeNMkI7ToiDQkyvLDa6eX7'"
   ]
  },
  {
   "cell_type": "code",
   "execution_count": 24,
   "metadata": {
    "collapsed": true
   },
   "outputs": [],
   "source": [
    "auth = tweepy.OAuthHandler(consumer_key, consumer_secret)\n",
    "auth.set_access_token(access_token, access_token_secret)\n",
    "\n",
    "api = tweepy.API(auth)"
   ]
  },
  {
   "cell_type": "code",
   "execution_count": 25,
   "metadata": {
    "collapsed": true
   },
   "outputs": [],
   "source": [
    "public_tweets = api.search('TCS', count = 1000)"
   ]
  },
  {
   "cell_type": "code",
   "execution_count": 26,
   "metadata": {
    "collapsed": true
   },
   "outputs": [],
   "source": [
    "def clean_tweet(tweet):\n",
    "    return ' '.join(re.sub(\"(@[A-Za-z0-9]+)|([^0-9A-Za-z \\t])|(\\w+:\\/\\/\\S+)\", \" \", tweet).split())"
   ]
  },
  {
   "cell_type": "code",
   "execution_count": 27,
   "metadata": {
    "collapsed": true
   },
   "outputs": [],
   "source": [
    "def get_tweet_sentiment(tweet):\n",
    "    analysis = TextBlob(clean_tweet(tweet))\n",
    "    if analysis.sentiment.polarity > 0:\n",
    "        return 'positive'\n",
    "    elif analysis.sentiment.polarity == 0:\n",
    "        return 'neutral'\n",
    "    else:\n",
    "        return 'negative'"
   ]
  },
  {
   "cell_type": "code",
   "execution_count": 28,
   "metadata": {},
   "outputs": [
    {
     "name": "stdout",
     "output_type": "stream",
     "text": [
      "100\n",
      "RT is in full swing Be sure to visit stand 115 to say hello to Keith Sonia and Karina from our King s Hill\n",
      "positive\n",
      "\n",
      "TCS Coaches leading our baseline data meeting at Paine painelearns painepride tcslearns\n",
      "neutral\n",
      "\n",
      "tcs Por favor ayudemos a expandir sta noticia ella est entre la vida y la muerte porque su m dula se\n",
      "neutral\n",
      "\n",
      "RT It s WorldAnimalDay Just RT and FOLLOW for the chance to win an animal themed prize bundle We ve got 3 to giveaway\n",
      "positive\n",
      "\n",
      "Our TCSDigitalExplorers are busy grilling panellists from UKI\n",
      "positive\n",
      "\n",
      "RT Webinar on Online Filing of Form GSTR 8 on GST Portal by Tax Collectors TCS in Hindi Language will be live today at 4 PM\n",
      "positive\n",
      "\n",
      "RT It s WorldAnimalDay Just RT and FOLLOW for the chance to win an animal themed prize bundle We ve got 3 to giveaway\n",
      "positive\n",
      "\n",
      "RT Bukhari1 60 TCS 200\n",
      "neutral\n",
      "\n",
      "RT It s WorldAnimalDay Just RT and FOLLOW for the chance to win an animal themed prize bundle We ve got 3 to giveaway\n",
      "positive\n",
      "\n",
      "RT The webinar on Online Filing of Form GSTR 8 on GST Portal by Tax Collectors TCS in Hindi language can now be viewed live\n",
      "positive\n",
      "\n",
      "RT WOoOoOoOooOoooO Things are getting spooky in Sylvanian Village Treat yourself to a Baby Trick or Treat Set this Hallo\n",
      "neutral\n",
      "\n",
      "RT TCS Visiting Stellia Maroc Thxs for welcoming and touring your facility Impressive infrastructure and excelle\n",
      "positive\n",
      "\n",
      "0504\n",
      "neutral\n",
      "\n",
      "4BA889EE ID Lv100\n",
      "neutral\n",
      "\n",
      "RT To honour the launch of the new KrispyKremeSmores we are giving away a gift box full of LotusBiscoff and\n",
      "positive\n",
      "\n",
      "RT Nifty Impact OMC s 67pts RIL 120pts ONGC 26pts GAIL 7pts TCS 89pts\n",
      "neutral\n",
      "\n",
      "RT I celebrated this goal more than TCs at Wembley best night of my life ffc\n",
      "positive\n",
      "\n",
      "RT To honour the launch of the new KrispyKremeSmores we are giving away a gift box full of LotusBiscoff and\n",
      "positive\n",
      "\n",
      "HOW TO LOOK BEAUTIFUL IN 48 HOURS Making a quick fashion statement just got easier If you have a special event\n",
      "positive\n",
      "\n",
      "RT To honour the launch of the new KrispyKremeSmores we are giving away a gift box full of LotusBiscoff and\n",
      "positive\n",
      "\n",
      "RT Minister Carr in Toronto to talk trade diversification\n",
      "neutral\n",
      "\n",
      "RT If you are a fresher in the IT industry and have these special new age digital skills then you can get double salary http\n",
      "positive\n",
      "\n",
      "RT It s WorldAnimalDay Just RT and FOLLOW for the chance to win an animal themed prize bundle We ve got 3 to giveaway\n",
      "positive\n",
      "\n",
      "RT rewattpower will be speaking GridFWD2018 amp invite you to attend will be participating in the Grid Innovation\n",
      "neutral\n",
      "\n",
      "RT naz 60 TCS 200\n",
      "neutral\n",
      "\n",
      "RT The USMCA rules of origin outcome will ensure that the benefits of the agreement flow to North American automobile and au\n",
      "neutral\n",
      "\n",
      "RT UKI has committed to the Billion Steps Challenge to celebrate turning 50 this year Yesterday joined by UK and Ireland Coun\n",
      "neutral\n",
      "\n",
      "RT Europe During TCSsummit last week we kicked off the Billion Steps Challenge Participants walked and ran a total of 283 168\n",
      "neutral\n",
      "\n",
      "RT How can banks manage the heightened demand for data that comes with FRTB compliance Read this to know what it takes to adapt\n",
      "neutral\n",
      "\n",
      "RT It s WorldAnimalDay Just RT and FOLLOW for the chance to win an animal themed prize bundle We ve got 3 to giveaway\n",
      "positive\n",
      "\n",
      "RT Retailers are personalizing CX through their emails especially when customers are close or in their stores Learn ho\n",
      "neutral\n",
      "\n",
      "RT If you want to know how world s leading orgs are outlining big and bold visions to drive growth and power innovation m\n",
      "positive\n",
      "\n",
      "RT And the jerk Rahul Singh is now free to join chaddi IT cell n Gaurakshak Mandali as has kicked him out Congratulatio\n",
      "positive\n",
      "\n",
      "Good news indeed and congrats to all the investors\n",
      "positive\n",
      "\n",
      "RT It s WorldAnimalDay Just RT and FOLLOW for the chance to win an animal themed prize bundle We ve got 3 to giveaway\n",
      "positive\n",
      "\n",
      "Meet companies CSW18 Fokkerterminal booth 4 1 join networking TCS sdc event\n",
      "neutral\n",
      "\n",
      "Biggest blunder is to skip ESC TCS for Aspire MT You give it in Freestyle and\n",
      "neutral\n",
      "\n",
      "RT WOoOoOoOooOoooO Things are getting spooky in Sylvanian Village Treat yourself to a Baby Trick or Treat Set this Hallo\n",
      "neutral\n",
      "\n",
      "RT To honour the launch of the new KrispyKremeSmores we are giving away a gift box full of LotusBiscoff and\n",
      "positive\n",
      "\n",
      "RT It s WorldAnimalDay Just RT and FOLLOW for the chance to win an animal themed prize bundle We ve got 3 to giveaway\n",
      "positive\n",
      "\n",
      "RT\n",
      "neutral\n",
      "\n",
      "RT This morning released a featured article on the use of new cleantech renewable energy solutions to over\n",
      "positive\n",
      "\n",
      "RT Hey TCS do you care that people like Rahul Singh who are abusive to women to that extant is working in you\n",
      "neutral\n",
      "\n",
      "RT It s WorldAnimalDay Just RT and FOLLOW for the chance to win an animal themed prize bundle We ve got 3 to giveaway\n",
      "positive\n",
      "\n",
      "Precauci n para quienes transitan con sentido hacia el aeropuerto Debido a que el carril est siendo utilizado de\n",
      "neutral\n",
      "\n",
      "TCS Manager Vaibhav Naik Goes from Being Fearful to TOTAL CONFIDENT MAN\n",
      "negative\n",
      "\n",
      "RT\n",
      "neutral\n",
      "\n",
      "RT WOoOoOoOooOoooO Things are getting spooky in Sylvanian Village Treat yourself to a Baby Trick or Treat Set this Hallo\n",
      "neutral\n",
      "\n",
      "RT To honour the launch of the new KrispyKremeSmores we are giving away a gift box full of LotusBiscoff and\n",
      "positive\n",
      "\n",
      "RT\n",
      "neutral\n",
      "\n",
      "TCS UKI TCSDigitalExplorers\n",
      "neutral\n",
      "\n",
      "RT 10 10 7 3\n",
      "neutral\n",
      "\n",
      "RT It s WorldAnimalDay Just RT and FOLLOW for the chance to win an animal themed prize bundle We ve got 3 to giveaway\n",
      "positive\n",
      "\n",
      "RT JI NHK\n",
      "neutral\n",
      "\n",
      "LADBROKES Bet 5 amp Get a 20 Free Bet 18 New UK IRE customers Paypal amp certain deposit bet types excluded Min 5 be\n",
      "positive\n",
      "\n",
      "RT It s WorldAnimalDay Just RT and FOLLOW for the chance to win an animal themed prize bundle We ve got 3 to giveaway\n",
      "positive\n",
      "\n",
      "RT Bukhari1 60 TCS 200\n",
      "neutral\n",
      "\n",
      "TCSDigitalExplorers UKI\n",
      "neutral\n",
      "\n",
      "RT We have TEN copies of the new Taskmaster book to give away RT this tweet and make sure you follow us for your chance to\n",
      "positive\n",
      "\n",
      "RT Time is changing Even Indian business houses have started taking action against abusive Modi Bhakts in social media https\n",
      "positive\n",
      "\n",
      "Thank you for the valuable feedback The reason we have provided different access levels is so th\n",
      "neutral\n",
      "\n",
      "Greetings Champions Hali vipi uliko Karibu kwenye TBT na Di Messy request yako ipi Alafu hii leo nauliza je m\n",
      "negative\n",
      "\n",
      "RT It s WorldAnimalDay Just RT and FOLLOW for the chance to win an animal themed prize bundle We ve got 3 to giveaway\n",
      "positive\n",
      "\n",
      "RT Some heated debate going on We re discussing the pros and cons of different types of technology TCSDigitalExplorers\n",
      "neutral\n",
      "\n",
      "RT UKI has committed to the Billion Steps Challenge to celebrate turning 50 this year Yesterday joined by UK and Ireland Coun\n",
      "neutral\n",
      "\n",
      "The Beatles I Feel Fine from THE BEATLES VOL 3 NowPlaying\n",
      "positive\n",
      "\n",
      "RT Las prisiones y los tribunales de inmigraci n son parte de un sistema aparentemente dise ado para hacer que los inmigrantes s\n",
      "neutral\n",
      "\n",
      "RT Bukhari1 60 TCS 200\n",
      "neutral\n",
      "\n",
      "RT Te compartimos la portada de El Diario de Hoy de este jueves 4 de octubre\n",
      "neutral\n",
      "\n",
      "Meri maa tcs ka naam bhi le\n",
      "neutral\n",
      "\n",
      "Un a o de cambios desde que dejamos TCS Noticias para incorporarnos a tcs cambios en nuestro entorno y en\n",
      "neutral\n",
      "\n",
      "RT It s WorldAnimalDay Just RT and FOLLOW for the chance to win an animal themed prize bundle We ve got 3 to giveaway\n",
      "positive\n",
      "\n",
      "TCS fires employee who was allegedly sending rape and death threats to women via SocialMedia\n",
      "negative\n",
      "\n",
      "RT Canada Ottawa Thinking of taking your innovations abroad Register for our free seminar at CA on Nov 1 to learn how to\n",
      "positive\n",
      "\n",
      "RT It s WorldAnimalDay Just RT and FOLLOW for the chance to win an animal themed prize bundle We ve got 3 to giveaway\n",
      "positive\n",
      "\n",
      "TCS partners Japan s Institute of Industrial Science for research in digital technologies\n",
      "neutral\n",
      "\n",
      "RT It s WorldAnimalDay Just RT and FOLLOW for the chance to win an animal themed prize bundle We ve got 3 to giveaway\n",
      "positive\n",
      "\n",
      "The Beatles Yellow Submarine from THE BEATLES VOL 2 NowPlaying\n",
      "neutral\n",
      "\n",
      "LADBROKES Bet 5 amp Get a 20 Free Bet 18 New UK IRE customers Paypal amp certain deposit bet types excluded Min 5 be\n",
      "positive\n",
      "\n",
      "TCS Manager Vaibhav Naik Goes from Being Fearful to TOTAL CONFIDENT MAN via\n",
      "negative\n",
      "\n",
      "RT TCS doubles pay for new recruits with knowledge of AI Machine Learning\n",
      "positive\n",
      "\n",
      "RT It s WorldAnimalDay Just RT and FOLLOW for the chance to win an animal themed prize bundle We ve got 3 to giveaway\n",
      "positive\n",
      "\n",
      "LADBROKES CASINO 20 Free Spins On Age Of Gods Plus 50 Bonus When You Spend 10 Sign up amp get 20 free spins then de\n",
      "positive\n",
      "\n",
      "Rupee near bottom don t see rupee breaching 74 dollar TCS treasury head\n",
      "positive\n",
      "\n",
      "RT Time is changing Even Indian business houses have started taking action against abusive Modi Bhakts in social media https\n",
      "positive\n",
      "\n",
      "RT To honour the launch of the new KrispyKremeSmores we are giving away a gift box full of LotusBiscoff and\n",
      "positive\n",
      "\n",
      "RT Retailers are personalizing CX through their emails especially when customers are close or in their stores Learn ho\n",
      "neutral\n",
      "\n",
      "NETBET Vegas 100 Bonus Up To 200 10 Free Spins New players 10 deposit required no e wallets prepaid cards 3\n",
      "positive\n",
      "\n",
      "RT At TCS we have zero tolerance towards any act which goes against our core values The employee has been relieved with imme\n",
      "neutral\n",
      "\n",
      "NEW Railway Multan Division Jobs Edu FA Matric Middle age 18 30 Last Date 20 10 18 ishthar application form TCS ki sahulat\n",
      "positive\n",
      "\n",
      "RT Bukhari1 60 TCS 200\n",
      "neutral\n",
      "\n",
      "The Beatles Please Mr Postman from THE BEATLES VOL 3 NowPlaying\n",
      "neutral\n",
      "\n",
      "RT Bukhari1 60 TCS 200\n",
      "neutral\n",
      "\n",
      "RT It s WorldAnimalDay Just RT and FOLLOW for the chance to win an animal themed prize bundle We ve got 3 to giveaway\n",
      "positive\n",
      "\n",
      "RT At TCS we have zero tolerance towards any act which goes against our core values The employee has been relieved with imme\n",
      "neutral\n",
      "\n",
      "RT It s WorldAnimalDay Just RT and FOLLOW for the chance to win an animal themed prize bundle We ve got 3 to giveaway\n",
      "positive\n",
      "\n",
      "RT TCS staffer sacked after he threatened on Facebook to rape and kill two women Companies are cracking down on insensit\n",
      "negative\n",
      "\n",
      "RT Time is changing Even Indian business houses have started taking action against abusive Modi Bhakts in social media https\n",
      "positive\n",
      "\n",
      "RT WOoOoOoOooOoooO Things are getting spooky in Sylvanian Village Treat yourself to a Baby Trick or Treat Set this Hallo\n",
      "neutral\n",
      "\n",
      "TC s Rib Crib 7 50 for 12 Worth of Barbecue for Lunch Dinner or Catering Up to 38\n",
      "positive\n",
      "\n"
     ]
    }
   ],
   "source": [
    "positive = 0\n",
    "negative = 0\n",
    "neutral = 0\n",
    "print(len(public_tweets))\n",
    "for tweet in public_tweets:\n",
    "#     print(tweet.text)\n",
    "    print(clean_tweet(tweet.text))\n",
    "    sentiment = get_tweet_sentiment(tweet.text) \n",
    "    print(sentiment)\n",
    "    if sentiment == 'positive':\n",
    "        positive += 1\n",
    "    elif sentiment == 'negative':\n",
    "        negative += 1\n",
    "    elif sentiment == 'neutral':\n",
    "        neutral += 1\n",
    "    print(\"\")"
   ]
  },
  {
   "cell_type": "code",
   "execution_count": 29,
   "metadata": {},
   "outputs": [
    {
     "name": "stdout",
     "output_type": "stream",
     "text": [
      "Positive: 49\n",
      "Negative: 5\n",
      "Neutral: 46\n"
     ]
    }
   ],
   "source": [
    "print('Positive:', positive)\n",
    "print('Negative:', negative)\n",
    "print('Neutral:', neutral)"
   ]
  }
 ],
 "metadata": {
  "kernelspec": {
   "display_name": "Python 3",
   "language": "python",
   "name": "python3"
  },
  "language_info": {
   "codemirror_mode": {
    "name": "ipython",
    "version": 3
   },
   "file_extension": ".py",
   "mimetype": "text/x-python",
   "name": "python",
   "nbconvert_exporter": "python",
   "pygments_lexer": "ipython3",
   "version": "3.5.4"
  }
 },
 "nbformat": 4,
 "nbformat_minor": 2
}
